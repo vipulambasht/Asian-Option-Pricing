{
 "cells": [
  {
   "cell_type": "markdown",
   "id": "124ed4c7",
   "metadata": {},
   "source": [
    "<p style=\"text-align: center;\"><font size=\"+2\" color=\"navy\"><b><u>ASIAN OPTION PRICING USING GEOMETRIC BROWNIAN MOTION</u></b></font></p>\n",
    "<br>\n",
    "<p style=\"text-align: center;\"><b>VIPUL AMBASHT &emsp; &emsp;&emsp;&emsp;</b></p>"
   ]
  },
  {
   "cell_type": "markdown",
   "id": "ca7117f4",
   "metadata": {},
   "source": [
    "<b><u>Asian Option</u></b>\n",
    "\n",
    "Asian option is an option where the payoff is determined based on the average price of the underlying asset over a certain period of time called Averaging period.\n",
    "\n",
    "Asian options are less sensitive to short-term price fluctuations and can be a good way to hedge against volatility.\n",
    "\n",
    "There are two types of Asian option - Fixed Strike and Floating Strike.\n",
    "\n",
    "<b>Fixed Strike</b> \n",
    "\n",
    "The Strike price is fixed and the payoff is determined by the average price over the period.\n",
    "\n",
    "Call Payout = maximum(0, A-E)\n",
    "\n",
    "Put Payout = maximum(0, E-A)\n",
    "\n",
    "E is the strike price and A is the average Price over the Averaging period.\n",
    "\n",
    "\n",
    "<b>Floating Strike</b>\n",
    "\n",
    "The strike price is floating and is equal to the average price over the period.\n",
    "\n",
    "Call Payout = maximum(0, S[T] - A)\n",
    "\n",
    "Put Payout = maximum(0, A - S[T])\n",
    "\n",
    "E is the strike price and S[T] is the simulated price at t = T (maturity date)."
   ]
  },
  {
   "cell_type": "markdown",
   "id": "c093a564",
   "metadata": {},
   "source": [
    "<b><u>Geometric Brownian Motion</u></b>\n",
    "\n",
    "Geometric Brownian Motion (GBM) is a mathematical model used to describe the random fluctuations of an asset's price over time.\n",
    "\n",
    "GBM applies it to the logarithm of an asset's price. This means the price itself fluctuates exponentially, not linearly.\n",
    "\n",
    "The Geometric Brownian Motion is of the form SDE -\n",
    "\n",
    "$\\frac{d S_t}{d S}=r d t+\\sigma d W_t$"
   ]
  },
  {
   "cell_type": "markdown",
   "id": "637bcec8",
   "metadata": {},
   "source": [
    "The solution of 3 forms for the above SDE are -\n",
    "\n",
    "<p style=\"text-align: left;\">1) Closed form or Exact solution:</p>\n",
    "\n",
    "$S_T=S_0 \\exp \\left\\{\\left(r-\\frac{1}{2} \\sigma^2\\right) T+\\sigma \\phi \\sqrt{T}\\right\\}$<br>\n",
    "for time horizon $T$ with $\\phi \\sim N(0,1)$<br>\n",
    "and $W_t \\sim N(0, t)$ can be written as $\\phi \\sqrt{T}$<br>\n",
    "\n",
    "In time stepping form -<br>\n",
    "$S_{t+\\delta t}=S_t \\exp \\left\\{\\left(r-\\frac{1}{2} \\sigma^2\\right) \\delta t+\\sigma \\phi\\sqrt{\\delta t}\\right\\}$\n",
    "\n",
    "<p style=\"text-align: left;\">2) Euler-Maruyama (E-M) Scheme:</p>\n",
    "    \n",
    "In time stepping form - <br>\n",
    "$\n",
    "\\begin{aligned}\n",
    "& S_{t+\\delta t}=S_t(1+r \\delta t+\\sigma \\phi \\sqrt{\\delta t}) \\\\\n",
    "\\end{aligned}\n",
    "$\n",
    "\n",
    "\n",
    "<p style=\"text-align: left;\">3) Milstein Scheme:</p>\n",
    "\n",
    "It adds Milstein correction i.e. \n",
    "$\n",
    "\\frac{1}{2} \\sigma^2\\left(\\phi^2-1\\right) \\delta t\n",
    "$ to E-M\n",
    "\n",
    "In time stepping form - <br>\n",
    "$\n",
    "\\begin{aligned}\n",
    "& S_{t+\\delta t}=S_t(1+r \\delta t+\\sigma \\phi \\sqrt{\\delta t} + \\frac{1}{2} \\sigma^2\\left(\\phi^2-1\\right) \\delta t)\n",
    "\\end{aligned}\n",
    "$\n",
    "\n",
    "\n",
    "Closed form solution assumes constant parameters and provides direct and exact solution. E-M and Milstein schemes are numerical methods and can simulate GBM for any set of values, but they introduce approximation errors that decrease with time step. Milstein scheme is more accurate with higher order of convergence than E-M, but it requires more computational resource than E-M scheme."
   ]
  },
  {
   "cell_type": "markdown",
   "id": "97650264",
   "metadata": {},
   "source": [
    "\n",
    "<u><b>APPROACH OF THE PROBLEM IN PYTHON CODE -</b></u>\n",
    "\n",
    "In Python we will define simulate_path for the above 3 methods:\n",
    "\n",
    "1) Exact solution or Closed Form Solution -> S[i+1] = S[i] * exp((r - 0.5 * sigma * sigma) * dt + sigma * sqrt(dt) * w)\n",
    "\n",
    "2) E-M solution -> S[i+1] = S[i] * (1 + r * dt + sigma * sqrt(dt) * w)\n",
    "\n",
    "3) Milstein solution -> S[i+1] = S[i] * (1 + r * dt + sigma * sqrt(dt) * w + 0.5 * sigma * sigma * (w * w - 1) * dt)\n",
    "\n",
    "where w is the wiener process ~ N(0,1) (normally distributed with mean 0, and standard deviation 1)\n",
    "\n",
    "<br/>\n",
    "\n",
    "Then find the Asian Option payoff for each 1,2 and 3 above in following manner -\n",
    "\n",
    "STEP 1 - Find Average value A(T).\n",
    "\n",
    "There are 4 ways to find A(T):\n",
    "\n",
    "i) Arithmetic average - Discrete Sampling -> A = $ \\frac{1}{n} \\sum_{i=1}^n S\\left(t_i\\right) $\n",
    "\n",
    "ii) Arithmetic average - Continuous Sampling -> A = $ \\frac{1}{T} \\int_0^T S(t) d t $\n",
    "\n",
    "iii) Geometric average - Discrete Sampling -> A = $ \\left(\\prod_{i=1}^n S\\left(t_i\\right)\\right)^{1 / n} $\n",
    "\n",
    "iv) Geometric average - Continuous Sampling -> A = $ \\exp \\left(\\frac{1}{T} \\int_0^T \\ln (S(t)) d t\\right) $\n",
    "\n",
    "<br/>\n",
    "\n",
    "STEP 2 - Find the Value V(T) of Call and Put at t=T and from it get value of V(0) at t= 0 as $ e^{-r T} $V(T).\n",
    "\n",
    "There are two types of Asian option - Fixed Strike and Floating Strike. The value is found as below  -\n",
    "\n",
    "For Fixed Strike -\n",
    "\n",
    "C(0) = exp(-r * T) * mean(maximum(0, A-E))\n",
    "\n",
    "P(0) = exp(-r * T) * mean(maximum(0, E-A))\n",
    "\n",
    "\n",
    "For Floating Strike -\n",
    "\n",
    "C(0) = exp(-r * T) * mean(maximum(0, S[T] - A))\n",
    "\n",
    "P(0) = exp(-r * T) * mean(maximum(0, A - S[T]))\n",
    "\n",
    "E is the strike price and S[T] is the simulated price at t = T.\n",
    "\n",
    "<br/>\n",
    "\n",
    "STEP 3 - Vary the value of E and T in the above Steps to see the effect -\n",
    "\n",
    "E = 80, 90, 100, 110, 120\n",
    "\n",
    "T = 0.25, 0.5, 1, 1.5, 2.0 yrs\n",
    "\n"
   ]
  },
  {
   "cell_type": "code",
   "execution_count": 1,
   "id": "5b351d9a",
   "metadata": {},
   "outputs": [],
   "source": [
    "# Importing libraries\n",
    "import pandas as pd\n",
    "from numpy import *\n",
    "import matplotlib.pyplot as plt\n",
    "import statistics\n",
    "from scipy.stats import gmean\n",
    "\n",
    "from math import cos, exp, pi, exp\n",
    "from scipy.integrate import quad"
   ]
  },
  {
   "cell_type": "markdown",
   "id": "775c06f5",
   "metadata": {},
   "source": [
    "<b>1) EXACT SOLUTION OR CLOSED FORM SOLUTION </b>"
   ]
  },
  {
   "cell_type": "code",
   "execution_count": 2,
   "id": "0d6bc741",
   "metadata": {},
   "outputs": [],
   "source": [
    "# define simulation function for exact solution\n",
    "\n",
    "def simulate_path_exact(s0, mu, sigma, horizon, timesteps, n_sims):\n",
    "\n",
    "    # set the random seed for reproducibility\n",
    "    random.seed(10000)\n",
    "\n",
    "    # read parameters\n",
    "    S0 = s0                 # initial spot price\n",
    "    r = mu                  # mu = rf in risk neutral framework\n",
    "    T = horizon             # time horizon\n",
    "    t = timesteps           # number of time steps\n",
    "    n = n_sims              # number of simulation\n",
    "\n",
    "    # define dt\n",
    "    dt = T/t                # length of time interval\n",
    "\n",
    "    # simulate 'n' asset price path with 't' timesteps\n",
    "    \n",
    "    S = zeros((t,n))\n",
    "    S[0] = S0\n",
    "\n",
    "    for i in range(0, t-1):\n",
    "        w = random.standard_normal(n)\n",
    "        S[i+1] = S[i] * (2.718281828459045 ** ((r - 0.5 * sigma * sigma) * dt + sigma * sqrt(dt) * w))\n",
    "\n",
    "    return S\n",
    "# using approx. vale of exp as (2.718281828459045 ^)"
   ]
  },
  {
   "cell_type": "code",
   "execution_count": 3,
   "id": "fdbd5378",
   "metadata": {},
   "outputs": [
    {
     "name": "stdout",
     "output_type": "stream",
     "text": [
      "Simulated Stock Price for 1 year period-\n"
     ]
    },
    {
     "data": {
      "text/plain": [
       "array([[100.        , 100.        , 100.        , ..., 100.        ,\n",
       "        100.        , 100.        ],\n",
       "       [ 98.42304727, 100.23409018,  99.63935908, ..., 100.00948691,\n",
       "         99.53921833,  99.92087022],\n",
       "       [ 97.06603649,  99.70458951,  97.63076597, ...,  99.0653992 ,\n",
       "        101.47530605, 101.16121655],\n",
       "       ...,\n",
       "       [123.48139421,  75.68397358, 129.65785744, ..., 107.24642044,\n",
       "        117.02921333,  88.09330239],\n",
       "       [120.42557375,  74.54061262, 129.85757523, ..., 105.38005486,\n",
       "        119.28547181,  90.15484782],\n",
       "       [121.04176376,  74.27411087, 130.49423239, ..., 107.48385776,\n",
       "        119.38576023,  86.89800955]])"
      ]
     },
     "execution_count": 3,
     "metadata": {},
     "output_type": "execute_result"
    }
   ],
   "source": [
    "# Define parameters\n",
    "E=100; T=1; r=0.05\n",
    "\n",
    "# Call the simulation function - s0=100,  mu=rf=0.05(5%), sigma=vol=0.2(20%), horizon=T=T year, timesteps=252,\n",
    "# n_sims=number of simultaions=100000\n",
    "S = simulate_path_exact(100,0.05,0.2,T,252,100000)\n",
    "\n",
    "print(\"Simulated Stock Price for 1 year period-\")\n",
    "S"
   ]
  },
  {
   "cell_type": "markdown",
   "id": "9f25bcf9",
   "metadata": {},
   "source": [
    "Check Stock Price at T = 1 year -"
   ]
  },
  {
   "cell_type": "code",
   "execution_count": 4,
   "id": "1cb9dd20",
   "metadata": {},
   "outputs": [
    {
     "data": {
      "text/plain": [
       "array([121.04176376,  74.27411087, 130.49423239, ..., 107.48385776,\n",
       "       119.38576023,  86.89800955])"
      ]
     },
     "execution_count": 4,
     "metadata": {},
     "output_type": "execute_result"
    }
   ],
   "source": [
    "S[251]"
   ]
  },
  {
   "cell_type": "markdown",
   "id": "129e4a11",
   "metadata": {},
   "source": [
    "<b>i) Arithmetic average - Discrete Sampling</b>"
   ]
  },
  {
   "cell_type": "code",
   "execution_count": 5,
   "id": "4c9e9080",
   "metadata": {},
   "outputs": [],
   "source": [
    "def asian_arth_dis(E,T):\n",
    "    \n",
    "    r = 0.05\n",
    "    timesteps = int (252 * T)\n",
    "    S = simulate_path_exact(100,0.05,0.2,T,timesteps,100000)\n",
    "    # Average price\n",
    "    A = S.mean(axis=0)\n",
    "    \n",
    "    C0 = exp(-r*T) * mean(maximum(0, A-E))\n",
    "    P0 = exp(-r*T) * mean(maximum(0, E-A))\n",
    "    \n",
    "    C1 = exp(-r*T) * mean(maximum(0, S[timesteps-1]-A))\n",
    "    P1 = exp(-r*T) * mean(maximum(0, A-S[timesteps-1]))\n",
    "\n",
    "    return C0, P0, C1, P1\n"
   ]
  },
  {
   "cell_type": "code",
   "execution_count": 6,
   "id": "074f5923",
   "metadata": {},
   "outputs": [
    {
     "name": "stdout",
     "output_type": "stream",
     "text": [
      "Asian Call Option Value for Fixed Strike - Arithmetic average - Discrete Sampling is 5.7215\n",
      "Asian Put Option Value for Fixed Strike - Arithmetic average - Discrete Sampling is 3.3321\n",
      "Asian Call Option Value for Floating Strike - Arithmetic average - Discrete Sampling is 5.8127\n",
      "Asian Put Option Value for Floating Strike - Arithmetic average - Discrete Sampling is 3.4191\n"
     ]
    }
   ],
   "source": [
    " # Print the values\n",
    "C0, P0, C1, P1 = asian_arth_dis(100,1)\n",
    "print(f\"Asian Call Option Value for Fixed Strike - Arithmetic average - Discrete Sampling is {C0:0.4f}\")\n",
    "print(f\"Asian Put Option Value for Fixed Strike - Arithmetic average - Discrete Sampling is {P0:0.4f}\")\n",
    "print(f\"Asian Call Option Value for Floating Strike - Arithmetic average - Discrete Sampling is {C1:0.4f}\")\n",
    "print(f\"Asian Put Option Value for Floating Strike - Arithmetic average - Discrete Sampling is {P1:0.4f}\")"
   ]
  },
  {
   "cell_type": "code",
   "execution_count": 7,
   "id": "5caa2e42",
   "metadata": {},
   "outputs": [],
   "source": [
    "# Vary the value of E and T in the above Steps to see the effect\n",
    "\n",
    "E = [80,90,100,110,120]\n",
    "T = [0.25,0.5,1,1.5,2]"
   ]
  },
  {
   "cell_type": "code",
   "execution_count": 8,
   "id": "f5135d12",
   "metadata": {},
   "outputs": [],
   "source": [
    "c0_arr=[]\n",
    "p0_arr=[]\n",
    "c1_arr=[]\n",
    "p1_arr=[]\n",
    "data_call_fixed=[]\n",
    "data_put_fixed=[]\n",
    "data_call_float=[]\n",
    "data_put_float=[]\n",
    "\n",
    "for j in range(0, 5):\n",
    "    for k in range(0, 5):\n",
    "        c0, p0, c1, p1 = asian_arth_dis(E[j],T[k])\n",
    "        c0_arr.append(c0)\n",
    "        p0_arr.append(p0)\n",
    "        c1_arr.append(c1)\n",
    "        p1_arr.append(p1)\n",
    "        x0=[E[j],T[k],c0]\n",
    "        y0=[E[j],T[k],p0]\n",
    "        x1=[T[k],c1]\n",
    "        y1=[T[k],p1]\n",
    "        data_call_fixed.append(x0)\n",
    "        data_put_fixed.append(y0)\n",
    "        data_call_float.append(x1)\n",
    "        data_put_float.append(y1)\n"
   ]
  },
  {
   "cell_type": "code",
   "execution_count": 9,
   "id": "2c3a8e7d",
   "metadata": {},
   "outputs": [
    {
     "name": "stdout",
     "output_type": "stream",
     "text": [
      "Call Price for Fixed Strike - Arithmetic average - Discrete Sampling with varying Strike Price and Time to Maturity is -\n"
     ]
    },
    {
     "data": {
      "text/html": [
       "<div>\n",
       "<style scoped>\n",
       "    .dataframe tbody tr th:only-of-type {\n",
       "        vertical-align: middle;\n",
       "    }\n",
       "\n",
       "    .dataframe tbody tr th {\n",
       "        vertical-align: top;\n",
       "    }\n",
       "\n",
       "    .dataframe thead th {\n",
       "        text-align: right;\n",
       "    }\n",
       "</style>\n",
       "<table border=\"1\" class=\"dataframe\">\n",
       "  <thead>\n",
       "    <tr style=\"text-align: right;\">\n",
       "      <th>Time to Maturity</th>\n",
       "      <th>0.25</th>\n",
       "      <th>0.50</th>\n",
       "      <th>1.00</th>\n",
       "      <th>1.50</th>\n",
       "      <th>2.00</th>\n",
       "    </tr>\n",
       "    <tr>\n",
       "      <th>Strike Price</th>\n",
       "      <th></th>\n",
       "      <th></th>\n",
       "      <th></th>\n",
       "      <th></th>\n",
       "      <th></th>\n",
       "    </tr>\n",
       "  </thead>\n",
       "  <tbody>\n",
       "    <tr>\n",
       "      <th>80</th>\n",
       "      <td>20.350260</td>\n",
       "      <td>20.720709</td>\n",
       "      <td>21.460755</td>\n",
       "      <td>22.224591</td>\n",
       "      <td>22.988561</td>\n",
       "    </tr>\n",
       "    <tr>\n",
       "      <th>90</th>\n",
       "      <td>10.522069</td>\n",
       "      <td>11.197748</td>\n",
       "      <td>12.551922</td>\n",
       "      <td>13.816962</td>\n",
       "      <td>14.983601</td>\n",
       "    </tr>\n",
       "    <tr>\n",
       "      <th>100</th>\n",
       "      <td>2.565844</td>\n",
       "      <td>3.816653</td>\n",
       "      <td>5.721539</td>\n",
       "      <td>7.288669</td>\n",
       "      <td>8.678395</td>\n",
       "    </tr>\n",
       "    <tr>\n",
       "      <th>110</th>\n",
       "      <td>0.155643</td>\n",
       "      <td>0.688925</td>\n",
       "      <td>1.968488</td>\n",
       "      <td>3.248592</td>\n",
       "      <td>4.476239</td>\n",
       "    </tr>\n",
       "    <tr>\n",
       "      <th>120</th>\n",
       "      <td>0.001808</td>\n",
       "      <td>0.065463</td>\n",
       "      <td>0.520574</td>\n",
       "      <td>1.241753</td>\n",
       "      <td>2.081514</td>\n",
       "    </tr>\n",
       "  </tbody>\n",
       "</table>\n",
       "</div>"
      ],
      "text/plain": [
       "Time to Maturity       0.25       0.50       1.00       1.50       2.00\n",
       "Strike Price                                                           \n",
       "80                20.350260  20.720709  21.460755  22.224591  22.988561\n",
       "90                10.522069  11.197748  12.551922  13.816962  14.983601\n",
       "100                2.565844   3.816653   5.721539   7.288669   8.678395\n",
       "110                0.155643   0.688925   1.968488   3.248592   4.476239\n",
       "120                0.001808   0.065463   0.520574   1.241753   2.081514"
      ]
     },
     "execution_count": 9,
     "metadata": {},
     "output_type": "execute_result"
    }
   ],
   "source": [
    "print(\"Call Price for Fixed Strike - Arithmetic average - Discrete Sampling with varying Strike Price and Time to Maturity is -\")       \n",
    "\n",
    "# read it into a dataframe:\n",
    "df_call = pd.DataFrame(data_call_fixed, columns=['Strike Price','Time to Maturity','Call Price'])\n",
    "\n",
    "# create pivot table with x and rows, y and columns, z as values\n",
    "df_call.pivot_table(values='Call Price', index='Strike Price', columns='Time to Maturity') "
   ]
  },
  {
   "cell_type": "code",
   "execution_count": 10,
   "id": "9069dc7a",
   "metadata": {},
   "outputs": [
    {
     "name": "stdout",
     "output_type": "stream",
     "text": [
      "Put Price for Fixed Strike - Arithmetic average - Discrete Sampling with varying Strike Price and Time to Maturity is -\n"
     ]
    },
    {
     "data": {
      "text/html": [
       "<div>\n",
       "<style scoped>\n",
       "    .dataframe tbody tr th:only-of-type {\n",
       "        vertical-align: middle;\n",
       "    }\n",
       "\n",
       "    .dataframe tbody tr th {\n",
       "        vertical-align: top;\n",
       "    }\n",
       "\n",
       "    .dataframe thead th {\n",
       "        text-align: right;\n",
       "    }\n",
       "</style>\n",
       "<table border=\"1\" class=\"dataframe\">\n",
       "  <thead>\n",
       "    <tr style=\"text-align: right;\">\n",
       "      <th>Time to Maturity</th>\n",
       "      <th>0.25</th>\n",
       "      <th>0.50</th>\n",
       "      <th>1.00</th>\n",
       "      <th>1.50</th>\n",
       "      <th>2.00</th>\n",
       "    </tr>\n",
       "    <tr>\n",
       "      <th>Strike Price</th>\n",
       "      <th></th>\n",
       "      <th></th>\n",
       "      <th></th>\n",
       "      <th></th>\n",
       "      <th></th>\n",
       "    </tr>\n",
       "  </thead>\n",
       "  <tbody>\n",
       "    <tr>\n",
       "      <th>80</th>\n",
       "      <td>0.000014</td>\n",
       "      <td>0.002996</td>\n",
       "      <td>0.046697</td>\n",
       "      <td>0.131082</td>\n",
       "      <td>0.234792</td>\n",
       "    </tr>\n",
       "    <tr>\n",
       "      <th>90</th>\n",
       "      <td>0.047601</td>\n",
       "      <td>0.233133</td>\n",
       "      <td>0.650158</td>\n",
       "      <td>1.000888</td>\n",
       "      <td>1.278207</td>\n",
       "    </tr>\n",
       "    <tr>\n",
       "      <th>100</th>\n",
       "      <td>1.967154</td>\n",
       "      <td>2.605137</td>\n",
       "      <td>3.332069</td>\n",
       "      <td>3.750030</td>\n",
       "      <td>4.021375</td>\n",
       "    </tr>\n",
       "    <tr>\n",
       "      <th>110</th>\n",
       "      <td>9.432732</td>\n",
       "      <td>9.230509</td>\n",
       "      <td>9.091312</td>\n",
       "      <td>8.987388</td>\n",
       "      <td>8.867592</td>\n",
       "    </tr>\n",
       "    <tr>\n",
       "      <th>120</th>\n",
       "      <td>19.154674</td>\n",
       "      <td>18.360145</td>\n",
       "      <td>17.155692</td>\n",
       "      <td>16.257983</td>\n",
       "      <td>15.521242</td>\n",
       "    </tr>\n",
       "  </tbody>\n",
       "</table>\n",
       "</div>"
      ],
      "text/plain": [
       "Time to Maturity       0.25       0.50       1.00       1.50       2.00\n",
       "Strike Price                                                           \n",
       "80                 0.000014   0.002996   0.046697   0.131082   0.234792\n",
       "90                 0.047601   0.233133   0.650158   1.000888   1.278207\n",
       "100                1.967154   2.605137   3.332069   3.750030   4.021375\n",
       "110                9.432732   9.230509   9.091312   8.987388   8.867592\n",
       "120               19.154674  18.360145  17.155692  16.257983  15.521242"
      ]
     },
     "execution_count": 10,
     "metadata": {},
     "output_type": "execute_result"
    }
   ],
   "source": [
    "print(\"Put Price for Fixed Strike - Arithmetic average - Discrete Sampling with varying Strike Price and Time to Maturity is -\")       \n",
    "\n",
    "# read it into a dataframe:\n",
    "df_put = pd.DataFrame(data_put_fixed, columns=['Strike Price','Time to Maturity','Put Price'])\n",
    "\n",
    "# create pivot table with x and rows, y and columns, z as values\n",
    "df_put.pivot_table(values='Put Price', index='Strike Price', columns='Time to Maturity') "
   ]
  },
  {
   "cell_type": "code",
   "execution_count": 11,
   "id": "7b28e0ae",
   "metadata": {},
   "outputs": [
    {
     "name": "stdout",
     "output_type": "stream",
     "text": [
      "Call Price for Float Strike - Arithmetic average - Discrete Sampling with varying Strike Price and Time to Maturity is -\n"
     ]
    },
    {
     "data": {
      "text/html": [
       "<div>\n",
       "<style scoped>\n",
       "    .dataframe tbody tr th:only-of-type {\n",
       "        vertical-align: middle;\n",
       "    }\n",
       "\n",
       "    .dataframe tbody tr th {\n",
       "        vertical-align: top;\n",
       "    }\n",
       "\n",
       "    .dataframe thead th {\n",
       "        text-align: right;\n",
       "    }\n",
       "</style>\n",
       "<table border=\"1\" class=\"dataframe\">\n",
       "  <thead>\n",
       "    <tr style=\"text-align: right;\">\n",
       "      <th>Time to Maturity</th>\n",
       "      <th>0.25</th>\n",
       "      <th>0.50</th>\n",
       "      <th>1.00</th>\n",
       "      <th>1.50</th>\n",
       "      <th>2.00</th>\n",
       "    </tr>\n",
       "  </thead>\n",
       "  <tbody>\n",
       "    <tr>\n",
       "      <th>Call Price</th>\n",
       "      <td>2.587944</td>\n",
       "      <td>3.870503</td>\n",
       "      <td>5.812748</td>\n",
       "      <td>7.536581</td>\n",
       "      <td>8.99344</td>\n",
       "    </tr>\n",
       "  </tbody>\n",
       "</table>\n",
       "</div>"
      ],
      "text/plain": [
       "Time to Maturity      0.25      0.50      1.00      1.50     2.00\n",
       "Call Price        2.587944  3.870503  5.812748  7.536581  8.99344"
      ]
     },
     "execution_count": 11,
     "metadata": {},
     "output_type": "execute_result"
    }
   ],
   "source": [
    "print(\"Call Price for Float Strike - Arithmetic average - Discrete Sampling with varying Strike Price and Time to Maturity is -\")       \n",
    "\n",
    "# read it into a dataframe:\n",
    "df_call = pd.DataFrame(data_call_float, columns=['Time to Maturity','Call Price'])\n",
    "\n",
    "# create pivot table with x and rows, y and columns, z as values\n",
    "df_call.pivot_table(values='Call Price', columns='Time to Maturity') "
   ]
  },
  {
   "cell_type": "code",
   "execution_count": 12,
   "id": "31a21d12",
   "metadata": {},
   "outputs": [
    {
     "name": "stdout",
     "output_type": "stream",
     "text": [
      "Put Price for Float Strike - Arithmetic average - Discrete Sampling with varying Strike Price and Time to Maturity is -\n"
     ]
    },
    {
     "data": {
      "text/html": [
       "<div>\n",
       "<style scoped>\n",
       "    .dataframe tbody tr th:only-of-type {\n",
       "        vertical-align: middle;\n",
       "    }\n",
       "\n",
       "    .dataframe tbody tr th {\n",
       "        vertical-align: top;\n",
       "    }\n",
       "\n",
       "    .dataframe thead th {\n",
       "        text-align: right;\n",
       "    }\n",
       "</style>\n",
       "<table border=\"1\" class=\"dataframe\">\n",
       "  <thead>\n",
       "    <tr style=\"text-align: right;\">\n",
       "      <th>Time to Maturity</th>\n",
       "      <th>0.25</th>\n",
       "      <th>0.50</th>\n",
       "      <th>1.00</th>\n",
       "      <th>1.50</th>\n",
       "      <th>2.00</th>\n",
       "    </tr>\n",
       "  </thead>\n",
       "  <tbody>\n",
       "    <tr>\n",
       "      <th>Put Price</th>\n",
       "      <td>1.959015</td>\n",
       "      <td>2.619034</td>\n",
       "      <td>3.419134</td>\n",
       "      <td>3.846494</td>\n",
       "      <td>4.169033</td>\n",
       "    </tr>\n",
       "  </tbody>\n",
       "</table>\n",
       "</div>"
      ],
      "text/plain": [
       "Time to Maturity      0.25      0.50      1.00      1.50      2.00\n",
       "Put Price         1.959015  2.619034  3.419134  3.846494  4.169033"
      ]
     },
     "execution_count": 12,
     "metadata": {},
     "output_type": "execute_result"
    }
   ],
   "source": [
    "print(\"Put Price for Float Strike - Arithmetic average - Discrete Sampling with varying Strike Price and Time to Maturity is -\")       \n",
    "\n",
    "# read it into a dataframe:\n",
    "df_put = pd.DataFrame(data_put_float, columns=['Time to Maturity','Put Price'])\n",
    "\n",
    "# create pivot table with x and rows, y and columns, z as values\n",
    "df_put.pivot_table(values='Put Price', columns='Time to Maturity') "
   ]
  },
  {
   "cell_type": "markdown",
   "id": "dc8facfd",
   "metadata": {},
   "source": [
    "<b>ii) Arithmetic average - Continuous Sampling</b>"
   ]
  },
  {
   "cell_type": "markdown",
   "id": "f5eeeae8",
   "metadata": {},
   "source": [
    "For Integration of Stochastic equation we will use following concept -\n",
    "\n",
    "Let us say F is a stochastic Function depending on dt and dw. The Integral with respect to dt will be the Expected value of Area under the curve F.\n",
    "\n",
    "F being a stochastic process can follow different paths. So we will first find the Area for each path and then find mean of all the Areas belonging to different simulated paths (as given in image below).\n",
    "\n",
    "Area under the curve can be calculated as sum of each strip (as given in image below)."
   ]
  },
  {
   "cell_type": "markdown",
   "id": "a8a0cfbe",
   "metadata": {},
   "source": [
    "![](Stochastic_Integration.png)"
   ]
  },
  {
   "cell_type": "code",
   "execution_count": 13,
   "id": "1bc9fc71",
   "metadata": {},
   "outputs": [],
   "source": [
    "# define simulation function for exact solution and find Area A\n",
    "\n",
    "def simulate_path_exact_integral_arth_cont(s0, mu, sigma, horizon, timesteps, n_sims):\n",
    "\n",
    "    # set the random seed for reproducibility\n",
    "    random.seed(10000)\n",
    "\n",
    "    # read parameters\n",
    "    S0 = s0                 # initial spot price\n",
    "    r = mu                  # mu = rf in risk neutral framework\n",
    "    T = horizon             # time horizon\n",
    "    t = timesteps           # number of time steps\n",
    "    n = n_sims              # number of simulation\n",
    "\n",
    "    # define dt\n",
    "    dt = T/t                # length of time interval\n",
    "\n",
    "    # simulate 'n' asset price path with 't' timesteps\n",
    "    \n",
    "    S = zeros((t,n))\n",
    "    A = zeros((t,n))\n",
    "    S[0] = S0\n",
    "    A[0] = 0\n",
    "\n",
    "    for i in range(0, t-1):\n",
    "        w = random.standard_normal(n)\n",
    "        S[i+1] = S[i] * (2.718281828459045 ** ((r - 0.5 * sigma * sigma) * dt + sigma * sqrt(dt) * w))\n",
    "        A[i] = S[i] * dt\n",
    "\n",
    "    return S, A\n",
    "# using approx. vale of exp as (2.718281828459045 ^)"
   ]
  },
  {
   "cell_type": "markdown",
   "id": "c4f672b3",
   "metadata": {},
   "source": [
    "Array of areas covered by different paths for T = 1 year -"
   ]
  },
  {
   "cell_type": "code",
   "execution_count": 14,
   "id": "770557d4",
   "metadata": {},
   "outputs": [
    {
     "data": {
      "text/plain": [
       "array([[0.3968254 , 0.3968254 , 0.3968254 , ..., 0.3968254 , 0.3968254 ,\n",
       "        0.3968254 ],\n",
       "       [0.39056765, 0.39775433, 0.39539428, ..., 0.39686304, 0.3949969 ,\n",
       "        0.39651139],\n",
       "       [0.38518268, 0.39565313, 0.38742367, ..., 0.39311666, 0.40267979,\n",
       "        0.4014334 ],\n",
       "       ...,\n",
       "       [0.49000553, 0.30033323, 0.51451531, ..., 0.42558103, 0.46440164,\n",
       "        0.3495766 ],\n",
       "       [0.47787926, 0.29579608, 0.51530784, ..., 0.41817482, 0.47335505,\n",
       "        0.35775733],\n",
       "       [0.        , 0.        , 0.        , ..., 0.        , 0.        ,\n",
       "        0.        ]])"
      ]
     },
     "execution_count": 14,
     "metadata": {},
     "output_type": "execute_result"
    }
   ],
   "source": [
    "# Define parameters\n",
    "E=100; T=1; r=0.05\n",
    "\n",
    "# Call the simulation function - s0=100,  mu=rf=0.05(5%), sigma=vol=0.2(20%), horizon=T=T year, timesteps=252,\n",
    "# n_sims=number of simultaions=100000\n",
    "S, S_area = simulate_path_exact_integral_arth_cont(100,0.05,0.2,T,252,100000)\n",
    "\n",
    "S_area"
   ]
  },
  {
   "cell_type": "markdown",
   "id": "062ba8b9",
   "metadata": {},
   "source": [
    "Check random Stock Prices created for the period T = 1 year -"
   ]
  },
  {
   "cell_type": "code",
   "execution_count": 15,
   "id": "934eb91b",
   "metadata": {},
   "outputs": [
    {
     "data": {
      "text/plain": [
       "array([[100.        , 100.        , 100.        , ..., 100.        ,\n",
       "        100.        , 100.        ],\n",
       "       [ 98.42304727, 100.23409018,  99.63935908, ..., 100.00948691,\n",
       "         99.53921833,  99.92087022],\n",
       "       [ 97.06603649,  99.70458951,  97.63076597, ...,  99.0653992 ,\n",
       "        101.47530605, 101.16121655],\n",
       "       ...,\n",
       "       [123.48139421,  75.68397358, 129.65785744, ..., 107.24642044,\n",
       "        117.02921333,  88.09330239],\n",
       "       [120.42557375,  74.54061262, 129.85757523, ..., 105.38005486,\n",
       "        119.28547181,  90.15484782],\n",
       "       [121.04176376,  74.27411087, 130.49423239, ..., 107.48385776,\n",
       "        119.38576023,  86.89800955]])"
      ]
     },
     "execution_count": 15,
     "metadata": {},
     "output_type": "execute_result"
    }
   ],
   "source": [
    "S"
   ]
  },
  {
   "cell_type": "code",
   "execution_count": 16,
   "id": "b5c11165",
   "metadata": {},
   "outputs": [],
   "source": [
    "def asian_arth_cont(E,T):\n",
    "    \n",
    "    r = 0.05\n",
    "    timesteps = int (252 * T)\n",
    "    S, S_area = simulate_path_exact_integral_arth_cont(100,0.05,0.2,T,timesteps,100000)\n",
    "    # Average price\n",
    "    A = (1/T)*S_area.sum(axis=0)\n",
    "    \n",
    "    C0 = exp(-r*T) * mean(maximum(0, A-E))\n",
    "    P0 = exp(-r*T) * mean(maximum(0, E-A))\n",
    "    \n",
    "    C1 = exp(-r*T) * mean(maximum(0, S[timesteps-1]-A))\n",
    "    P1 = exp(-r*T) * mean(maximum(0, A-S[timesteps-1]))\n",
    "\n",
    "    return C0, P0, C1, P1"
   ]
  },
  {
   "cell_type": "code",
   "execution_count": 17,
   "id": "1f8c3983",
   "metadata": {},
   "outputs": [
    {
     "name": "stdout",
     "output_type": "stream",
     "text": [
      "Asian Call Option Value for Fixed Strike - Arithmetic average - Continuous Sampling is 5.4769\n",
      "Asian Put Option Value for Fixed Strike - Arithmetic average - Continuous Sampling is 3.4838\n",
      "Asian Call Option Value for Float Strike - Arithmetic average - Continuous Sampling is 6.0575\n",
      "Asian Put Option Value for Float Strike - Arithmetic average - Continuous Sampling is 3.2675\n"
     ]
    }
   ],
   "source": [
    " # Print the values\n",
    "C0, P0, C1, P1 = asian_arth_cont(100,1)\n",
    "print(f\"Asian Call Option Value for Fixed Strike - Arithmetic average - Continuous Sampling is {C0:0.4f}\")\n",
    "print(f\"Asian Put Option Value for Fixed Strike - Arithmetic average - Continuous Sampling is {P0:0.4f}\")\n",
    "print(f\"Asian Call Option Value for Float Strike - Arithmetic average - Continuous Sampling is {C1:0.4f}\")\n",
    "print(f\"Asian Put Option Value for Float Strike - Arithmetic average - Continuous Sampling is {P1:0.4f}\")"
   ]
  },
  {
   "cell_type": "code",
   "execution_count": 18,
   "id": "5627e86e",
   "metadata": {},
   "outputs": [],
   "source": [
    "# Vary the value of E and T in the above Steps to see the effect\n",
    "\n",
    "E = [80,90,100,110,120]\n",
    "T = [0.25,0.5,1,1.5,2]"
   ]
  },
  {
   "cell_type": "code",
   "execution_count": 19,
   "id": "717c179e",
   "metadata": {},
   "outputs": [],
   "source": [
    "c0_arr=[]\n",
    "p0_arr=[]\n",
    "c1_arr=[]\n",
    "p1_arr=[]\n",
    "data_call_fixed=[]\n",
    "data_put_fixed=[]\n",
    "data_call_float=[]\n",
    "data_put_float=[]\n",
    "\n",
    "for j in range(0, 5):\n",
    "    for k in range(0, 5):\n",
    "        c0, p0, c1, p1 = asian_arth_cont(E[j],T[k])\n",
    "        c0_arr.append(c0)\n",
    "        p0_arr.append(p0)\n",
    "        c1_arr.append(c1)\n",
    "        p1_arr.append(p1)\n",
    "        x0=[E[j],T[k],c0]\n",
    "        y0=[E[j],T[k],p0]\n",
    "        x1=[T[k],c1]\n",
    "        y1=[T[k],p1]\n",
    "        data_call_fixed.append(x0)\n",
    "        data_put_fixed.append(y0)\n",
    "        data_call_float.append(x1)\n",
    "        data_put_float.append(y1)\n"
   ]
  },
  {
   "cell_type": "code",
   "execution_count": 20,
   "id": "fa3bd289",
   "metadata": {},
   "outputs": [
    {
     "name": "stdout",
     "output_type": "stream",
     "text": [
      "Call Price for Fixed Strike - Arithmetic average - Continuous Sampling with varying Strike Price and Time to Maturity is -\n"
     ]
    },
    {
     "data": {
      "text/html": [
       "<div>\n",
       "<style scoped>\n",
       "    .dataframe tbody tr th:only-of-type {\n",
       "        vertical-align: middle;\n",
       "    }\n",
       "\n",
       "    .dataframe tbody tr th {\n",
       "        vertical-align: top;\n",
       "    }\n",
       "\n",
       "    .dataframe thead th {\n",
       "        text-align: right;\n",
       "    }\n",
       "</style>\n",
       "<table border=\"1\" class=\"dataframe\">\n",
       "  <thead>\n",
       "    <tr style=\"text-align: right;\">\n",
       "      <th>Time to Maturity</th>\n",
       "      <th>0.25</th>\n",
       "      <th>0.50</th>\n",
       "      <th>1.00</th>\n",
       "      <th>1.50</th>\n",
       "      <th>2.00</th>\n",
       "    </tr>\n",
       "    <tr>\n",
       "      <th>Strike Price</th>\n",
       "      <th></th>\n",
       "      <th></th>\n",
       "      <th></th>\n",
       "      <th></th>\n",
       "      <th></th>\n",
       "    </tr>\n",
       "  </thead>\n",
       "  <tbody>\n",
       "    <tr>\n",
       "      <th>80</th>\n",
       "      <td>18.763226</td>\n",
       "      <td>19.928211</td>\n",
       "      <td>21.068498</td>\n",
       "      <td>21.965859</td>\n",
       "      <td>22.796531</td>\n",
       "    </tr>\n",
       "    <tr>\n",
       "      <th>90</th>\n",
       "      <td>8.981971</td>\n",
       "      <td>10.458329</td>\n",
       "      <td>12.199290</td>\n",
       "      <td>13.586340</td>\n",
       "      <td>14.812279</td>\n",
       "    </tr>\n",
       "    <tr>\n",
       "      <th>100</th>\n",
       "      <td>1.762933</td>\n",
       "      <td>3.364914</td>\n",
       "      <td>5.476864</td>\n",
       "      <td>7.117358</td>\n",
       "      <td>8.545145</td>\n",
       "    </tr>\n",
       "    <tr>\n",
       "      <th>110</th>\n",
       "      <td>0.074305</td>\n",
       "      <td>0.561033</td>\n",
       "      <td>1.849152</td>\n",
       "      <td>3.146309</td>\n",
       "      <td>4.387641</td>\n",
       "    </tr>\n",
       "    <tr>\n",
       "      <th>120</th>\n",
       "      <td>0.000625</td>\n",
       "      <td>0.048366</td>\n",
       "      <td>0.478770</td>\n",
       "      <td>1.192205</td>\n",
       "      <td>2.030571</td>\n",
       "    </tr>\n",
       "  </tbody>\n",
       "</table>\n",
       "</div>"
      ],
      "text/plain": [
       "Time to Maturity       0.25       0.50       1.00       1.50       2.00\n",
       "Strike Price                                                           \n",
       "80                18.763226  19.928211  21.068498  21.965859  22.796531\n",
       "90                 8.981971  10.458329  12.199290  13.586340  14.812279\n",
       "100                1.762933   3.364914   5.476864   7.117358   8.545145\n",
       "110                0.074305   0.561033   1.849152   3.146309   4.387641\n",
       "120                0.000625   0.048366   0.478770   1.192205   2.030571"
      ]
     },
     "execution_count": 20,
     "metadata": {},
     "output_type": "execute_result"
    }
   ],
   "source": [
    "print(\"Call Price for Fixed Strike - Arithmetic average - Continuous Sampling with varying Strike Price and Time to Maturity is -\")       \n",
    "\n",
    "# read it into a dataframe:\n",
    "df_call = pd.DataFrame(data_call_fixed, columns=['Strike Price','Time to Maturity','Call Price'])\n",
    "\n",
    "# create pivot table with x and rows, y and columns, z as values\n",
    "df_call.pivot_table(values='Call Price', index='Strike Price', columns='Time to Maturity') "
   ]
  },
  {
   "cell_type": "code",
   "execution_count": 21,
   "id": "57fa5d3a",
   "metadata": {},
   "outputs": [
    {
     "name": "stdout",
     "output_type": "stream",
     "text": [
      "Put Price for Fixed Strike - Arithmetic average - Continuous Sampling with varying Strike Price and Time to Maturity is -\n"
     ]
    },
    {
     "data": {
      "text/html": [
       "<div>\n",
       "<style scoped>\n",
       "    .dataframe tbody tr th:only-of-type {\n",
       "        vertical-align: middle;\n",
       "    }\n",
       "\n",
       "    .dataframe tbody tr th {\n",
       "        vertical-align: top;\n",
       "    }\n",
       "\n",
       "    .dataframe thead th {\n",
       "        text-align: right;\n",
       "    }\n",
       "</style>\n",
       "<table border=\"1\" class=\"dataframe\">\n",
       "  <thead>\n",
       "    <tr style=\"text-align: right;\">\n",
       "      <th>Time to Maturity</th>\n",
       "      <th>0.25</th>\n",
       "      <th>0.50</th>\n",
       "      <th>1.00</th>\n",
       "      <th>1.50</th>\n",
       "      <th>2.00</th>\n",
       "    </tr>\n",
       "    <tr>\n",
       "      <th>Strike Price</th>\n",
       "      <th></th>\n",
       "      <th></th>\n",
       "      <th></th>\n",
       "      <th></th>\n",
       "      <th></th>\n",
       "    </tr>\n",
       "  </thead>\n",
       "  <tbody>\n",
       "    <tr>\n",
       "      <th>80</th>\n",
       "      <td>0.000050</td>\n",
       "      <td>0.004100</td>\n",
       "      <td>0.050892</td>\n",
       "      <td>0.136909</td>\n",
       "      <td>0.241106</td>\n",
       "    </tr>\n",
       "    <tr>\n",
       "      <th>90</th>\n",
       "      <td>0.094573</td>\n",
       "      <td>0.287317</td>\n",
       "      <td>0.693978</td>\n",
       "      <td>1.034824</td>\n",
       "      <td>1.305228</td>\n",
       "    </tr>\n",
       "    <tr>\n",
       "      <th>100</th>\n",
       "      <td>2.751313</td>\n",
       "      <td>2.947001</td>\n",
       "      <td>3.483846</td>\n",
       "      <td>3.843278</td>\n",
       "      <td>4.086468</td>\n",
       "    </tr>\n",
       "    <tr>\n",
       "      <th>110</th>\n",
       "      <td>10.938463</td>\n",
       "      <td>9.896219</td>\n",
       "      <td>9.368428</td>\n",
       "      <td>9.149663</td>\n",
       "      <td>8.977339</td>\n",
       "    </tr>\n",
       "    <tr>\n",
       "      <th>120</th>\n",
       "      <td>20.740561</td>\n",
       "      <td>19.136652</td>\n",
       "      <td>17.510341</td>\n",
       "      <td>16.472994</td>\n",
       "      <td>15.668643</td>\n",
       "    </tr>\n",
       "  </tbody>\n",
       "</table>\n",
       "</div>"
      ],
      "text/plain": [
       "Time to Maturity       0.25       0.50       1.00       1.50       2.00\n",
       "Strike Price                                                           \n",
       "80                 0.000050   0.004100   0.050892   0.136909   0.241106\n",
       "90                 0.094573   0.287317   0.693978   1.034824   1.305228\n",
       "100                2.751313   2.947001   3.483846   3.843278   4.086468\n",
       "110               10.938463   9.896219   9.368428   9.149663   8.977339\n",
       "120               20.740561  19.136652  17.510341  16.472994  15.668643"
      ]
     },
     "execution_count": 21,
     "metadata": {},
     "output_type": "execute_result"
    }
   ],
   "source": [
    "print(\"Put Price for Fixed Strike - Arithmetic average - Continuous Sampling with varying Strike Price and Time to Maturity is -\")       \n",
    "\n",
    "# read it into a dataframe:\n",
    "df_put = pd.DataFrame(data_put_fixed, columns=['Strike Price','Time to Maturity','Put Price'])\n",
    "\n",
    "# create pivot table with x and rows, y and columns, z as values\n",
    "df_put.pivot_table(values='Put Price', index='Strike Price', columns='Time to Maturity') "
   ]
  },
  {
   "cell_type": "code",
   "execution_count": 22,
   "id": "766ae024",
   "metadata": {},
   "outputs": [
    {
     "name": "stdout",
     "output_type": "stream",
     "text": [
      "Call Price for Float Strike - Arithmetic average - Continuous Sampling with varying Strike Price and Time to Maturity is -\n"
     ]
    },
    {
     "data": {
      "text/html": [
       "<div>\n",
       "<style scoped>\n",
       "    .dataframe tbody tr th:only-of-type {\n",
       "        vertical-align: middle;\n",
       "    }\n",
       "\n",
       "    .dataframe tbody tr th {\n",
       "        vertical-align: top;\n",
       "    }\n",
       "\n",
       "    .dataframe thead th {\n",
       "        text-align: right;\n",
       "    }\n",
       "</style>\n",
       "<table border=\"1\" class=\"dataframe\">\n",
       "  <thead>\n",
       "    <tr style=\"text-align: right;\">\n",
       "      <th>Time to Maturity</th>\n",
       "      <th>0.25</th>\n",
       "      <th>0.50</th>\n",
       "      <th>1.00</th>\n",
       "      <th>1.50</th>\n",
       "      <th>2.00</th>\n",
       "    </tr>\n",
       "  </thead>\n",
       "  <tbody>\n",
       "    <tr>\n",
       "      <th>Call Price</th>\n",
       "      <td>3.558469</td>\n",
       "      <td>4.34629</td>\n",
       "      <td>6.057525</td>\n",
       "      <td>7.706214</td>\n",
       "      <td>9.124067</td>\n",
       "    </tr>\n",
       "  </tbody>\n",
       "</table>\n",
       "</div>"
      ],
      "text/plain": [
       "Time to Maturity      0.25     0.50      1.00      1.50      2.00\n",
       "Call Price        3.558469  4.34629  6.057525  7.706214  9.124067"
      ]
     },
     "execution_count": 22,
     "metadata": {},
     "output_type": "execute_result"
    }
   ],
   "source": [
    "print(\"Call Price for Float Strike - Arithmetic average - Continuous Sampling with varying Strike Price and Time to Maturity is -\")       \n",
    "\n",
    "# read it into a dataframe:\n",
    "df_call = pd.DataFrame(data_call_float, columns=['Time to Maturity','Call Price'])\n",
    "\n",
    "# create pivot table with x and rows, y and columns, z as values\n",
    "df_call.pivot_table(values='Call Price', columns='Time to Maturity') "
   ]
  },
  {
   "cell_type": "code",
   "execution_count": 23,
   "id": "8eb8aef8",
   "metadata": {},
   "outputs": [
    {
     "name": "stdout",
     "output_type": "stream",
     "text": [
      "Put Price for Float Strike - Arithmetic average - Continuous Sampling with varying Strike Price and Time to Maturity is -\n"
     ]
    },
    {
     "data": {
      "text/html": [
       "<div>\n",
       "<style scoped>\n",
       "    .dataframe tbody tr th:only-of-type {\n",
       "        vertical-align: middle;\n",
       "    }\n",
       "\n",
       "    .dataframe tbody tr th {\n",
       "        vertical-align: top;\n",
       "    }\n",
       "\n",
       "    .dataframe thead th {\n",
       "        text-align: right;\n",
       "    }\n",
       "</style>\n",
       "<table border=\"1\" class=\"dataframe\">\n",
       "  <thead>\n",
       "    <tr style=\"text-align: right;\">\n",
       "      <th>Time to Maturity</th>\n",
       "      <th>0.25</th>\n",
       "      <th>0.50</th>\n",
       "      <th>1.00</th>\n",
       "      <th>1.50</th>\n",
       "      <th>2.00</th>\n",
       "    </tr>\n",
       "  </thead>\n",
       "  <tbody>\n",
       "    <tr>\n",
       "      <th>Put Price</th>\n",
       "      <td>1.342471</td>\n",
       "      <td>2.301218</td>\n",
       "      <td>3.267458</td>\n",
       "      <td>3.751568</td>\n",
       "      <td>4.101316</td>\n",
       "    </tr>\n",
       "  </tbody>\n",
       "</table>\n",
       "</div>"
      ],
      "text/plain": [
       "Time to Maturity      0.25      0.50      1.00      1.50      2.00\n",
       "Put Price         1.342471  2.301218  3.267458  3.751568  4.101316"
      ]
     },
     "execution_count": 23,
     "metadata": {},
     "output_type": "execute_result"
    }
   ],
   "source": [
    "print(\"Put Price for Float Strike - Arithmetic average - Continuous Sampling with varying Strike Price and Time to Maturity is -\")       \n",
    "\n",
    "# read it into a dataframe:\n",
    "df_put = pd.DataFrame(data_put_float, columns=['Time to Maturity','Put Price'])\n",
    "\n",
    "# create pivot table with x and rows, y and columns, z as values\n",
    "df_put.pivot_table(values='Put Price', columns='Time to Maturity') "
   ]
  },
  {
   "cell_type": "markdown",
   "id": "b765171c",
   "metadata": {},
   "source": [
    "<b>iii) Geometric average - Discrete Sampling</b>"
   ]
  },
  {
   "cell_type": "code",
   "execution_count": 24,
   "id": "8e7fbf01",
   "metadata": {},
   "outputs": [],
   "source": [
    "def asian_geo_dis(E,T):\n",
    "    \n",
    "    r = 0.05\n",
    "    timesteps = int (252 * T)\n",
    "    S = simulate_path_exact(100,0.05,0.2,T,timesteps,100000)\n",
    "    # Geometric price\n",
    "    A = gmean(S,axis=0)\n",
    "    \n",
    "    C0 = exp(-r*T) * mean(maximum(0, A-E))\n",
    "    P0 = exp(-r*T) * mean(maximum(0, E-A))\n",
    "    \n",
    "    C1 = exp(-r*T) * mean(maximum(0, S[timesteps-1]-A))\n",
    "    P1 = exp(-r*T) * mean(maximum(0, A-S[timesteps-1]))\n",
    "\n",
    "    return C0, P0, C1, P1"
   ]
  },
  {
   "cell_type": "code",
   "execution_count": 25,
   "id": "65a61a37",
   "metadata": {},
   "outputs": [
    {
     "name": "stdout",
     "output_type": "stream",
     "text": [
      "Asian Call Option Value for Fixed Strike - Arithmetic average - Discrete Sampling is 5.5061\n",
      "Asian Put Option Value for Fixed Strike - Arithmetic average - Discrete Sampling is 3.4506\n",
      "Asian Call Option Value for Float Strike - Arithmetic average - Discrete Sampling is 6.0205\n",
      "Asian Put Option Value for Float Strike - Arithmetic average - Discrete Sampling is 3.2929\n"
     ]
    }
   ],
   "source": [
    " # Print the values\n",
    "C0, P0, C1, P1 = asian_geo_dis(100,1)\n",
    "print(f\"Asian Call Option Value for Fixed Strike - Arithmetic average - Discrete Sampling is {C0:0.4f}\")\n",
    "print(f\"Asian Put Option Value for Fixed Strike - Arithmetic average - Discrete Sampling is {P0:0.4f}\")\n",
    "print(f\"Asian Call Option Value for Float Strike - Arithmetic average - Discrete Sampling is {C1:0.4f}\")\n",
    "print(f\"Asian Put Option Value for Float Strike - Arithmetic average - Discrete Sampling is {P1:0.4f}\")"
   ]
  },
  {
   "cell_type": "code",
   "execution_count": 26,
   "id": "c51949b0",
   "metadata": {},
   "outputs": [],
   "source": [
    "# Vary the value of E and T in the above Steps to see the effect\n",
    "\n",
    "E = [80,90,100,110,120]\n",
    "T = [0.25,0.5,1,1.5,2]"
   ]
  },
  {
   "cell_type": "code",
   "execution_count": 27,
   "id": "b325a7f6",
   "metadata": {},
   "outputs": [],
   "source": [
    "c0_arr=[]\n",
    "p0_arr=[]\n",
    "c1_arr=[]\n",
    "p1_arr=[]\n",
    "data_call_fixed=[]\n",
    "data_put_fixed=[]\n",
    "data_call_float=[]\n",
    "data_put_float=[]\n",
    "\n",
    "for j in range(0, 5):\n",
    "    for k in range(0, 5):\n",
    "        c0, p0, c1, p1 = asian_geo_dis(E[j],T[k])\n",
    "        c0_arr.append(c0)\n",
    "        p0_arr.append(p0)\n",
    "        c1_arr.append(c1)\n",
    "        p1_arr.append(p1)\n",
    "        x0=[E[j],T[k],c0]\n",
    "        y0=[E[j],T[k],p0]\n",
    "        x1=[T[k],c1]\n",
    "        y1=[T[k],p1]\n",
    "        data_call_fixed.append(x0)\n",
    "        data_put_fixed.append(y0)\n",
    "        data_call_float.append(x1)\n",
    "        data_put_float.append(y1)"
   ]
  },
  {
   "cell_type": "code",
   "execution_count": 28,
   "id": "8806930b",
   "metadata": {},
   "outputs": [
    {
     "name": "stdout",
     "output_type": "stream",
     "text": [
      "Call Price for Fixed Strike - Geometric average - Discrete Sampling with varying Strike Price and Time to Maturity is -\n"
     ]
    },
    {
     "data": {
      "text/html": [
       "<div>\n",
       "<style scoped>\n",
       "    .dataframe tbody tr th:only-of-type {\n",
       "        vertical-align: middle;\n",
       "    }\n",
       "\n",
       "    .dataframe tbody tr th {\n",
       "        vertical-align: top;\n",
       "    }\n",
       "\n",
       "    .dataframe thead th {\n",
       "        text-align: right;\n",
       "    }\n",
       "</style>\n",
       "<table border=\"1\" class=\"dataframe\">\n",
       "  <thead>\n",
       "    <tr style=\"text-align: right;\">\n",
       "      <th>Time to Maturity</th>\n",
       "      <th>0.25</th>\n",
       "      <th>0.50</th>\n",
       "      <th>1.00</th>\n",
       "      <th>1.50</th>\n",
       "      <th>2.00</th>\n",
       "    </tr>\n",
       "    <tr>\n",
       "      <th>Strike Price</th>\n",
       "      <th></th>\n",
       "      <th></th>\n",
       "      <th></th>\n",
       "      <th></th>\n",
       "      <th></th>\n",
       "    </tr>\n",
       "  </thead>\n",
       "  <tbody>\n",
       "    <tr>\n",
       "      <th>80</th>\n",
       "      <td>20.267020</td>\n",
       "      <td>20.555182</td>\n",
       "      <td>21.138159</td>\n",
       "      <td>21.749595</td>\n",
       "      <td>22.362560</td>\n",
       "    </tr>\n",
       "    <tr>\n",
       "      <th>90</th>\n",
       "      <td>10.443983</td>\n",
       "      <td>11.051972</td>\n",
       "      <td>12.274184</td>\n",
       "      <td>13.402124</td>\n",
       "      <td>14.428385</td>\n",
       "    </tr>\n",
       "    <tr>\n",
       "      <th>100</th>\n",
       "      <td>2.518088</td>\n",
       "      <td>3.715751</td>\n",
       "      <td>5.506053</td>\n",
       "      <td>6.948182</td>\n",
       "      <td>8.206272</td>\n",
       "    </tr>\n",
       "    <tr>\n",
       "      <th>110</th>\n",
       "      <td>0.142792</td>\n",
       "      <td>0.639470</td>\n",
       "      <td>1.823779</td>\n",
       "      <td>2.992626</td>\n",
       "      <td>4.098389</td>\n",
       "    </tr>\n",
       "    <tr>\n",
       "      <th>120</th>\n",
       "      <td>0.001373</td>\n",
       "      <td>0.053859</td>\n",
       "      <td>0.447716</td>\n",
       "      <td>1.078860</td>\n",
       "      <td>1.810990</td>\n",
       "    </tr>\n",
       "  </tbody>\n",
       "</table>\n",
       "</div>"
      ],
      "text/plain": [
       "Time to Maturity       0.25       0.50       1.00       1.50       2.00\n",
       "Strike Price                                                           \n",
       "80                20.267020  20.555182  21.138159  21.749595  22.362560\n",
       "90                10.443983  11.051972  12.274184  13.402124  14.428385\n",
       "100                2.518088   3.715751   5.506053   6.948182   8.206272\n",
       "110                0.142792   0.639470   1.823779   2.992626   4.098389\n",
       "120                0.001373   0.053859   0.447716   1.078860   1.810990"
      ]
     },
     "execution_count": 28,
     "metadata": {},
     "output_type": "execute_result"
    }
   ],
   "source": [
    "print(\"Call Price for Fixed Strike - Geometric average - Discrete Sampling with varying Strike Price and Time to Maturity is -\")       \n",
    "\n",
    "# read it into a dataframe:\n",
    "df_call = pd.DataFrame(data_call_fixed, columns=['Strike Price','Time to Maturity','Call Price'])\n",
    "\n",
    "# create pivot table with x and rows, y and columns, z as values\n",
    "df_call.pivot_table(values='Call Price', index='Strike Price', columns='Time to Maturity') "
   ]
  },
  {
   "cell_type": "code",
   "execution_count": 29,
   "id": "7b8e1b3c",
   "metadata": {},
   "outputs": [
    {
     "name": "stdout",
     "output_type": "stream",
     "text": [
      "Put Price for Fixed Strike - Geometric average - Discrete Sampling with varying Strike Price and Time to Maturity is -\n"
     ]
    },
    {
     "data": {
      "text/html": [
       "<div>\n",
       "<style scoped>\n",
       "    .dataframe tbody tr th:only-of-type {\n",
       "        vertical-align: middle;\n",
       "    }\n",
       "\n",
       "    .dataframe tbody tr th {\n",
       "        vertical-align: top;\n",
       "    }\n",
       "\n",
       "    .dataframe thead th {\n",
       "        text-align: right;\n",
       "    }\n",
       "</style>\n",
       "<table border=\"1\" class=\"dataframe\">\n",
       "  <thead>\n",
       "    <tr style=\"text-align: right;\">\n",
       "      <th>Time to Maturity</th>\n",
       "      <th>0.25</th>\n",
       "      <th>0.50</th>\n",
       "      <th>1.00</th>\n",
       "      <th>1.50</th>\n",
       "      <th>2.00</th>\n",
       "    </tr>\n",
       "    <tr>\n",
       "      <th>Strike Price</th>\n",
       "      <th></th>\n",
       "      <th></th>\n",
       "      <th></th>\n",
       "      <th></th>\n",
       "      <th></th>\n",
       "    </tr>\n",
       "  </thead>\n",
       "  <tbody>\n",
       "    <tr>\n",
       "      <th>80</th>\n",
       "      <td>0.000020</td>\n",
       "      <td>0.004124</td>\n",
       "      <td>0.058114</td>\n",
       "      <td>0.159970</td>\n",
       "      <td>0.282665</td>\n",
       "    </tr>\n",
       "    <tr>\n",
       "      <th>90</th>\n",
       "      <td>0.052760</td>\n",
       "      <td>0.254014</td>\n",
       "      <td>0.706433</td>\n",
       "      <td>1.089934</td>\n",
       "      <td>1.396864</td>\n",
       "    </tr>\n",
       "    <tr>\n",
       "      <th>100</th>\n",
       "      <td>2.002643</td>\n",
       "      <td>2.670891</td>\n",
       "      <td>3.450596</td>\n",
       "      <td>3.913428</td>\n",
       "      <td>4.223125</td>\n",
       "    </tr>\n",
       "    <tr>\n",
       "      <th>110</th>\n",
       "      <td>9.503125</td>\n",
       "      <td>9.347710</td>\n",
       "      <td>9.280617</td>\n",
       "      <td>9.235307</td>\n",
       "      <td>9.163616</td>\n",
       "    </tr>\n",
       "    <tr>\n",
       "      <th>120</th>\n",
       "      <td>19.237484</td>\n",
       "      <td>18.515197</td>\n",
       "      <td>17.416848</td>\n",
       "      <td>16.598975</td>\n",
       "      <td>15.924591</td>\n",
       "    </tr>\n",
       "  </tbody>\n",
       "</table>\n",
       "</div>"
      ],
      "text/plain": [
       "Time to Maturity       0.25       0.50       1.00       1.50       2.00\n",
       "Strike Price                                                           \n",
       "80                 0.000020   0.004124   0.058114   0.159970   0.282665\n",
       "90                 0.052760   0.254014   0.706433   1.089934   1.396864\n",
       "100                2.002643   2.670891   3.450596   3.913428   4.223125\n",
       "110                9.503125   9.347710   9.280617   9.235307   9.163616\n",
       "120               19.237484  18.515197  17.416848  16.598975  15.924591"
      ]
     },
     "execution_count": 29,
     "metadata": {},
     "output_type": "execute_result"
    }
   ],
   "source": [
    "print(\"Put Price for Fixed Strike - Geometric average - Discrete Sampling with varying Strike Price and Time to Maturity is -\")       \n",
    "\n",
    "# read it into a dataframe:\n",
    "df_put = pd.DataFrame(data_put_fixed, columns=['Strike Price','Time to Maturity','Put Price'])\n",
    "\n",
    "# create pivot table with x and rows, y and columns, z as values\n",
    "df_put.pivot_table(values='Put Price', index='Strike Price', columns='Time to Maturity') "
   ]
  },
  {
   "cell_type": "code",
   "execution_count": 30,
   "id": "4ad1096c",
   "metadata": {},
   "outputs": [
    {
     "name": "stdout",
     "output_type": "stream",
     "text": [
      "Call Price for Float Strike - Geometric average - Discrete Sampling with varying Strike Price and Time to Maturity is -\n"
     ]
    },
    {
     "data": {
      "text/html": [
       "<div>\n",
       "<style scoped>\n",
       "    .dataframe tbody tr th:only-of-type {\n",
       "        vertical-align: middle;\n",
       "    }\n",
       "\n",
       "    .dataframe tbody tr th {\n",
       "        vertical-align: top;\n",
       "    }\n",
       "\n",
       "    .dataframe thead th {\n",
       "        text-align: right;\n",
       "    }\n",
       "</style>\n",
       "<table border=\"1\" class=\"dataframe\">\n",
       "  <thead>\n",
       "    <tr style=\"text-align: right;\">\n",
       "      <th>Time to Maturity</th>\n",
       "      <th>0.25</th>\n",
       "      <th>0.50</th>\n",
       "      <th>1.00</th>\n",
       "      <th>1.50</th>\n",
       "      <th>2.00</th>\n",
       "    </tr>\n",
       "  </thead>\n",
       "  <tbody>\n",
       "    <tr>\n",
       "      <th>Call Price</th>\n",
       "      <td>2.634896</td>\n",
       "      <td>3.968925</td>\n",
       "      <td>6.020544</td>\n",
       "      <td>7.86465</td>\n",
       "      <td>9.445189</td>\n",
       "    </tr>\n",
       "  </tbody>\n",
       "</table>\n",
       "</div>"
      ],
      "text/plain": [
       "Time to Maturity      0.25      0.50      1.00     1.50      2.00\n",
       "Call Price        2.634896  3.968925  6.020544  7.86465  9.445189"
      ]
     },
     "execution_count": 30,
     "metadata": {},
     "output_type": "execute_result"
    }
   ],
   "source": [
    "print(\"Call Price for Float Strike - Geometric average - Discrete Sampling with varying Strike Price and Time to Maturity is -\")       \n",
    "\n",
    "# read it into a dataframe:\n",
    "df_call = pd.DataFrame(data_call_float, columns=['Time to Maturity','Call Price'])\n",
    "\n",
    "# create pivot table with x and rows, y and columns, z as values\n",
    "df_call.pivot_table(values='Call Price', columns='Time to Maturity') "
   ]
  },
  {
   "cell_type": "code",
   "execution_count": 31,
   "id": "df9458fa",
   "metadata": {},
   "outputs": [
    {
     "name": "stdout",
     "output_type": "stream",
     "text": [
      "Put Price for Float Strike - Geometric average - Discrete Sampling with varying Strike Price and Time to Maturity is -\n"
     ]
    },
    {
     "data": {
      "text/html": [
       "<div>\n",
       "<style scoped>\n",
       "    .dataframe tbody tr th:only-of-type {\n",
       "        vertical-align: middle;\n",
       "    }\n",
       "\n",
       "    .dataframe tbody tr th {\n",
       "        vertical-align: top;\n",
       "    }\n",
       "\n",
       "    .dataframe thead th {\n",
       "        text-align: right;\n",
       "    }\n",
       "</style>\n",
       "<table border=\"1\" class=\"dataframe\">\n",
       "  <thead>\n",
       "    <tr style=\"text-align: right;\">\n",
       "      <th>Time to Maturity</th>\n",
       "      <th>0.25</th>\n",
       "      <th>0.50</th>\n",
       "      <th>1.00</th>\n",
       "      <th>1.50</th>\n",
       "      <th>2.00</th>\n",
       "    </tr>\n",
       "  </thead>\n",
       "  <tbody>\n",
       "    <tr>\n",
       "      <th>Put Price</th>\n",
       "      <td>1.922722</td>\n",
       "      <td>2.550801</td>\n",
       "      <td>3.292916</td>\n",
       "      <td>3.670678</td>\n",
       "      <td>3.946909</td>\n",
       "    </tr>\n",
       "  </tbody>\n",
       "</table>\n",
       "</div>"
      ],
      "text/plain": [
       "Time to Maturity      0.25      0.50      1.00      1.50      2.00\n",
       "Put Price         1.922722  2.550801  3.292916  3.670678  3.946909"
      ]
     },
     "execution_count": 31,
     "metadata": {},
     "output_type": "execute_result"
    }
   ],
   "source": [
    "print(\"Put Price for Float Strike - Geometric average - Discrete Sampling with varying Strike Price and Time to Maturity is -\")       \n",
    "\n",
    "# read it into a dataframe:\n",
    "df_put = pd.DataFrame(data_put_float, columns=['Time to Maturity','Put Price'])\n",
    "\n",
    "# create pivot table with x and rows, y and columns, z as values\n",
    "df_put.pivot_table(values='Put Price', columns='Time to Maturity') "
   ]
  },
  {
   "cell_type": "markdown",
   "id": "67af48c9",
   "metadata": {},
   "source": [
    "<b>iv) Geometric average - Continuous Sampling</b>\n",
    "\n",
    "Using the previous Stochastic Integration method"
   ]
  },
  {
   "cell_type": "code",
   "execution_count": 32,
   "id": "8abf3cab",
   "metadata": {},
   "outputs": [],
   "source": [
    "# define simulation function for exact solution and find Area A\n",
    "def simulate_path_exact_integral_geo_cont(s0, mu, sigma, horizon, timesteps, n_sims):\n",
    "\n",
    "    # set the random seed for reproducibility\n",
    "    random.seed(10000)\n",
    "\n",
    "    # read parameters\n",
    "    S0 = s0                 # initial spot price\n",
    "    r = mu                  # mu = rf in risk neutral framework\n",
    "    T = horizon             # time horizon\n",
    "    t = timesteps           # number of time steps\n",
    "    n = n_sims              # number of simulation\n",
    "\n",
    "    # define dt\n",
    "    dt = T/t                # length of time interval\n",
    "\n",
    "    # simulate 'n' asset price path with 't' timesteps\n",
    "    \n",
    "    S = zeros((t,n))\n",
    "    A = zeros((t,n))\n",
    "    S[0] = S0\n",
    "    A[0] = 0\n",
    "\n",
    "    for i in range(0, t-1):\n",
    "        w = random.standard_normal(n)\n",
    "        S[i+1] = S[i] * (2.718281828459045 ** ((r - 0.5 * sigma * sigma) * dt + sigma * sqrt(dt) * w))\n",
    "        A[i+1] = log(S[i]) * dt\n",
    "\n",
    "    return S, A\n",
    "# using approx. vale of exp as (2.718281828459045 ^)"
   ]
  },
  {
   "cell_type": "markdown",
   "id": "f883f504",
   "metadata": {},
   "source": [
    "Array of areas covered by different paths for T = 1 year -"
   ]
  },
  {
   "cell_type": "code",
   "execution_count": 33,
   "id": "18c50da5",
   "metadata": {},
   "outputs": [
    {
     "data": {
      "text/plain": [
       "array([[0.        , 0.        , 0.        , ..., 0.        , 0.        ,\n",
       "        0.        ],\n",
       "       [0.01827448, 0.01827448, 0.01827448, ..., 0.01827448, 0.01827448,\n",
       "        0.01827448],\n",
       "       [0.01821141, 0.01828376, 0.01826015, ..., 0.01827486, 0.01825616,\n",
       "        0.01827134],\n",
       "       ...,\n",
       "       [0.01908771, 0.01706492, 0.01932477, ..., 0.01852167, 0.01887722,\n",
       "        0.01776961],\n",
       "       [0.01911147, 0.01716891, 0.01930516, ..., 0.0185521 , 0.01889851,\n",
       "        0.01777141],\n",
       "       [0.01901203, 0.01710851, 0.01931126, ..., 0.01848243, 0.01897428,\n",
       "        0.01786321]])"
      ]
     },
     "execution_count": 33,
     "metadata": {},
     "output_type": "execute_result"
    }
   ],
   "source": [
    "# Define parameters\n",
    "E=100; T=1; r=0.05\n",
    "\n",
    "# Call the simulation function - s0=100,  mu=rf=0.05(5%), sigma=vol=0.2(20%), horizon=T=T year, timesteps=252,\n",
    "# n_sims=number of simultaions=100000\n",
    "S, S_area = simulate_path_exact_integral_geo_cont(100,0.05,0.2,T,252,100000)\n",
    "\n",
    "S_area"
   ]
  },
  {
   "cell_type": "markdown",
   "id": "d431f702",
   "metadata": {},
   "source": [
    "Stock Price at T = 1 year -"
   ]
  },
  {
   "cell_type": "code",
   "execution_count": 34,
   "id": "08e32330",
   "metadata": {},
   "outputs": [
    {
     "data": {
      "text/plain": [
       "array([4.74502237, 4.50546438, 4.83370947, ..., 4.62435153, 4.8020367 ,\n",
       "       4.50518359])"
      ]
     },
     "execution_count": 34,
     "metadata": {},
     "output_type": "execute_result"
    }
   ],
   "source": [
    "S_area.sum(axis=0)"
   ]
  },
  {
   "cell_type": "code",
   "execution_count": 35,
   "id": "959cf070",
   "metadata": {},
   "outputs": [],
   "source": [
    "def asian_geo_cont(E,T):\n",
    "    \n",
    "    r = 0.05\n",
    "    timesteps = int (252 * T)\n",
    "    S, S_area = simulate_path_exact_integral_geo_cont(100,0.05,0.2,T,timesteps,100000)\n",
    "    # Average price\n",
    "    A1 = (1/T)*S_area.sum(axis=0)\n",
    "    \n",
    "    A = power (2.718281828459045, A1)\n",
    "    \n",
    "    C0 = exp(-r*T) * mean(maximum(0, A-E))\n",
    "    P0 = exp(-r*T) * mean(maximum(0, E-A))\n",
    "    \n",
    "    C1 = exp(-r*T) * mean(maximum(0, S[timesteps-1]-A))\n",
    "    P1 = exp(-r*T) * mean(maximum(0, A-S[timesteps-1]))\n",
    "\n",
    "\n",
    "    return C0, P0, C1, P1"
   ]
  },
  {
   "cell_type": "code",
   "execution_count": 36,
   "id": "dfd1220b",
   "metadata": {},
   "outputs": [
    {
     "name": "stdout",
     "output_type": "stream",
     "text": [
      "Asian Call Option Value for Fixed Strike - Geometric average - Continuous Sampling is 4.4771\n",
      "Asian Put Option Value for Fixed Strike - Geometric average - Continuous Sampling is 4.1999\n",
      "Asian Call Option Value for Float Strike - Geometric average - Continuous Sampling is 7.1197\n",
      "Asian Put Option Value for Float Strike - Geometric average - Continuous Sampling is 2.6138\n"
     ]
    }
   ],
   "source": [
    " # Print the values\n",
    "C0, P0, C1, P1 = asian_geo_cont(100,1)\n",
    "print(f\"Asian Call Option Value for Fixed Strike - Geometric average - Continuous Sampling is {C0:0.4f}\")\n",
    "print(f\"Asian Put Option Value for Fixed Strike - Geometric average - Continuous Sampling is {P0:0.4f}\")\n",
    "print(f\"Asian Call Option Value for Float Strike - Geometric average - Continuous Sampling is {C1:0.4f}\")\n",
    "print(f\"Asian Put Option Value for Float Strike - Geometric average - Continuous Sampling is {P1:0.4f}\")"
   ]
  },
  {
   "cell_type": "code",
   "execution_count": 37,
   "id": "74019932",
   "metadata": {},
   "outputs": [],
   "source": [
    "# Vary the value of E and T in the above Steps to see the effect\n",
    "\n",
    "E = [80,90,100,110,120]\n",
    "T = [0.25,0.5,1,1.5,2]"
   ]
  },
  {
   "cell_type": "code",
   "execution_count": 38,
   "id": "c134c009",
   "metadata": {},
   "outputs": [],
   "source": [
    "c0_arr=[]\n",
    "p0_arr=[]\n",
    "c1_arr=[]\n",
    "p1_arr=[]\n",
    "data_call_fixed=[]\n",
    "data_put_fixed=[]\n",
    "data_call_float=[]\n",
    "data_put_float=[]\n",
    "\n",
    "for j in range(0, 5):\n",
    "    for k in range(0, 5):\n",
    "        c0, p0, c1, p1 = asian_geo_cont(E[j],T[k])\n",
    "        c0_arr.append(c0)\n",
    "        p0_arr.append(p0)\n",
    "        c1_arr.append(c1)\n",
    "        p1_arr.append(p1)\n",
    "        x0=[E[j],T[k],c0]\n",
    "        y0=[E[j],T[k],p0]\n",
    "        x1=[T[k],c1]\n",
    "        y1=[T[k],p1]\n",
    "        data_call_fixed.append(x0)\n",
    "        data_put_fixed.append(y0)\n",
    "        data_call_float.append(x1)\n",
    "        data_put_float.append(y1)"
   ]
  },
  {
   "cell_type": "code",
   "execution_count": 39,
   "id": "b94f29ee",
   "metadata": {},
   "outputs": [
    {
     "name": "stdout",
     "output_type": "stream",
     "text": [
      "Call Price for Fixed Strike - Geometric average - Continuous Sampling with varying Strike Price and Time to Maturity is -\n"
     ]
    },
    {
     "data": {
      "text/html": [
       "<div>\n",
       "<style scoped>\n",
       "    .dataframe tbody tr th:only-of-type {\n",
       "        vertical-align: middle;\n",
       "    }\n",
       "\n",
       "    .dataframe tbody tr th {\n",
       "        vertical-align: top;\n",
       "    }\n",
       "\n",
       "    .dataframe thead th {\n",
       "        text-align: right;\n",
       "    }\n",
       "</style>\n",
       "<table border=\"1\" class=\"dataframe\">\n",
       "  <thead>\n",
       "    <tr style=\"text-align: right;\">\n",
       "      <th>Time to Maturity</th>\n",
       "      <th>0.25</th>\n",
       "      <th>0.50</th>\n",
       "      <th>1.00</th>\n",
       "      <th>1.50</th>\n",
       "      <th>2.00</th>\n",
       "    </tr>\n",
       "    <tr>\n",
       "      <th>Strike Price</th>\n",
       "      <th></th>\n",
       "      <th></th>\n",
       "      <th></th>\n",
       "      <th></th>\n",
       "      <th></th>\n",
       "    </tr>\n",
       "  </thead>\n",
       "  <tbody>\n",
       "    <tr>\n",
       "      <th>80</th>\n",
       "      <td>13.255068</td>\n",
       "      <td>17.010002</td>\n",
       "      <td>19.386784</td>\n",
       "      <td>20.604470</td>\n",
       "      <td>21.519593</td>\n",
       "    </tr>\n",
       "    <tr>\n",
       "      <th>90</th>\n",
       "      <td>4.130194</td>\n",
       "      <td>7.858594</td>\n",
       "      <td>10.729878</td>\n",
       "      <td>12.396791</td>\n",
       "      <td>13.686684</td>\n",
       "    </tr>\n",
       "    <tr>\n",
       "      <th>100</th>\n",
       "      <td>0.284293</td>\n",
       "      <td>1.980210</td>\n",
       "      <td>4.477077</td>\n",
       "      <td>6.221562</td>\n",
       "      <td>7.641833</td>\n",
       "    </tr>\n",
       "    <tr>\n",
       "      <th>110</th>\n",
       "      <td>0.002227</td>\n",
       "      <td>0.230078</td>\n",
       "      <td>1.355180</td>\n",
       "      <td>2.576950</td>\n",
       "      <td>3.734955</td>\n",
       "    </tr>\n",
       "    <tr>\n",
       "      <th>120</th>\n",
       "      <td>0.000000</td>\n",
       "      <td>0.011146</td>\n",
       "      <td>0.299419</td>\n",
       "      <td>0.890510</td>\n",
       "      <td>1.613221</td>\n",
       "    </tr>\n",
       "  </tbody>\n",
       "</table>\n",
       "</div>"
      ],
      "text/plain": [
       "Time to Maturity       0.25       0.50       1.00       1.50       2.00\n",
       "Strike Price                                                           \n",
       "80                13.255068  17.010002  19.386784  20.604470  21.519593\n",
       "90                 4.130194   7.858594  10.729878  12.396791  13.686684\n",
       "100                0.284293   1.980210   4.477077   6.221562   7.641833\n",
       "110                0.002227   0.230078   1.355180   2.576950   3.734955\n",
       "120                0.000000   0.011146   0.299419   0.890510   1.613221"
      ]
     },
     "execution_count": 39,
     "metadata": {},
     "output_type": "execute_result"
    }
   ],
   "source": [
    "print(\"Call Price for Fixed Strike - Geometric average - Continuous Sampling with varying Strike Price and Time to Maturity is -\")       \n",
    "\n",
    "# read it into a dataframe:\n",
    "df_call = pd.DataFrame(data_call_fixed, columns=['Strike Price','Time to Maturity','Call Price'])\n",
    "\n",
    "# create pivot table with x and rows, y and columns, z as values\n",
    "df_call.pivot_table(values='Call Price', index='Strike Price', columns='Time to Maturity') "
   ]
  },
  {
   "cell_type": "code",
   "execution_count": 40,
   "id": "28ba5497",
   "metadata": {},
   "outputs": [
    {
     "name": "stdout",
     "output_type": "stream",
     "text": [
      "Put Price for Fixed Strike - Geometric average - Continuous Sampling with varying Strike Price and Time to Maturity is -\n"
     ]
    },
    {
     "data": {
      "text/html": [
       "<div>\n",
       "<style scoped>\n",
       "    .dataframe tbody tr th:only-of-type {\n",
       "        vertical-align: middle;\n",
       "    }\n",
       "\n",
       "    .dataframe tbody tr th {\n",
       "        vertical-align: top;\n",
       "    }\n",
       "\n",
       "    .dataframe thead th {\n",
       "        text-align: right;\n",
       "    }\n",
       "</style>\n",
       "<table border=\"1\" class=\"dataframe\">\n",
       "  <thead>\n",
       "    <tr style=\"text-align: right;\">\n",
       "      <th>Time to Maturity</th>\n",
       "      <th>0.25</th>\n",
       "      <th>0.50</th>\n",
       "      <th>1.00</th>\n",
       "      <th>1.50</th>\n",
       "      <th>2.00</th>\n",
       "    </tr>\n",
       "    <tr>\n",
       "      <th>Strike Price</th>\n",
       "      <th></th>\n",
       "      <th></th>\n",
       "      <th></th>\n",
       "      <th></th>\n",
       "      <th></th>\n",
       "    </tr>\n",
       "  </thead>\n",
       "  <tbody>\n",
       "    <tr>\n",
       "      <th>80</th>\n",
       "      <td>0.003840</td>\n",
       "      <td>0.015489</td>\n",
       "      <td>0.085024</td>\n",
       "      <td>0.193760</td>\n",
       "      <td>0.317425</td>\n",
       "    </tr>\n",
       "    <tr>\n",
       "      <th>90</th>\n",
       "      <td>0.754744</td>\n",
       "      <td>0.617180</td>\n",
       "      <td>0.940413</td>\n",
       "      <td>1.263515</td>\n",
       "      <td>1.532890</td>\n",
       "    </tr>\n",
       "    <tr>\n",
       "      <th>100</th>\n",
       "      <td>6.784621</td>\n",
       "      <td>4.491895</td>\n",
       "      <td>4.199907</td>\n",
       "      <td>4.365722</td>\n",
       "      <td>4.536412</td>\n",
       "    </tr>\n",
       "    <tr>\n",
       "      <th>110</th>\n",
       "      <td>16.378333</td>\n",
       "      <td>12.494862</td>\n",
       "      <td>10.590303</td>\n",
       "      <td>9.998545</td>\n",
       "      <td>9.677909</td>\n",
       "    </tr>\n",
       "    <tr>\n",
       "      <th>120</th>\n",
       "      <td>26.251883</td>\n",
       "      <td>22.029030</td>\n",
       "      <td>19.046837</td>\n",
       "      <td>17.589539</td>\n",
       "      <td>16.604549</td>\n",
       "    </tr>\n",
       "  </tbody>\n",
       "</table>\n",
       "</div>"
      ],
      "text/plain": [
       "Time to Maturity       0.25       0.50       1.00       1.50       2.00\n",
       "Strike Price                                                           \n",
       "80                 0.003840   0.015489   0.085024   0.193760   0.317425\n",
       "90                 0.754744   0.617180   0.940413   1.263515   1.532890\n",
       "100                6.784621   4.491895   4.199907   4.365722   4.536412\n",
       "110               16.378333  12.494862  10.590303   9.998545   9.677909\n",
       "120               26.251883  22.029030  19.046837  17.589539  16.604549"
      ]
     },
     "execution_count": 40,
     "metadata": {},
     "output_type": "execute_result"
    }
   ],
   "source": [
    "print(\"Put Price for Fixed Strike - Geometric average - Continuous Sampling with varying Strike Price and Time to Maturity is -\")       \n",
    "\n",
    "# read it into a dataframe:\n",
    "df_put = pd.DataFrame(data_put_fixed, columns=['Strike Price','Time to Maturity','Put Price'])\n",
    "\n",
    "# create pivot table with x and rows, y and columns, z as values\n",
    "df_put.pivot_table(values='Put Price', index='Strike Price', columns='Time to Maturity') "
   ]
  },
  {
   "cell_type": "code",
   "execution_count": 41,
   "id": "e9b4c93f",
   "metadata": {},
   "outputs": [
    {
     "name": "stdout",
     "output_type": "stream",
     "text": [
      "Call Price for Float Strike - Geometric average - Continuous Sampling with varying Strike Price and Time to Maturity is -\n"
     ]
    },
    {
     "data": {
      "text/html": [
       "<div>\n",
       "<style scoped>\n",
       "    .dataframe tbody tr th:only-of-type {\n",
       "        vertical-align: middle;\n",
       "    }\n",
       "\n",
       "    .dataframe tbody tr th {\n",
       "        vertical-align: top;\n",
       "    }\n",
       "\n",
       "    .dataframe thead th {\n",
       "        text-align: right;\n",
       "    }\n",
       "</style>\n",
       "<table border=\"1\" class=\"dataframe\">\n",
       "  <thead>\n",
       "    <tr style=\"text-align: right;\">\n",
       "      <th>Time to Maturity</th>\n",
       "      <th>0.25</th>\n",
       "      <th>0.50</th>\n",
       "      <th>1.00</th>\n",
       "      <th>1.50</th>\n",
       "      <th>2.00</th>\n",
       "    </tr>\n",
       "  </thead>\n",
       "  <tbody>\n",
       "    <tr>\n",
       "      <th>Call Price</th>\n",
       "      <td>7.94396</td>\n",
       "      <td>6.272656</td>\n",
       "      <td>7.11967</td>\n",
       "      <td>8.602147</td>\n",
       "      <td>10.002658</td>\n",
       "    </tr>\n",
       "  </tbody>\n",
       "</table>\n",
       "</div>"
      ],
      "text/plain": [
       "Time to Maturity     0.25      0.50     1.00      1.50       2.00\n",
       "Call Price        7.94396  6.272656  7.11967  8.602147  10.002658"
      ]
     },
     "execution_count": 41,
     "metadata": {},
     "output_type": "execute_result"
    }
   ],
   "source": [
    "print(\"Call Price for Float Strike - Geometric average - Continuous Sampling with varying Strike Price and Time to Maturity is -\")       \n",
    "\n",
    "# read it into a dataframe:\n",
    "df_call = pd.DataFrame(data_call_float, columns=['Time to Maturity','Call Price'])\n",
    "\n",
    "# create pivot table with x and rows, y and columns, z as values\n",
    "df_call.pivot_table(values='Call Price', columns='Time to Maturity') "
   ]
  },
  {
   "cell_type": "code",
   "execution_count": 42,
   "id": "c348a7ea",
   "metadata": {
    "scrolled": true
   },
   "outputs": [
    {
     "name": "stdout",
     "output_type": "stream",
     "text": [
      "Put Price for Float Strike - Geometric average - Continuous Sampling with varying Strike Price and Time to Maturity is -\n"
     ]
    },
    {
     "data": {
      "text/html": [
       "<div>\n",
       "<style scoped>\n",
       "    .dataframe tbody tr th:only-of-type {\n",
       "        vertical-align: middle;\n",
       "    }\n",
       "\n",
       "    .dataframe tbody tr th {\n",
       "        vertical-align: top;\n",
       "    }\n",
       "\n",
       "    .dataframe thead th {\n",
       "        text-align: right;\n",
       "    }\n",
       "</style>\n",
       "<table border=\"1\" class=\"dataframe\">\n",
       "  <thead>\n",
       "    <tr style=\"text-align: right;\">\n",
       "      <th>Time to Maturity</th>\n",
       "      <th>0.25</th>\n",
       "      <th>0.50</th>\n",
       "      <th>1.00</th>\n",
       "      <th>1.50</th>\n",
       "      <th>2.00</th>\n",
       "    </tr>\n",
       "  </thead>\n",
       "  <tbody>\n",
       "    <tr>\n",
       "      <th>Put Price</th>\n",
       "      <td>0.216014</td>\n",
       "      <td>1.297987</td>\n",
       "      <td>2.613757</td>\n",
       "      <td>3.229261</td>\n",
       "      <td>3.626651</td>\n",
       "    </tr>\n",
       "  </tbody>\n",
       "</table>\n",
       "</div>"
      ],
      "text/plain": [
       "Time to Maturity      0.25      0.50      1.00      1.50      2.00\n",
       "Put Price         0.216014  1.297987  2.613757  3.229261  3.626651"
      ]
     },
     "execution_count": 42,
     "metadata": {},
     "output_type": "execute_result"
    }
   ],
   "source": [
    "print(\"Put Price for Float Strike - Geometric average - Continuous Sampling with varying Strike Price and Time to Maturity is -\")       \n",
    "\n",
    "# read it into a dataframe:\n",
    "df_put = pd.DataFrame(data_put_float, columns=['Time to Maturity','Put Price'])\n",
    "\n",
    "# create pivot table with x and rows, y and columns, z as values\n",
    "df_put.pivot_table(values='Put Price', columns='Time to Maturity') "
   ]
  },
  {
   "cell_type": "markdown",
   "id": "14a75a52",
   "metadata": {},
   "source": [
    "<b>2) E - M (EULER MARUYAMA) SOLUTION </b>"
   ]
  },
  {
   "cell_type": "code",
   "execution_count": 43,
   "id": "5b55cbac",
   "metadata": {},
   "outputs": [],
   "source": [
    "# define simulation function for exact solution\n",
    "def simulate_path_em(s0, mu, sigma, horizon, timesteps, n_sims):\n",
    "\n",
    "    # set the random seed for reproducibility\n",
    "    random.seed(10000)\n",
    "\n",
    "    # read parameters\n",
    "    S0 = s0                 # initial spot price\n",
    "    r = mu                  # mu = rf in risk neutral framework\n",
    "    T = horizon             # time horizon\n",
    "    t = timesteps           # number of time steps\n",
    "    n = n_sims              # number of simulation\n",
    "\n",
    "    # define dt\n",
    "    dt = T/t                # length of time interval\n",
    "\n",
    "    # simulate 'n' asset price path with 't' timesteps\n",
    "    \n",
    "    S = zeros((t,n))\n",
    "    S[0] = S0\n",
    "\n",
    "    for i in range(0, t-1):\n",
    "        w = random.standard_normal(n)\n",
    "        S[i+1] = S[i] * (1 + r * dt + sigma * sqrt(dt) * w)\n",
    "\n",
    "    return S\n"
   ]
  },
  {
   "cell_type": "code",
   "execution_count": 44,
   "id": "b737dd93",
   "metadata": {},
   "outputs": [
    {
     "name": "stdout",
     "output_type": "stream",
     "text": [
      "Simulated Stock Price for Time T = 1 year -\n"
     ]
    },
    {
     "data": {
      "text/plain": [
       "array([[100.        , 100.        , 100.        , ..., 100.        ,\n",
       "        100.        , 100.        ],\n",
       "       [ 98.41841759, 100.24175312,  99.64664371, ..., 100.01742297,\n",
       "         99.54608997,  99.9287754 ],\n",
       "       [ 97.05984028,  99.71876403,  97.62528921, ...,  99.07671355,\n",
       "        101.47162225, 101.16951484],\n",
       "       ...,\n",
       "       [123.27112136,  75.68295491, 129.66007904, ..., 107.64255949,\n",
       "        117.11539119,  88.06011089],\n",
       "       [120.19190631,  74.53689167, 129.86993707, ..., 105.76135173,\n",
       "        119.36111605,  90.10412529],\n",
       "       [120.81487169,  74.27584132, 130.51540623, ..., 107.86036086,\n",
       "        119.47089901,  86.79602161]])"
      ]
     },
     "execution_count": 44,
     "metadata": {},
     "output_type": "execute_result"
    }
   ],
   "source": [
    "# Define parameters\n",
    "E=100; T=1; r=0.05\n",
    "\n",
    "# Call the simulation function - s0=100,  mu=rf=0.05(5%), sigma=vol=0.2(20%), horizon=T=T year, timesteps=252,\n",
    "# n_sims=number of simultaions=100000\n",
    "S = simulate_path_em(100,0.05,0.2,T,252,100000)\n",
    "\n",
    "print(\"Simulated Stock Price for Time T = 1 year -\")\n",
    "S"
   ]
  },
  {
   "cell_type": "markdown",
   "id": "4fd90e8b",
   "metadata": {},
   "source": [
    "Stock Price at Time T = 1 year -"
   ]
  },
  {
   "cell_type": "code",
   "execution_count": 45,
   "id": "2797dd77",
   "metadata": {},
   "outputs": [
    {
     "data": {
      "text/plain": [
       "array([120.81487169,  74.27584132, 130.51540623, ..., 107.86036086,\n",
       "       119.47089901,  86.79602161])"
      ]
     },
     "execution_count": 45,
     "metadata": {},
     "output_type": "execute_result"
    }
   ],
   "source": [
    "S[251]"
   ]
  },
  {
   "cell_type": "markdown",
   "id": "0a96007a",
   "metadata": {},
   "source": [
    "<b>i) Arithmetic average - Discrete Sampling</b>"
   ]
  },
  {
   "cell_type": "code",
   "execution_count": 46,
   "id": "ba545975",
   "metadata": {},
   "outputs": [],
   "source": [
    "def asian_arth_dis(E,T):\n",
    "    \n",
    "    r = 0.05\n",
    "    timesteps = int (252 * T)\n",
    "    S = simulate_path_em(100,0.05,0.2,T,timesteps,100000)\n",
    "    # Average price\n",
    "    A = S.mean(axis=0)\n",
    "    \n",
    "    C0 = exp(-r*T) * mean(maximum(0, A-E))\n",
    "    P0 = exp(-r*T) * mean(maximum(0, E-A))\n",
    "    \n",
    "    C1 = exp(-r*T) * mean(maximum(0, S[timesteps-1]-A))\n",
    "    P1 = exp(-r*T) * mean(maximum(0, A-S[timesteps-1]))\n",
    "\n",
    "    return C0, P0, C1, P1\n"
   ]
  },
  {
   "cell_type": "code",
   "execution_count": 47,
   "id": "642a481a",
   "metadata": {},
   "outputs": [
    {
     "name": "stdout",
     "output_type": "stream",
     "text": [
      "Asian Call Option Value for Fixed Strike - Arithmetic average - Discrete Sampling is 5.7214\n",
      "Asian Put Option Value for Fixed Strike - Arithmetic average - Discrete Sampling is 3.3323\n",
      "Asian Call Option Value for Floating Strike - Arithmetic average - Discrete Sampling is 5.8127\n",
      "Asian Put Option Value for Floating Strike - Arithmetic average - Discrete Sampling is 3.4192\n"
     ]
    }
   ],
   "source": [
    " # Print the values\n",
    "C0, P0, C1, P1 = asian_arth_dis(100,1)\n",
    "print(f\"Asian Call Option Value for Fixed Strike - Arithmetic average - Discrete Sampling is {C0:0.4f}\")\n",
    "print(f\"Asian Put Option Value for Fixed Strike - Arithmetic average - Discrete Sampling is {P0:0.4f}\")\n",
    "print(f\"Asian Call Option Value for Floating Strike - Arithmetic average - Discrete Sampling is {C1:0.4f}\")\n",
    "print(f\"Asian Put Option Value for Floating Strike - Arithmetic average - Discrete Sampling is {P1:0.4f}\")"
   ]
  },
  {
   "cell_type": "code",
   "execution_count": 48,
   "id": "ea4ee29a",
   "metadata": {},
   "outputs": [],
   "source": [
    "# Vary the value of E and T in the above Steps to see the effect\n",
    "\n",
    "E = [80,90,100,110,120]\n",
    "T = [0.25,0.5,1,1.5,2]"
   ]
  },
  {
   "cell_type": "code",
   "execution_count": 49,
   "id": "1983be07",
   "metadata": {},
   "outputs": [],
   "source": [
    "c0_arr=[]\n",
    "p0_arr=[]\n",
    "c1_arr=[]\n",
    "p1_arr=[]\n",
    "data_call_fixed=[]\n",
    "data_put_fixed=[]\n",
    "data_call_float=[]\n",
    "data_put_float=[]\n",
    "\n",
    "for j in range(0, 5):\n",
    "    for k in range(0, 5):\n",
    "        c0, p0, c1, p1 = asian_arth_dis(E[j],T[k])\n",
    "        c0_arr.append(c0)\n",
    "        p0_arr.append(p0)\n",
    "        c1_arr.append(c1)\n",
    "        p1_arr.append(p1)\n",
    "        x0=[E[j],T[k],c0]\n",
    "        y0=[E[j],T[k],p0]\n",
    "        x1=[T[k],c1]\n",
    "        y1=[T[k],p1]\n",
    "        data_call_fixed.append(x0)\n",
    "        data_put_fixed.append(y0)\n",
    "        data_call_float.append(x1)\n",
    "        data_put_float.append(y1)\n"
   ]
  },
  {
   "cell_type": "code",
   "execution_count": 50,
   "id": "ad01d71f",
   "metadata": {},
   "outputs": [
    {
     "name": "stdout",
     "output_type": "stream",
     "text": [
      "Call Price for Fixed Strike - Arithmetic average - Discrete Sampling with varying Strike Price and Time to Maturity is -\n"
     ]
    },
    {
     "data": {
      "text/html": [
       "<div>\n",
       "<style scoped>\n",
       "    .dataframe tbody tr th:only-of-type {\n",
       "        vertical-align: middle;\n",
       "    }\n",
       "\n",
       "    .dataframe tbody tr th {\n",
       "        vertical-align: top;\n",
       "    }\n",
       "\n",
       "    .dataframe thead th {\n",
       "        text-align: right;\n",
       "    }\n",
       "</style>\n",
       "<table border=\"1\" class=\"dataframe\">\n",
       "  <thead>\n",
       "    <tr style=\"text-align: right;\">\n",
       "      <th>Time to Maturity</th>\n",
       "      <th>0.25</th>\n",
       "      <th>0.50</th>\n",
       "      <th>1.00</th>\n",
       "      <th>1.50</th>\n",
       "      <th>2.00</th>\n",
       "    </tr>\n",
       "    <tr>\n",
       "      <th>Strike Price</th>\n",
       "      <th></th>\n",
       "      <th></th>\n",
       "      <th></th>\n",
       "      <th></th>\n",
       "      <th></th>\n",
       "    </tr>\n",
       "  </thead>\n",
       "  <tbody>\n",
       "    <tr>\n",
       "      <th>80</th>\n",
       "      <td>20.350129</td>\n",
       "      <td>20.720503</td>\n",
       "      <td>21.460725</td>\n",
       "      <td>22.224727</td>\n",
       "      <td>22.988719</td>\n",
       "    </tr>\n",
       "    <tr>\n",
       "      <th>90</th>\n",
       "      <td>10.522499</td>\n",
       "      <td>11.198381</td>\n",
       "      <td>12.552682</td>\n",
       "      <td>13.817590</td>\n",
       "      <td>14.984130</td>\n",
       "    </tr>\n",
       "    <tr>\n",
       "      <th>100</th>\n",
       "      <td>2.565725</td>\n",
       "      <td>3.816489</td>\n",
       "      <td>5.721435</td>\n",
       "      <td>7.288427</td>\n",
       "      <td>8.678075</td>\n",
       "    </tr>\n",
       "    <tr>\n",
       "      <th>110</th>\n",
       "      <td>0.154405</td>\n",
       "      <td>0.687164</td>\n",
       "      <td>1.966595</td>\n",
       "      <td>3.246805</td>\n",
       "      <td>4.474580</td>\n",
       "    </tr>\n",
       "    <tr>\n",
       "      <th>120</th>\n",
       "      <td>0.001746</td>\n",
       "      <td>0.064753</td>\n",
       "      <td>0.518978</td>\n",
       "      <td>1.239869</td>\n",
       "      <td>2.079392</td>\n",
       "    </tr>\n",
       "  </tbody>\n",
       "</table>\n",
       "</div>"
      ],
      "text/plain": [
       "Time to Maturity       0.25       0.50       1.00       1.50       2.00\n",
       "Strike Price                                                           \n",
       "80                20.350129  20.720503  21.460725  22.224727  22.988719\n",
       "90                10.522499  11.198381  12.552682  13.817590  14.984130\n",
       "100                2.565725   3.816489   5.721435   7.288427   8.678075\n",
       "110                0.154405   0.687164   1.966595   3.246805   4.474580\n",
       "120                0.001746   0.064753   0.518978   1.239869   2.079392"
      ]
     },
     "execution_count": 50,
     "metadata": {},
     "output_type": "execute_result"
    }
   ],
   "source": [
    "print(\"Call Price for Fixed Strike - Arithmetic average - Discrete Sampling with varying Strike Price and Time to Maturity is -\")       \n",
    "\n",
    "# read it into a dataframe:\n",
    "df_call = pd.DataFrame(data_call_fixed, columns=['Strike Price','Time to Maturity','Call Price'])\n",
    "\n",
    "# create pivot table with x and rows, y and columns, z as values\n",
    "df_call.pivot_table(values='Call Price', index='Strike Price', columns='Time to Maturity') "
   ]
  },
  {
   "cell_type": "code",
   "execution_count": 51,
   "id": "6c47e072",
   "metadata": {},
   "outputs": [
    {
     "name": "stdout",
     "output_type": "stream",
     "text": [
      "Put Price for Fixed Strike - Arithmetic average - Discrete Sampling with varying Strike Price and Time to Maturity is -\n"
     ]
    },
    {
     "data": {
      "text/html": [
       "<div>\n",
       "<style scoped>\n",
       "    .dataframe tbody tr th:only-of-type {\n",
       "        vertical-align: middle;\n",
       "    }\n",
       "\n",
       "    .dataframe tbody tr th {\n",
       "        vertical-align: top;\n",
       "    }\n",
       "\n",
       "    .dataframe thead th {\n",
       "        text-align: right;\n",
       "    }\n",
       "</style>\n",
       "<table border=\"1\" class=\"dataframe\">\n",
       "  <thead>\n",
       "    <tr style=\"text-align: right;\">\n",
       "      <th>Time to Maturity</th>\n",
       "      <th>0.25</th>\n",
       "      <th>0.50</th>\n",
       "      <th>1.00</th>\n",
       "      <th>1.50</th>\n",
       "      <th>2.00</th>\n",
       "    </tr>\n",
       "    <tr>\n",
       "      <th>Strike Price</th>\n",
       "      <th></th>\n",
       "      <th></th>\n",
       "      <th></th>\n",
       "      <th></th>\n",
       "      <th></th>\n",
       "    </tr>\n",
       "  </thead>\n",
       "  <tbody>\n",
       "    <tr>\n",
       "      <th>80</th>\n",
       "      <td>0.000015</td>\n",
       "      <td>0.003075</td>\n",
       "      <td>0.047003</td>\n",
       "      <td>0.131648</td>\n",
       "      <td>0.235497</td>\n",
       "    </tr>\n",
       "    <tr>\n",
       "      <th>90</th>\n",
       "      <td>0.048163</td>\n",
       "      <td>0.234052</td>\n",
       "      <td>0.651255</td>\n",
       "      <td>1.001947</td>\n",
       "      <td>1.279282</td>\n",
       "    </tr>\n",
       "    <tr>\n",
       "      <th>100</th>\n",
       "      <td>1.967167</td>\n",
       "      <td>2.605259</td>\n",
       "      <td>3.332301</td>\n",
       "      <td>3.750218</td>\n",
       "      <td>4.021601</td>\n",
       "    </tr>\n",
       "    <tr>\n",
       "      <th>110</th>\n",
       "      <td>9.431625</td>\n",
       "      <td>9.229033</td>\n",
       "      <td>9.089756</td>\n",
       "      <td>8.986032</td>\n",
       "      <td>8.866480</td>\n",
       "    </tr>\n",
       "    <tr>\n",
       "      <th>120</th>\n",
       "      <td>19.154744</td>\n",
       "      <td>18.359721</td>\n",
       "      <td>17.154433</td>\n",
       "      <td>16.256530</td>\n",
       "      <td>15.519667</td>\n",
       "    </tr>\n",
       "  </tbody>\n",
       "</table>\n",
       "</div>"
      ],
      "text/plain": [
       "Time to Maturity       0.25       0.50       1.00       1.50       2.00\n",
       "Strike Price                                                           \n",
       "80                 0.000015   0.003075   0.047003   0.131648   0.235497\n",
       "90                 0.048163   0.234052   0.651255   1.001947   1.279282\n",
       "100                1.967167   2.605259   3.332301   3.750218   4.021601\n",
       "110                9.431625   9.229033   9.089756   8.986032   8.866480\n",
       "120               19.154744  18.359721  17.154433  16.256530  15.519667"
      ]
     },
     "execution_count": 51,
     "metadata": {},
     "output_type": "execute_result"
    }
   ],
   "source": [
    "print(\"Put Price for Fixed Strike - Arithmetic average - Discrete Sampling with varying Strike Price and Time to Maturity is -\")       \n",
    "\n",
    "# read it into a dataframe:\n",
    "df_put = pd.DataFrame(data_put_fixed, columns=['Strike Price','Time to Maturity','Put Price'])\n",
    "\n",
    "# create pivot table with x and rows, y and columns, z as values\n",
    "df_put.pivot_table(values='Put Price', index='Strike Price', columns='Time to Maturity') "
   ]
  },
  {
   "cell_type": "code",
   "execution_count": 52,
   "id": "c643728c",
   "metadata": {},
   "outputs": [
    {
     "name": "stdout",
     "output_type": "stream",
     "text": [
      "Call Price for Float Strike - Arithmetic average - Discrete Sampling with varying Strike Price and Time to Maturity is -\n"
     ]
    },
    {
     "data": {
      "text/html": [
       "<div>\n",
       "<style scoped>\n",
       "    .dataframe tbody tr th:only-of-type {\n",
       "        vertical-align: middle;\n",
       "    }\n",
       "\n",
       "    .dataframe tbody tr th {\n",
       "        vertical-align: top;\n",
       "    }\n",
       "\n",
       "    .dataframe thead th {\n",
       "        text-align: right;\n",
       "    }\n",
       "</style>\n",
       "<table border=\"1\" class=\"dataframe\">\n",
       "  <thead>\n",
       "    <tr style=\"text-align: right;\">\n",
       "      <th>Time to Maturity</th>\n",
       "      <th>0.25</th>\n",
       "      <th>0.50</th>\n",
       "      <th>1.00</th>\n",
       "      <th>1.50</th>\n",
       "      <th>2.00</th>\n",
       "    </tr>\n",
       "  </thead>\n",
       "  <tbody>\n",
       "    <tr>\n",
       "      <th>Call Price</th>\n",
       "      <td>2.587743</td>\n",
       "      <td>3.87037</td>\n",
       "      <td>5.812657</td>\n",
       "      <td>7.536395</td>\n",
       "      <td>8.992661</td>\n",
       "    </tr>\n",
       "  </tbody>\n",
       "</table>\n",
       "</div>"
      ],
      "text/plain": [
       "Time to Maturity      0.25     0.50      1.00      1.50      2.00\n",
       "Call Price        2.587743  3.87037  5.812657  7.536395  8.992661"
      ]
     },
     "execution_count": 52,
     "metadata": {},
     "output_type": "execute_result"
    }
   ],
   "source": [
    "print(\"Call Price for Float Strike - Arithmetic average - Discrete Sampling with varying Strike Price and Time to Maturity is -\")       \n",
    "\n",
    "# read it into a dataframe:\n",
    "df_call = pd.DataFrame(data_call_float, columns=['Time to Maturity','Call Price'])\n",
    "\n",
    "# create pivot table with x and rows, y and columns, z as values\n",
    "df_call.pivot_table(values='Call Price', columns='Time to Maturity') "
   ]
  },
  {
   "cell_type": "code",
   "execution_count": 53,
   "id": "f9a96cb5",
   "metadata": {},
   "outputs": [
    {
     "name": "stdout",
     "output_type": "stream",
     "text": [
      "Put Price for Float Strike - Arithmetic average - Discrete Sampling with varying Strike Price and Time to Maturity is -\n"
     ]
    },
    {
     "data": {
      "text/html": [
       "<div>\n",
       "<style scoped>\n",
       "    .dataframe tbody tr th:only-of-type {\n",
       "        vertical-align: middle;\n",
       "    }\n",
       "\n",
       "    .dataframe tbody tr th {\n",
       "        vertical-align: top;\n",
       "    }\n",
       "\n",
       "    .dataframe thead th {\n",
       "        text-align: right;\n",
       "    }\n",
       "</style>\n",
       "<table border=\"1\" class=\"dataframe\">\n",
       "  <thead>\n",
       "    <tr style=\"text-align: right;\">\n",
       "      <th>Time to Maturity</th>\n",
       "      <th>0.25</th>\n",
       "      <th>0.50</th>\n",
       "      <th>1.00</th>\n",
       "      <th>1.50</th>\n",
       "      <th>2.00</th>\n",
       "    </tr>\n",
       "  </thead>\n",
       "  <tbody>\n",
       "    <tr>\n",
       "      <th>Put Price</th>\n",
       "      <td>1.959058</td>\n",
       "      <td>2.61904</td>\n",
       "      <td>3.419185</td>\n",
       "      <td>3.846688</td>\n",
       "      <td>4.168901</td>\n",
       "    </tr>\n",
       "  </tbody>\n",
       "</table>\n",
       "</div>"
      ],
      "text/plain": [
       "Time to Maturity      0.25     0.50      1.00      1.50      2.00\n",
       "Put Price         1.959058  2.61904  3.419185  3.846688  4.168901"
      ]
     },
     "execution_count": 53,
     "metadata": {},
     "output_type": "execute_result"
    }
   ],
   "source": [
    "print(\"Put Price for Float Strike - Arithmetic average - Discrete Sampling with varying Strike Price and Time to Maturity is -\")       \n",
    "\n",
    "# read it into a dataframe:\n",
    "df_put = pd.DataFrame(data_put_float, columns=['Time to Maturity','Put Price'])\n",
    "\n",
    "# create pivot table with x and rows, y and columns, z as values\n",
    "df_put.pivot_table(values='Put Price', columns='Time to Maturity') "
   ]
  },
  {
   "cell_type": "markdown",
   "id": "7f5993ca",
   "metadata": {},
   "source": [
    "<b>ii) Arithmetic average - Continuous Sampling</b>"
   ]
  },
  {
   "cell_type": "code",
   "execution_count": 54,
   "id": "6ecbbf9c",
   "metadata": {},
   "outputs": [],
   "source": [
    "# define simulation function for exact solution and find Area A\n",
    "def simulate_path_em_integral_arth_cont(s0, mu, sigma, horizon, timesteps, n_sims):\n",
    "\n",
    "    # set the random seed for reproducibility\n",
    "    random.seed(10000)\n",
    "\n",
    "    # read parameters\n",
    "    S0 = s0                 # initial spot price\n",
    "    r = mu                  # mu = rf in risk neutral framework\n",
    "    T = horizon             # time horizon\n",
    "    t = timesteps           # number of time steps\n",
    "    n = n_sims              # number of simulation\n",
    "\n",
    "    # define dt\n",
    "    dt = T/t                # length of time interval\n",
    "\n",
    "    # simulate 'n' asset price path with 't' timesteps\n",
    "    \n",
    "    S = zeros((t,n))\n",
    "    A = zeros((t,n))\n",
    "    S[0] = S0\n",
    "    A[0] = 0\n",
    "\n",
    "    for i in range(0, t-1):\n",
    "        w = random.standard_normal(n)\n",
    "        S[i+1] = S[i] * (1 + r * dt + sigma * sqrt(dt) * w)\n",
    "        A[i] = S[i] * dt\n",
    "\n",
    "    return S, A\n",
    "# using approx. vale of exp as (2.718281828459045 ^)"
   ]
  },
  {
   "cell_type": "code",
   "execution_count": 55,
   "id": "ab54839f",
   "metadata": {},
   "outputs": [
    {
     "data": {
      "text/plain": [
       "array([[0.3968254 , 0.3968254 , 0.3968254 , ..., 0.3968254 , 0.3968254 ,\n",
       "        0.3968254 ],\n",
       "       [0.39054928, 0.39778473, 0.39542319, ..., 0.39689454, 0.39502417,\n",
       "        0.39654276],\n",
       "       [0.3851581 , 0.39570938, 0.38740194, ..., 0.39316156, 0.40266517,\n",
       "        0.40146633],\n",
       "       ...,\n",
       "       [0.48917112, 0.30032919, 0.51452412, ..., 0.42715301, 0.46474362,\n",
       "        0.34944488],\n",
       "       [0.47695201, 0.29578132, 0.51535689, ..., 0.4196879 , 0.47365522,\n",
       "        0.35755605],\n",
       "       [0.        , 0.        , 0.        , ..., 0.        , 0.        ,\n",
       "        0.        ]])"
      ]
     },
     "execution_count": 55,
     "metadata": {},
     "output_type": "execute_result"
    }
   ],
   "source": [
    "# Define parameters\n",
    "E=100; T=1; r=0.05\n",
    "\n",
    "# Call the simulation function - s0=100,  mu=rf=0.05(5%), sigma=vol=0.2(20%), horizon=T=T year, timesteps=252,\n",
    "# n_sims=number of simultaions=100000\n",
    "S, S_area = simulate_path_em_integral_arth_cont(100,0.05,0.2,T,252,100000)\n",
    "\n",
    "S_area"
   ]
  },
  {
   "cell_type": "code",
   "execution_count": 56,
   "id": "a78c0c06",
   "metadata": {},
   "outputs": [
    {
     "data": {
      "text/plain": [
       "array([[100.        , 100.        , 100.        , ..., 100.        ,\n",
       "        100.        , 100.        ],\n",
       "       [ 98.41841759, 100.24175312,  99.64664371, ..., 100.01742297,\n",
       "         99.54608997,  99.9287754 ],\n",
       "       [ 97.05984028,  99.71876403,  97.62528921, ...,  99.07671355,\n",
       "        101.47162225, 101.16951484],\n",
       "       ...,\n",
       "       [123.27112136,  75.68295491, 129.66007904, ..., 107.64255949,\n",
       "        117.11539119,  88.06011089],\n",
       "       [120.19190631,  74.53689167, 129.86993707, ..., 105.76135173,\n",
       "        119.36111605,  90.10412529],\n",
       "       [120.81487169,  74.27584132, 130.51540623, ..., 107.86036086,\n",
       "        119.47089901,  86.79602161]])"
      ]
     },
     "execution_count": 56,
     "metadata": {},
     "output_type": "execute_result"
    }
   ],
   "source": [
    "S"
   ]
  },
  {
   "cell_type": "code",
   "execution_count": 57,
   "id": "090ca82d",
   "metadata": {},
   "outputs": [],
   "source": [
    "def asian_arth_cont(E,T):\n",
    "    \n",
    "    r = 0.05\n",
    "    timesteps = int (252 * T)\n",
    "    S, S_area = simulate_path_em_integral_arth_cont(100,0.05,0.2,T,timesteps,100000)\n",
    "    # Average price\n",
    "    A = (1/T)*S_area.sum(axis=0)\n",
    "    \n",
    "    C0 = exp(-r*T) * mean(maximum(0, A-E))\n",
    "    P0 = exp(-r*T) * mean(maximum(0, E-A))\n",
    "    \n",
    "    C1 = exp(-r*T) * mean(maximum(0, S[timesteps-1]-A))\n",
    "    P1 = exp(-r*T) * mean(maximum(0, A-S[timesteps-1]))\n",
    "\n",
    "    return C0, P0, C1, P1"
   ]
  },
  {
   "cell_type": "code",
   "execution_count": 58,
   "id": "a7946d67",
   "metadata": {},
   "outputs": [
    {
     "name": "stdout",
     "output_type": "stream",
     "text": [
      "Asian Call Option Value for Fixed Strike - Arithmetic average - Continuous Sampling is 5.4766\n",
      "Asian Put Option Value for Fixed Strike - Arithmetic average - Continuous Sampling is 3.4839\n",
      "Asian Call Option Value for Float Strike - Arithmetic average - Continuous Sampling is 6.0576\n",
      "Asian Put Option Value for Float Strike - Arithmetic average - Continuous Sampling is 3.2677\n"
     ]
    }
   ],
   "source": [
    " # Print the values\n",
    "C0, P0, C1, P1 = asian_arth_cont(100,1)\n",
    "print(f\"Asian Call Option Value for Fixed Strike - Arithmetic average - Continuous Sampling is {C0:0.4f}\")\n",
    "print(f\"Asian Put Option Value for Fixed Strike - Arithmetic average - Continuous Sampling is {P0:0.4f}\")\n",
    "print(f\"Asian Call Option Value for Float Strike - Arithmetic average - Continuous Sampling is {C1:0.4f}\")\n",
    "print(f\"Asian Put Option Value for Float Strike - Arithmetic average - Continuous Sampling is {P1:0.4f}\")"
   ]
  },
  {
   "cell_type": "code",
   "execution_count": 59,
   "id": "7a6a2fc3",
   "metadata": {},
   "outputs": [],
   "source": [
    "# Vary the value of E and T in the above Steps to see the effect\n",
    "\n",
    "E = [80,90,100,110,120]\n",
    "T = [0.25,0.5,1,1.5,2]"
   ]
  },
  {
   "cell_type": "code",
   "execution_count": 60,
   "id": "415b8beb",
   "metadata": {},
   "outputs": [],
   "source": [
    "c0_arr=[]\n",
    "p0_arr=[]\n",
    "c1_arr=[]\n",
    "p1_arr=[]\n",
    "data_call_fixed=[]\n",
    "data_put_fixed=[]\n",
    "data_call_float=[]\n",
    "data_put_float=[]\n",
    "\n",
    "for j in range(0, 5):\n",
    "    for k in range(0, 5):\n",
    "        c0, p0, c1, p1 = asian_arth_cont(E[j],T[k])\n",
    "        c0_arr.append(c0)\n",
    "        p0_arr.append(p0)\n",
    "        c1_arr.append(c1)\n",
    "        p1_arr.append(p1)\n",
    "        x0=[E[j],T[k],c0]\n",
    "        y0=[E[j],T[k],p0]\n",
    "        x1=[T[k],c1]\n",
    "        y1=[T[k],p1]\n",
    "        data_call_fixed.append(x0)\n",
    "        data_put_fixed.append(y0)\n",
    "        data_call_float.append(x1)\n",
    "        data_put_float.append(y1)\n"
   ]
  },
  {
   "cell_type": "code",
   "execution_count": 61,
   "id": "d103729b",
   "metadata": {},
   "outputs": [
    {
     "name": "stdout",
     "output_type": "stream",
     "text": [
      "Call Price for Fixed Strike - Arithmetic average - Continuous Sampling with varying Strike Price and Time to Maturity is -\n"
     ]
    },
    {
     "data": {
      "text/html": [
       "<div>\n",
       "<style scoped>\n",
       "    .dataframe tbody tr th:only-of-type {\n",
       "        vertical-align: middle;\n",
       "    }\n",
       "\n",
       "    .dataframe tbody tr th {\n",
       "        vertical-align: top;\n",
       "    }\n",
       "\n",
       "    .dataframe thead th {\n",
       "        text-align: right;\n",
       "    }\n",
       "</style>\n",
       "<table border=\"1\" class=\"dataframe\">\n",
       "  <thead>\n",
       "    <tr style=\"text-align: right;\">\n",
       "      <th>Time to Maturity</th>\n",
       "      <th>0.25</th>\n",
       "      <th>0.50</th>\n",
       "      <th>1.00</th>\n",
       "      <th>1.50</th>\n",
       "      <th>2.00</th>\n",
       "    </tr>\n",
       "    <tr>\n",
       "      <th>Strike Price</th>\n",
       "      <th></th>\n",
       "      <th></th>\n",
       "      <th></th>\n",
       "      <th></th>\n",
       "      <th></th>\n",
       "    </tr>\n",
       "  </thead>\n",
       "  <tbody>\n",
       "    <tr>\n",
       "      <th>80</th>\n",
       "      <td>18.763105</td>\n",
       "      <td>19.928026</td>\n",
       "      <td>21.068472</td>\n",
       "      <td>21.966020</td>\n",
       "      <td>22.796685</td>\n",
       "    </tr>\n",
       "    <tr>\n",
       "      <th>90</th>\n",
       "      <td>8.982624</td>\n",
       "      <td>10.459042</td>\n",
       "      <td>12.200025</td>\n",
       "      <td>13.586996</td>\n",
       "      <td>14.812815</td>\n",
       "    </tr>\n",
       "    <tr>\n",
       "      <th>100</th>\n",
       "      <td>1.762178</td>\n",
       "      <td>3.364493</td>\n",
       "      <td>5.476627</td>\n",
       "      <td>7.117044</td>\n",
       "      <td>8.544816</td>\n",
       "    </tr>\n",
       "    <tr>\n",
       "      <th>110</th>\n",
       "      <td>0.073431</td>\n",
       "      <td>0.559360</td>\n",
       "      <td>1.847303</td>\n",
       "      <td>3.144484</td>\n",
       "      <td>4.385913</td>\n",
       "    </tr>\n",
       "    <tr>\n",
       "      <th>120</th>\n",
       "      <td>0.000599</td>\n",
       "      <td>0.047765</td>\n",
       "      <td>0.477239</td>\n",
       "      <td>1.190299</td>\n",
       "      <td>2.028475</td>\n",
       "    </tr>\n",
       "  </tbody>\n",
       "</table>\n",
       "</div>"
      ],
      "text/plain": [
       "Time to Maturity       0.25       0.50       1.00       1.50       2.00\n",
       "Strike Price                                                           \n",
       "80                18.763105  19.928026  21.068472  21.966020  22.796685\n",
       "90                 8.982624  10.459042  12.200025  13.586996  14.812815\n",
       "100                1.762178   3.364493   5.476627   7.117044   8.544816\n",
       "110                0.073431   0.559360   1.847303   3.144484   4.385913\n",
       "120                0.000599   0.047765   0.477239   1.190299   2.028475"
      ]
     },
     "execution_count": 61,
     "metadata": {},
     "output_type": "execute_result"
    }
   ],
   "source": [
    "print(\"Call Price for Fixed Strike - Arithmetic average - Continuous Sampling with varying Strike Price and Time to Maturity is -\")       \n",
    "\n",
    "# read it into a dataframe:\n",
    "df_call = pd.DataFrame(data_call_fixed, columns=['Strike Price','Time to Maturity','Call Price'])\n",
    "\n",
    "# create pivot table with x and rows, y and columns, z as values\n",
    "df_call.pivot_table(values='Call Price', index='Strike Price', columns='Time to Maturity') "
   ]
  },
  {
   "cell_type": "code",
   "execution_count": 62,
   "id": "5e1ee734",
   "metadata": {},
   "outputs": [
    {
     "name": "stdout",
     "output_type": "stream",
     "text": [
      "Put Price for Fixed Strike - Arithmetic average - Continuous Sampling with varying Strike Price and Time to Maturity is -\n"
     ]
    },
    {
     "data": {
      "text/html": [
       "<div>\n",
       "<style scoped>\n",
       "    .dataframe tbody tr th:only-of-type {\n",
       "        vertical-align: middle;\n",
       "    }\n",
       "\n",
       "    .dataframe tbody tr th {\n",
       "        vertical-align: top;\n",
       "    }\n",
       "\n",
       "    .dataframe thead th {\n",
       "        text-align: right;\n",
       "    }\n",
       "</style>\n",
       "<table border=\"1\" class=\"dataframe\">\n",
       "  <thead>\n",
       "    <tr style=\"text-align: right;\">\n",
       "      <th>Time to Maturity</th>\n",
       "      <th>0.25</th>\n",
       "      <th>0.50</th>\n",
       "      <th>1.00</th>\n",
       "      <th>1.50</th>\n",
       "      <th>2.00</th>\n",
       "    </tr>\n",
       "    <tr>\n",
       "      <th>Strike Price</th>\n",
       "      <th></th>\n",
       "      <th></th>\n",
       "      <th></th>\n",
       "      <th></th>\n",
       "      <th></th>\n",
       "    </tr>\n",
       "  </thead>\n",
       "  <tbody>\n",
       "    <tr>\n",
       "      <th>80</th>\n",
       "      <td>0.000055</td>\n",
       "      <td>0.004197</td>\n",
       "      <td>0.051200</td>\n",
       "      <td>0.137498</td>\n",
       "      <td>0.241804</td>\n",
       "    </tr>\n",
       "    <tr>\n",
       "      <th>90</th>\n",
       "      <td>0.095352</td>\n",
       "      <td>0.288313</td>\n",
       "      <td>0.695048</td>\n",
       "      <td>1.035908</td>\n",
       "      <td>1.306308</td>\n",
       "    </tr>\n",
       "    <tr>\n",
       "      <th>100</th>\n",
       "      <td>2.750684</td>\n",
       "      <td>2.946863</td>\n",
       "      <td>3.483944</td>\n",
       "      <td>3.843392</td>\n",
       "      <td>4.086683</td>\n",
       "    </tr>\n",
       "    <tr>\n",
       "      <th>110</th>\n",
       "      <td>10.937715</td>\n",
       "      <td>9.894829</td>\n",
       "      <td>9.366914</td>\n",
       "      <td>9.148266</td>\n",
       "      <td>8.976155</td>\n",
       "    </tr>\n",
       "    <tr>\n",
       "      <th>120</th>\n",
       "      <td>20.740661</td>\n",
       "      <td>19.136333</td>\n",
       "      <td>17.509144</td>\n",
       "      <td>16.471516</td>\n",
       "      <td>15.667091</td>\n",
       "    </tr>\n",
       "  </tbody>\n",
       "</table>\n",
       "</div>"
      ],
      "text/plain": [
       "Time to Maturity       0.25       0.50       1.00       1.50       2.00\n",
       "Strike Price                                                           \n",
       "80                 0.000055   0.004197   0.051200   0.137498   0.241804\n",
       "90                 0.095352   0.288313   0.695048   1.035908   1.306308\n",
       "100                2.750684   2.946863   3.483944   3.843392   4.086683\n",
       "110               10.937715   9.894829   9.366914   9.148266   8.976155\n",
       "120               20.740661  19.136333  17.509144  16.471516  15.667091"
      ]
     },
     "execution_count": 62,
     "metadata": {},
     "output_type": "execute_result"
    }
   ],
   "source": [
    "print(\"Put Price for Fixed Strike - Arithmetic average - Continuous Sampling with varying Strike Price and Time to Maturity is -\")       \n",
    "\n",
    "# read it into a dataframe:\n",
    "df_put = pd.DataFrame(data_put_fixed, columns=['Strike Price','Time to Maturity','Put Price'])\n",
    "\n",
    "# create pivot table with x and rows, y and columns, z as values\n",
    "df_put.pivot_table(values='Put Price', index='Strike Price', columns='Time to Maturity') "
   ]
  },
  {
   "cell_type": "code",
   "execution_count": 63,
   "id": "5860162b",
   "metadata": {},
   "outputs": [
    {
     "name": "stdout",
     "output_type": "stream",
     "text": [
      "Call Price for Float Strike - Arithmetic average - Continuous Sampling with varying Strike Price and Time to Maturity is -\n"
     ]
    },
    {
     "data": {
      "text/html": [
       "<div>\n",
       "<style scoped>\n",
       "    .dataframe tbody tr th:only-of-type {\n",
       "        vertical-align: middle;\n",
       "    }\n",
       "\n",
       "    .dataframe tbody tr th {\n",
       "        vertical-align: top;\n",
       "    }\n",
       "\n",
       "    .dataframe thead th {\n",
       "        text-align: right;\n",
       "    }\n",
       "</style>\n",
       "<table border=\"1\" class=\"dataframe\">\n",
       "  <thead>\n",
       "    <tr style=\"text-align: right;\">\n",
       "      <th>Time to Maturity</th>\n",
       "      <th>0.25</th>\n",
       "      <th>0.50</th>\n",
       "      <th>1.00</th>\n",
       "      <th>1.50</th>\n",
       "      <th>2.00</th>\n",
       "    </tr>\n",
       "  </thead>\n",
       "  <tbody>\n",
       "    <tr>\n",
       "      <th>Call Price</th>\n",
       "      <td>3.558918</td>\n",
       "      <td>4.346376</td>\n",
       "      <td>6.057582</td>\n",
       "      <td>7.706031</td>\n",
       "      <td>9.123327</td>\n",
       "    </tr>\n",
       "  </tbody>\n",
       "</table>\n",
       "</div>"
      ],
      "text/plain": [
       "Time to Maturity      0.25      0.50      1.00      1.50      2.00\n",
       "Call Price        3.558918  4.346376  6.057582  7.706031  9.123327"
      ]
     },
     "execution_count": 63,
     "metadata": {},
     "output_type": "execute_result"
    }
   ],
   "source": [
    "print(\"Call Price for Float Strike - Arithmetic average - Continuous Sampling with varying Strike Price and Time to Maturity is -\")       \n",
    "\n",
    "# read it into a dataframe:\n",
    "df_call = pd.DataFrame(data_call_float, columns=['Time to Maturity','Call Price'])\n",
    "\n",
    "# create pivot table with x and rows, y and columns, z as values\n",
    "df_call.pivot_table(values='Call Price', columns='Time to Maturity') "
   ]
  },
  {
   "cell_type": "code",
   "execution_count": 64,
   "id": "9ff08a77",
   "metadata": {},
   "outputs": [
    {
     "name": "stdout",
     "output_type": "stream",
     "text": [
      "Put Price for Float Strike - Arithmetic average - Continuous Sampling with varying Strike Price and Time to Maturity is -\n"
     ]
    },
    {
     "data": {
      "text/html": [
       "<div>\n",
       "<style scoped>\n",
       "    .dataframe tbody tr th:only-of-type {\n",
       "        vertical-align: middle;\n",
       "    }\n",
       "\n",
       "    .dataframe tbody tr th {\n",
       "        vertical-align: top;\n",
       "    }\n",
       "\n",
       "    .dataframe thead th {\n",
       "        text-align: right;\n",
       "    }\n",
       "</style>\n",
       "<table border=\"1\" class=\"dataframe\">\n",
       "  <thead>\n",
       "    <tr style=\"text-align: right;\">\n",
       "      <th>Time to Maturity</th>\n",
       "      <th>0.25</th>\n",
       "      <th>0.50</th>\n",
       "      <th>1.00</th>\n",
       "      <th>1.50</th>\n",
       "      <th>2.00</th>\n",
       "    </tr>\n",
       "  </thead>\n",
       "  <tbody>\n",
       "    <tr>\n",
       "      <th>Put Price</th>\n",
       "      <td>1.343169</td>\n",
       "      <td>2.301446</td>\n",
       "      <td>3.26766</td>\n",
       "      <td>3.751767</td>\n",
       "      <td>4.101226</td>\n",
       "    </tr>\n",
       "  </tbody>\n",
       "</table>\n",
       "</div>"
      ],
      "text/plain": [
       "Time to Maturity      0.25      0.50     1.00      1.50      2.00\n",
       "Put Price         1.343169  2.301446  3.26766  3.751767  4.101226"
      ]
     },
     "execution_count": 64,
     "metadata": {},
     "output_type": "execute_result"
    }
   ],
   "source": [
    "print(\"Put Price for Float Strike - Arithmetic average - Continuous Sampling with varying Strike Price and Time to Maturity is -\")       \n",
    "\n",
    "# read it into a dataframe:\n",
    "df_put = pd.DataFrame(data_put_float, columns=['Time to Maturity','Put Price'])\n",
    "\n",
    "# create pivot table with x and rows, y and columns, z as values\n",
    "df_put.pivot_table(values='Put Price', columns='Time to Maturity') "
   ]
  },
  {
   "cell_type": "markdown",
   "id": "e7295818",
   "metadata": {},
   "source": [
    "<b>iii) Geometric average - Discrete Sampling</b>"
   ]
  },
  {
   "cell_type": "code",
   "execution_count": 65,
   "id": "8c702f2d",
   "metadata": {},
   "outputs": [],
   "source": [
    "def asian_geo_dis(E,T):\n",
    "    \n",
    "    r = 0.05\n",
    "    timesteps = int (252 * T)\n",
    "    S = simulate_path_em(100,0.05,0.2,T,timesteps,100000)\n",
    "    # Geometric price\n",
    "    A = gmean(S,axis=0)\n",
    "    \n",
    "    C0 = exp(-r*T) * mean(maximum(0, A-E))\n",
    "    P0 = exp(-r*T) * mean(maximum(0, E-A))\n",
    "    \n",
    "    C1 = exp(-r*T) * mean(maximum(0, S[timesteps-1]-A))\n",
    "    P1 = exp(-r*T) * mean(maximum(0, A-S[timesteps-1]))\n",
    "\n",
    "    return C0, P0, C1, P1"
   ]
  },
  {
   "cell_type": "code",
   "execution_count": 66,
   "id": "5c023b28",
   "metadata": {},
   "outputs": [
    {
     "name": "stdout",
     "output_type": "stream",
     "text": [
      "Asian Call Option Value for Fixed Strike - Arithmetic average - Discrete Sampling is 5.5061\n",
      "Asian Put Option Value for Fixed Strike - Arithmetic average - Discrete Sampling is 3.4509\n",
      "Asian Call Option Value for Float Strike - Arithmetic average - Discrete Sampling is 6.0203\n",
      "Asian Put Option Value for Float Strike - Arithmetic average - Discrete Sampling is 3.2928\n"
     ]
    }
   ],
   "source": [
    " # Print the values\n",
    "C0, P0, C1, P1 = asian_geo_dis(100,1)\n",
    "print(f\"Asian Call Option Value for Fixed Strike - Arithmetic average - Discrete Sampling is {C0:0.4f}\")\n",
    "print(f\"Asian Put Option Value for Fixed Strike - Arithmetic average - Discrete Sampling is {P0:0.4f}\")\n",
    "print(f\"Asian Call Option Value for Float Strike - Arithmetic average - Discrete Sampling is {C1:0.4f}\")\n",
    "print(f\"Asian Put Option Value for Float Strike - Arithmetic average - Discrete Sampling is {P1:0.4f}\")"
   ]
  },
  {
   "cell_type": "code",
   "execution_count": 67,
   "id": "db712090",
   "metadata": {},
   "outputs": [],
   "source": [
    "# Vary the value of E and T in the above Steps to see the effect\n",
    "\n",
    "E = [80,90,100,110,120]\n",
    "T = [0.25,0.5,1,1.5,2]"
   ]
  },
  {
   "cell_type": "code",
   "execution_count": 68,
   "id": "bb3319b6",
   "metadata": {},
   "outputs": [],
   "source": [
    "c0_arr=[]\n",
    "p0_arr=[]\n",
    "c1_arr=[]\n",
    "p1_arr=[]\n",
    "data_call_fixed=[]\n",
    "data_put_fixed=[]\n",
    "data_call_float=[]\n",
    "data_put_float=[]\n",
    "\n",
    "for j in range(0, 5):\n",
    "    for k in range(0, 5):\n",
    "        c0, p0, c1, p1 = asian_geo_dis(E[j],T[k])\n",
    "        c0_arr.append(c0)\n",
    "        p0_arr.append(p0)\n",
    "        c1_arr.append(c1)\n",
    "        p1_arr.append(p1)\n",
    "        x0=[E[j],T[k],c0]\n",
    "        y0=[E[j],T[k],p0]\n",
    "        x1=[T[k],c1]\n",
    "        y1=[T[k],p1]\n",
    "        data_call_fixed.append(x0)\n",
    "        data_put_fixed.append(y0)\n",
    "        data_call_float.append(x1)\n",
    "        data_put_float.append(y1)"
   ]
  },
  {
   "cell_type": "code",
   "execution_count": 69,
   "id": "615c54fc",
   "metadata": {},
   "outputs": [
    {
     "name": "stdout",
     "output_type": "stream",
     "text": [
      "Call Price for Fixed Strike - Geometric average - Discrete Sampling with varying Strike Price and Time to Maturity is -\n"
     ]
    },
    {
     "data": {
      "text/html": [
       "<div>\n",
       "<style scoped>\n",
       "    .dataframe tbody tr th:only-of-type {\n",
       "        vertical-align: middle;\n",
       "    }\n",
       "\n",
       "    .dataframe tbody tr th {\n",
       "        vertical-align: top;\n",
       "    }\n",
       "\n",
       "    .dataframe thead th {\n",
       "        text-align: right;\n",
       "    }\n",
       "</style>\n",
       "<table border=\"1\" class=\"dataframe\">\n",
       "  <thead>\n",
       "    <tr style=\"text-align: right;\">\n",
       "      <th>Time to Maturity</th>\n",
       "      <th>0.25</th>\n",
       "      <th>0.50</th>\n",
       "      <th>1.00</th>\n",
       "      <th>1.50</th>\n",
       "      <th>2.00</th>\n",
       "    </tr>\n",
       "    <tr>\n",
       "      <th>Strike Price</th>\n",
       "      <th></th>\n",
       "      <th></th>\n",
       "      <th></th>\n",
       "      <th></th>\n",
       "      <th></th>\n",
       "    </tr>\n",
       "  </thead>\n",
       "  <tbody>\n",
       "    <tr>\n",
       "      <th>80</th>\n",
       "      <td>20.266910</td>\n",
       "      <td>20.555034</td>\n",
       "      <td>21.138235</td>\n",
       "      <td>21.749963</td>\n",
       "      <td>22.362981</td>\n",
       "    </tr>\n",
       "    <tr>\n",
       "      <th>90</th>\n",
       "      <td>10.444474</td>\n",
       "      <td>11.052719</td>\n",
       "      <td>12.275103</td>\n",
       "      <td>13.403001</td>\n",
       "      <td>14.429201</td>\n",
       "    </tr>\n",
       "    <tr>\n",
       "      <th>100</th>\n",
       "      <td>2.518046</td>\n",
       "      <td>3.715695</td>\n",
       "      <td>5.506119</td>\n",
       "      <td>6.948142</td>\n",
       "      <td>8.206209</td>\n",
       "    </tr>\n",
       "    <tr>\n",
       "      <th>110</th>\n",
       "      <td>0.141629</td>\n",
       "      <td>0.637827</td>\n",
       "      <td>1.822102</td>\n",
       "      <td>2.991063</td>\n",
       "      <td>4.096969</td>\n",
       "    </tr>\n",
       "    <tr>\n",
       "      <th>120</th>\n",
       "      <td>0.001319</td>\n",
       "      <td>0.053238</td>\n",
       "      <td>0.446297</td>\n",
       "      <td>1.077128</td>\n",
       "      <td>1.809202</td>\n",
       "    </tr>\n",
       "  </tbody>\n",
       "</table>\n",
       "</div>"
      ],
      "text/plain": [
       "Time to Maturity       0.25       0.50       1.00       1.50       2.00\n",
       "Strike Price                                                           \n",
       "80                20.266910  20.555034  21.138235  21.749963  22.362981\n",
       "90                10.444474  11.052719  12.275103  13.403001  14.429201\n",
       "100                2.518046   3.715695   5.506119   6.948142   8.206209\n",
       "110                0.141629   0.637827   1.822102   2.991063   4.096969\n",
       "120                0.001319   0.053238   0.446297   1.077128   1.809202"
      ]
     },
     "execution_count": 69,
     "metadata": {},
     "output_type": "execute_result"
    }
   ],
   "source": [
    "print(\"Call Price for Fixed Strike - Geometric average - Discrete Sampling with varying Strike Price and Time to Maturity is -\")       \n",
    "\n",
    "# read it into a dataframe:\n",
    "df_call = pd.DataFrame(data_call_fixed, columns=['Strike Price','Time to Maturity','Call Price'])\n",
    "\n",
    "# create pivot table with x and rows, y and columns, z as values\n",
    "df_call.pivot_table(values='Call Price', index='Strike Price', columns='Time to Maturity') "
   ]
  },
  {
   "cell_type": "code",
   "execution_count": 70,
   "id": "0b9dec5f",
   "metadata": {},
   "outputs": [
    {
     "name": "stdout",
     "output_type": "stream",
     "text": [
      "Put Price for Fixed Strike - Geometric average - Discrete Sampling with varying Strike Price and Time to Maturity is -\n"
     ]
    },
    {
     "data": {
      "text/html": [
       "<div>\n",
       "<style scoped>\n",
       "    .dataframe tbody tr th:only-of-type {\n",
       "        vertical-align: middle;\n",
       "    }\n",
       "\n",
       "    .dataframe tbody tr th {\n",
       "        vertical-align: top;\n",
       "    }\n",
       "\n",
       "    .dataframe thead th {\n",
       "        text-align: right;\n",
       "    }\n",
       "</style>\n",
       "<table border=\"1\" class=\"dataframe\">\n",
       "  <thead>\n",
       "    <tr style=\"text-align: right;\">\n",
       "      <th>Time to Maturity</th>\n",
       "      <th>0.25</th>\n",
       "      <th>0.50</th>\n",
       "      <th>1.00</th>\n",
       "      <th>1.50</th>\n",
       "      <th>2.00</th>\n",
       "    </tr>\n",
       "    <tr>\n",
       "      <th>Strike Price</th>\n",
       "      <th></th>\n",
       "      <th></th>\n",
       "      <th></th>\n",
       "      <th></th>\n",
       "      <th></th>\n",
       "    </tr>\n",
       "  </thead>\n",
       "  <tbody>\n",
       "    <tr>\n",
       "      <th>80</th>\n",
       "      <td>0.000021</td>\n",
       "      <td>0.004220</td>\n",
       "      <td>0.058464</td>\n",
       "      <td>0.160657</td>\n",
       "      <td>0.283468</td>\n",
       "    </tr>\n",
       "    <tr>\n",
       "      <th>90</th>\n",
       "      <td>0.053364</td>\n",
       "      <td>0.255003</td>\n",
       "      <td>0.707627</td>\n",
       "      <td>1.091129</td>\n",
       "      <td>1.398062</td>\n",
       "    </tr>\n",
       "    <tr>\n",
       "      <th>100</th>\n",
       "      <td>2.002714</td>\n",
       "      <td>2.671079</td>\n",
       "      <td>3.450937</td>\n",
       "      <td>3.913705</td>\n",
       "      <td>4.223444</td>\n",
       "    </tr>\n",
       "    <tr>\n",
       "      <th>110</th>\n",
       "      <td>9.502074</td>\n",
       "      <td>9.346310</td>\n",
       "      <td>9.279214</td>\n",
       "      <td>9.234061</td>\n",
       "      <td>9.162578</td>\n",
       "    </tr>\n",
       "    <tr>\n",
       "      <th>120</th>\n",
       "      <td>19.237543</td>\n",
       "      <td>18.514820</td>\n",
       "      <td>17.415704</td>\n",
       "      <td>16.597561</td>\n",
       "      <td>15.923185</td>\n",
       "    </tr>\n",
       "  </tbody>\n",
       "</table>\n",
       "</div>"
      ],
      "text/plain": [
       "Time to Maturity       0.25       0.50       1.00       1.50       2.00\n",
       "Strike Price                                                           \n",
       "80                 0.000021   0.004220   0.058464   0.160657   0.283468\n",
       "90                 0.053364   0.255003   0.707627   1.091129   1.398062\n",
       "100                2.002714   2.671079   3.450937   3.913705   4.223444\n",
       "110                9.502074   9.346310   9.279214   9.234061   9.162578\n",
       "120               19.237543  18.514820  17.415704  16.597561  15.923185"
      ]
     },
     "execution_count": 70,
     "metadata": {},
     "output_type": "execute_result"
    }
   ],
   "source": [
    "print(\"Put Price for Fixed Strike - Geometric average - Discrete Sampling with varying Strike Price and Time to Maturity is -\")       \n",
    "\n",
    "# read it into a dataframe:\n",
    "df_put = pd.DataFrame(data_put_fixed, columns=['Strike Price','Time to Maturity','Put Price'])\n",
    "\n",
    "# create pivot table with x and rows, y and columns, z as values\n",
    "df_put.pivot_table(values='Put Price', index='Strike Price', columns='Time to Maturity') "
   ]
  },
  {
   "cell_type": "code",
   "execution_count": 71,
   "id": "615578f5",
   "metadata": {},
   "outputs": [
    {
     "name": "stdout",
     "output_type": "stream",
     "text": [
      "Call Price for Float Strike - Geometric average - Discrete Sampling with varying Strike Price and Time to Maturity is -\n"
     ]
    },
    {
     "data": {
      "text/html": [
       "<div>\n",
       "<style scoped>\n",
       "    .dataframe tbody tr th:only-of-type {\n",
       "        vertical-align: middle;\n",
       "    }\n",
       "\n",
       "    .dataframe tbody tr th {\n",
       "        vertical-align: top;\n",
       "    }\n",
       "\n",
       "    .dataframe thead th {\n",
       "        text-align: right;\n",
       "    }\n",
       "</style>\n",
       "<table border=\"1\" class=\"dataframe\">\n",
       "  <thead>\n",
       "    <tr style=\"text-align: right;\">\n",
       "      <th>Time to Maturity</th>\n",
       "      <th>0.25</th>\n",
       "      <th>0.50</th>\n",
       "      <th>1.00</th>\n",
       "      <th>1.50</th>\n",
       "      <th>2.00</th>\n",
       "    </tr>\n",
       "  </thead>\n",
       "  <tbody>\n",
       "    <tr>\n",
       "      <th>Call Price</th>\n",
       "      <td>2.634613</td>\n",
       "      <td>3.968656</td>\n",
       "      <td>6.020269</td>\n",
       "      <td>7.864163</td>\n",
       "      <td>9.444132</td>\n",
       "    </tr>\n",
       "  </tbody>\n",
       "</table>\n",
       "</div>"
      ],
      "text/plain": [
       "Time to Maturity      0.25      0.50      1.00      1.50      2.00\n",
       "Call Price        2.634613  3.968656  6.020269  7.864163  9.444132"
      ]
     },
     "execution_count": 71,
     "metadata": {},
     "output_type": "execute_result"
    }
   ],
   "source": [
    "print(\"Call Price for Float Strike - Geometric average - Discrete Sampling with varying Strike Price and Time to Maturity is -\")       \n",
    "\n",
    "# read it into a dataframe:\n",
    "df_call = pd.DataFrame(data_call_float, columns=['Time to Maturity','Call Price'])\n",
    "\n",
    "# create pivot table with x and rows, y and columns, z as values\n",
    "df_call.pivot_table(values='Call Price', columns='Time to Maturity') "
   ]
  },
  {
   "cell_type": "code",
   "execution_count": 72,
   "id": "2f9c5b67",
   "metadata": {},
   "outputs": [
    {
     "name": "stdout",
     "output_type": "stream",
     "text": [
      "Put Price for Float Strike - Geometric average - Discrete Sampling with varying Strike Price and Time to Maturity is -\n"
     ]
    },
    {
     "data": {
      "text/html": [
       "<div>\n",
       "<style scoped>\n",
       "    .dataframe tbody tr th:only-of-type {\n",
       "        vertical-align: middle;\n",
       "    }\n",
       "\n",
       "    .dataframe tbody tr th {\n",
       "        vertical-align: top;\n",
       "    }\n",
       "\n",
       "    .dataframe thead th {\n",
       "        text-align: right;\n",
       "    }\n",
       "</style>\n",
       "<table border=\"1\" class=\"dataframe\">\n",
       "  <thead>\n",
       "    <tr style=\"text-align: right;\">\n",
       "      <th>Time to Maturity</th>\n",
       "      <th>0.25</th>\n",
       "      <th>0.50</th>\n",
       "      <th>1.00</th>\n",
       "      <th>1.50</th>\n",
       "      <th>2.00</th>\n",
       "    </tr>\n",
       "  </thead>\n",
       "  <tbody>\n",
       "    <tr>\n",
       "      <th>Put Price</th>\n",
       "      <td>1.922702</td>\n",
       "      <td>2.550712</td>\n",
       "      <td>3.292846</td>\n",
       "      <td>3.670684</td>\n",
       "      <td>3.946664</td>\n",
       "    </tr>\n",
       "  </tbody>\n",
       "</table>\n",
       "</div>"
      ],
      "text/plain": [
       "Time to Maturity      0.25      0.50      1.00      1.50      2.00\n",
       "Put Price         1.922702  2.550712  3.292846  3.670684  3.946664"
      ]
     },
     "execution_count": 72,
     "metadata": {},
     "output_type": "execute_result"
    }
   ],
   "source": [
    "print(\"Put Price for Float Strike - Geometric average - Discrete Sampling with varying Strike Price and Time to Maturity is -\")       \n",
    "\n",
    "# read it into a dataframe:\n",
    "df_put = pd.DataFrame(data_put_float, columns=['Time to Maturity','Put Price'])\n",
    "\n",
    "# create pivot table with x and rows, y and columns, z as values\n",
    "df_put.pivot_table(values='Put Price', columns='Time to Maturity') "
   ]
  },
  {
   "cell_type": "markdown",
   "id": "c6897b45",
   "metadata": {},
   "source": [
    "<b>iv) Geometric average - Continuous Sampling</b>\n",
    "\n",
    "Using the previous Stochastic Integration method"
   ]
  },
  {
   "cell_type": "code",
   "execution_count": 73,
   "id": "26e862e0",
   "metadata": {},
   "outputs": [],
   "source": [
    "# define simulation function for exact solution and find Area A\n",
    "def simulate_path_em_integral_geo_cont(s0, mu, sigma, horizon, timesteps, n_sims):\n",
    "\n",
    "    # set the random seed for reproducibility\n",
    "    random.seed(10000)\n",
    "\n",
    "    # read parameters\n",
    "    S0 = s0                 # initial spot price\n",
    "    r = mu                  # mu = rf in risk neutral framework\n",
    "    T = horizon             # time horizon\n",
    "    t = timesteps           # number of time steps\n",
    "    n = n_sims              # number of simulation\n",
    "\n",
    "    # define dt\n",
    "    dt = T/t                # length of time interval\n",
    "\n",
    "    # simulate 'n' asset price path with 't' timesteps\n",
    "    \n",
    "    S = zeros((t,n))\n",
    "    A = zeros((t,n))\n",
    "    S[0] = S0\n",
    "    A[0] = 0\n",
    "\n",
    "    for i in range(0, t-1):\n",
    "        w = random.standard_normal(n)\n",
    "        S[i+1] = S[i] * (1 + r * dt + sigma * sqrt(dt) * w)\n",
    "        A[i+1] = log(S[i]) * dt\n",
    "\n",
    "    return S, A\n",
    "# using approx. vale of exp as (2.718281828459045 ^)"
   ]
  },
  {
   "cell_type": "code",
   "execution_count": 74,
   "id": "2361472d",
   "metadata": {},
   "outputs": [
    {
     "data": {
      "text/plain": [
       "array([[0.        , 0.        , 0.        , ..., 0.        , 0.        ,\n",
       "        0.        ],\n",
       "       [0.01827448, 0.01827448, 0.01827448, ..., 0.01827448, 0.01827448,\n",
       "        0.01827448],\n",
       "       [0.01821122, 0.01828407, 0.01826044, ..., 0.01827518, 0.01825643,\n",
       "        0.01827166],\n",
       "       ...,\n",
       "       [0.0190807 , 0.0170659 , 0.01932457, ..., 0.0185361 , 0.01887989,\n",
       "        0.0177678 ],\n",
       "       [0.01910471, 0.01716886, 0.01930522, ..., 0.01856673, 0.01890143,\n",
       "        0.01776992],\n",
       "       [0.01900432, 0.01710831, 0.01931164, ..., 0.01849677, 0.0189768 ,\n",
       "        0.01786098]])"
      ]
     },
     "execution_count": 74,
     "metadata": {},
     "output_type": "execute_result"
    }
   ],
   "source": [
    "# Define parameters\n",
    "E=100; T=1; r=0.05\n",
    "\n",
    "# Call the simulation function - s0=100,  mu=rf=0.05(5%), sigma=vol=0.2(20%), horizon=T=T year, timesteps=252,\n",
    "# n_sims=number of simultaions=100000\n",
    "S, S_area = simulate_path_em_integral_geo_cont(100,0.05,0.2,T,252,100000)\n",
    "\n",
    "S_area"
   ]
  },
  {
   "cell_type": "code",
   "execution_count": 75,
   "id": "1aadd6db",
   "metadata": {},
   "outputs": [
    {
     "data": {
      "text/plain": [
       "array([4.74360612, 4.50520847, 4.83410562, ..., 4.62684645, 4.80215777,\n",
       "       4.50535924])"
      ]
     },
     "execution_count": 75,
     "metadata": {},
     "output_type": "execute_result"
    }
   ],
   "source": [
    "S_area.sum(axis=0)"
   ]
  },
  {
   "cell_type": "code",
   "execution_count": 76,
   "id": "f07ee6be",
   "metadata": {},
   "outputs": [],
   "source": [
    "def asian_geo_cont(E,T):\n",
    "    \n",
    "    r = 0.05\n",
    "    timesteps = int (252 * T)\n",
    "    S, S_area = simulate_path_em_integral_geo_cont(100,0.05,0.2,T,timesteps,100000)\n",
    "    # Average price\n",
    "    A1 = (1/T)*S_area.sum(axis=0)\n",
    "    \n",
    "    A = power (2.718281828459045, A1)\n",
    "    \n",
    "    C0 = exp(-r*T) * mean(maximum(0, A-E))\n",
    "    P0 = exp(-r*T) * mean(maximum(0, E-A))\n",
    "    \n",
    "    C1 = exp(-r*T) * mean(maximum(0, S[timesteps-1]-A))\n",
    "    P1 = exp(-r*T) * mean(maximum(0, A-S[timesteps-1]))\n",
    "\n",
    "\n",
    "    return C0, P0, C1, P1"
   ]
  },
  {
   "cell_type": "code",
   "execution_count": 77,
   "id": "7bff78a7",
   "metadata": {},
   "outputs": [
    {
     "name": "stdout",
     "output_type": "stream",
     "text": [
      "Asian Call Option Value for Fixed Strike - Geometric average - Continuous Sampling is 4.4765\n",
      "Asian Put Option Value for Fixed Strike - Geometric average - Continuous Sampling is 4.1996\n",
      "Asian Call Option Value for Float Strike - Geometric average - Continuous Sampling is 7.1198\n",
      "Asian Put Option Value for Float Strike - Geometric average - Continuous Sampling is 2.6141\n"
     ]
    }
   ],
   "source": [
    " # Print the values\n",
    "C0, P0, C1, P1 = asian_geo_cont(100,1)\n",
    "print(f\"Asian Call Option Value for Fixed Strike - Geometric average - Continuous Sampling is {C0:0.4f}\")\n",
    "print(f\"Asian Put Option Value for Fixed Strike - Geometric average - Continuous Sampling is {P0:0.4f}\")\n",
    "print(f\"Asian Call Option Value for Float Strike - Geometric average - Continuous Sampling is {C1:0.4f}\")\n",
    "print(f\"Asian Put Option Value for Float Strike - Geometric average - Continuous Sampling is {P1:0.4f}\")"
   ]
  },
  {
   "cell_type": "code",
   "execution_count": 78,
   "id": "3964ba7e",
   "metadata": {},
   "outputs": [],
   "source": [
    "# Vary the value of E and T in the above Steps to see the effect\n",
    "\n",
    "E = [80,90,100,110,120]\n",
    "T = [0.25,0.5,1,1.5,2]"
   ]
  },
  {
   "cell_type": "code",
   "execution_count": 79,
   "id": "20099631",
   "metadata": {},
   "outputs": [],
   "source": [
    "c0_arr=[]\n",
    "p0_arr=[]\n",
    "c1_arr=[]\n",
    "p1_arr=[]\n",
    "data_call_fixed=[]\n",
    "data_put_fixed=[]\n",
    "data_call_float=[]\n",
    "data_put_float=[]\n",
    "\n",
    "for j in range(0, 5):\n",
    "    for k in range(0, 5):\n",
    "        c0, p0, c1, p1 = asian_geo_cont(E[j],T[k])\n",
    "        c0_arr.append(c0)\n",
    "        p0_arr.append(p0)\n",
    "        c1_arr.append(c1)\n",
    "        p1_arr.append(p1)\n",
    "        x0=[E[j],T[k],c0]\n",
    "        y0=[E[j],T[k],p0]\n",
    "        x1=[T[k],c1]\n",
    "        y1=[T[k],p1]\n",
    "        data_call_fixed.append(x0)\n",
    "        data_put_fixed.append(y0)\n",
    "        data_call_float.append(x1)\n",
    "        data_put_float.append(y1)"
   ]
  },
  {
   "cell_type": "code",
   "execution_count": 80,
   "id": "7363bf11",
   "metadata": {},
   "outputs": [
    {
     "name": "stdout",
     "output_type": "stream",
     "text": [
      "Call Price for Fixed Strike - Geometric average - Continuous Sampling with varying Strike Price and Time to Maturity is -\n"
     ]
    },
    {
     "data": {
      "text/html": [
       "<div>\n",
       "<style scoped>\n",
       "    .dataframe tbody tr th:only-of-type {\n",
       "        vertical-align: middle;\n",
       "    }\n",
       "\n",
       "    .dataframe tbody tr th {\n",
       "        vertical-align: top;\n",
       "    }\n",
       "\n",
       "    .dataframe thead th {\n",
       "        text-align: right;\n",
       "    }\n",
       "</style>\n",
       "<table border=\"1\" class=\"dataframe\">\n",
       "  <thead>\n",
       "    <tr style=\"text-align: right;\">\n",
       "      <th>Time to Maturity</th>\n",
       "      <th>0.25</th>\n",
       "      <th>0.50</th>\n",
       "      <th>1.00</th>\n",
       "      <th>1.50</th>\n",
       "      <th>2.00</th>\n",
       "    </tr>\n",
       "    <tr>\n",
       "      <th>Strike Price</th>\n",
       "      <th></th>\n",
       "      <th></th>\n",
       "      <th></th>\n",
       "      <th></th>\n",
       "      <th></th>\n",
       "    </tr>\n",
       "  </thead>\n",
       "  <tbody>\n",
       "    <tr>\n",
       "      <th>80</th>\n",
       "      <td>13.255075</td>\n",
       "      <td>17.009997</td>\n",
       "      <td>19.387004</td>\n",
       "      <td>20.604876</td>\n",
       "      <td>21.520053</td>\n",
       "    </tr>\n",
       "    <tr>\n",
       "      <th>90</th>\n",
       "      <td>4.131111</td>\n",
       "      <td>7.859406</td>\n",
       "      <td>10.730701</td>\n",
       "      <td>12.397632</td>\n",
       "      <td>13.687443</td>\n",
       "    </tr>\n",
       "    <tr>\n",
       "      <th>100</th>\n",
       "      <td>0.282962</td>\n",
       "      <td>1.979162</td>\n",
       "      <td>4.476537</td>\n",
       "      <td>6.221361</td>\n",
       "      <td>7.641600</td>\n",
       "    </tr>\n",
       "    <tr>\n",
       "      <th>110</th>\n",
       "      <td>0.002156</td>\n",
       "      <td>0.228904</td>\n",
       "      <td>1.353477</td>\n",
       "      <td>2.575286</td>\n",
       "      <td>3.733429</td>\n",
       "    </tr>\n",
       "    <tr>\n",
       "      <th>120</th>\n",
       "      <td>0.000000</td>\n",
       "      <td>0.010928</td>\n",
       "      <td>0.298273</td>\n",
       "      <td>0.888865</td>\n",
       "      <td>1.611415</td>\n",
       "    </tr>\n",
       "  </tbody>\n",
       "</table>\n",
       "</div>"
      ],
      "text/plain": [
       "Time to Maturity       0.25       0.50       1.00       1.50       2.00\n",
       "Strike Price                                                           \n",
       "80                13.255075  17.009997  19.387004  20.604876  21.520053\n",
       "90                 4.131111   7.859406  10.730701  12.397632  13.687443\n",
       "100                0.282962   1.979162   4.476537   6.221361   7.641600\n",
       "110                0.002156   0.228904   1.353477   2.575286   3.733429\n",
       "120                0.000000   0.010928   0.298273   0.888865   1.611415"
      ]
     },
     "execution_count": 80,
     "metadata": {},
     "output_type": "execute_result"
    }
   ],
   "source": [
    "print(\"Call Price for Fixed Strike - Geometric average - Continuous Sampling with varying Strike Price and Time to Maturity is -\")       \n",
    "\n",
    "# read it into a dataframe:\n",
    "df_call = pd.DataFrame(data_call_fixed, columns=['Strike Price','Time to Maturity','Call Price'])\n",
    "\n",
    "# create pivot table with x and rows, y and columns, z as values\n",
    "df_call.pivot_table(values='Call Price', index='Strike Price', columns='Time to Maturity') "
   ]
  },
  {
   "cell_type": "code",
   "execution_count": 81,
   "id": "d69de92f",
   "metadata": {},
   "outputs": [
    {
     "name": "stdout",
     "output_type": "stream",
     "text": [
      "Put Price for Fixed Strike - Geometric average - Continuous Sampling with varying Strike Price and Time to Maturity is -\n"
     ]
    },
    {
     "data": {
      "text/html": [
       "<div>\n",
       "<style scoped>\n",
       "    .dataframe tbody tr th:only-of-type {\n",
       "        vertical-align: middle;\n",
       "    }\n",
       "\n",
       "    .dataframe tbody tr th {\n",
       "        vertical-align: top;\n",
       "    }\n",
       "\n",
       "    .dataframe thead th {\n",
       "        text-align: right;\n",
       "    }\n",
       "</style>\n",
       "<table border=\"1\" class=\"dataframe\">\n",
       "  <thead>\n",
       "    <tr style=\"text-align: right;\">\n",
       "      <th>Time to Maturity</th>\n",
       "      <th>0.25</th>\n",
       "      <th>0.50</th>\n",
       "      <th>1.00</th>\n",
       "      <th>1.50</th>\n",
       "      <th>2.00</th>\n",
       "    </tr>\n",
       "    <tr>\n",
       "      <th>Strike Price</th>\n",
       "      <th></th>\n",
       "      <th></th>\n",
       "      <th></th>\n",
       "      <th></th>\n",
       "      <th></th>\n",
       "    </tr>\n",
       "  </thead>\n",
       "  <tbody>\n",
       "    <tr>\n",
       "      <th>80</th>\n",
       "      <td>0.003946</td>\n",
       "      <td>0.015716</td>\n",
       "      <td>0.085513</td>\n",
       "      <td>0.194477</td>\n",
       "      <td>0.318261</td>\n",
       "    </tr>\n",
       "    <tr>\n",
       "      <th>90</th>\n",
       "      <td>0.755760</td>\n",
       "      <td>0.618224</td>\n",
       "      <td>0.941503</td>\n",
       "      <td>1.264668</td>\n",
       "      <td>1.534026</td>\n",
       "    </tr>\n",
       "    <tr>\n",
       "      <th>100</th>\n",
       "      <td>6.783389</td>\n",
       "      <td>4.491079</td>\n",
       "      <td>4.199634</td>\n",
       "      <td>4.365833</td>\n",
       "      <td>4.536557</td>\n",
       "    </tr>\n",
       "    <tr>\n",
       "      <th>110</th>\n",
       "      <td>16.378360</td>\n",
       "      <td>12.493921</td>\n",
       "      <td>10.588868</td>\n",
       "      <td>9.997192</td>\n",
       "      <td>9.676759</td>\n",
       "    </tr>\n",
       "    <tr>\n",
       "      <th>120</th>\n",
       "      <td>26.251983</td>\n",
       "      <td>22.029043</td>\n",
       "      <td>19.045958</td>\n",
       "      <td>17.588206</td>\n",
       "      <td>16.603120</td>\n",
       "    </tr>\n",
       "  </tbody>\n",
       "</table>\n",
       "</div>"
      ],
      "text/plain": [
       "Time to Maturity       0.25       0.50       1.00       1.50       2.00\n",
       "Strike Price                                                           \n",
       "80                 0.003946   0.015716   0.085513   0.194477   0.318261\n",
       "90                 0.755760   0.618224   0.941503   1.264668   1.534026\n",
       "100                6.783389   4.491079   4.199634   4.365833   4.536557\n",
       "110               16.378360  12.493921  10.588868   9.997192   9.676759\n",
       "120               26.251983  22.029043  19.045958  17.588206  16.603120"
      ]
     },
     "execution_count": 81,
     "metadata": {},
     "output_type": "execute_result"
    }
   ],
   "source": [
    "print(\"Put Price for Fixed Strike - Geometric average - Continuous Sampling with varying Strike Price and Time to Maturity is -\")       \n",
    "\n",
    "# read it into a dataframe:\n",
    "df_put = pd.DataFrame(data_put_fixed, columns=['Strike Price','Time to Maturity','Put Price'])\n",
    "\n",
    "# create pivot table with x and rows, y and columns, z as values\n",
    "df_put.pivot_table(values='Put Price', index='Strike Price', columns='Time to Maturity') "
   ]
  },
  {
   "cell_type": "code",
   "execution_count": 82,
   "id": "155ed5f2",
   "metadata": {},
   "outputs": [
    {
     "name": "stdout",
     "output_type": "stream",
     "text": [
      "Call Price for Float Strike - Geometric average - Continuous Sampling with varying Strike Price and Time to Maturity is -\n"
     ]
    },
    {
     "data": {
      "text/html": [
       "<div>\n",
       "<style scoped>\n",
       "    .dataframe tbody tr th:only-of-type {\n",
       "        vertical-align: middle;\n",
       "    }\n",
       "\n",
       "    .dataframe tbody tr th {\n",
       "        vertical-align: top;\n",
       "    }\n",
       "\n",
       "    .dataframe thead th {\n",
       "        text-align: right;\n",
       "    }\n",
       "</style>\n",
       "<table border=\"1\" class=\"dataframe\">\n",
       "  <thead>\n",
       "    <tr style=\"text-align: right;\">\n",
       "      <th>Time to Maturity</th>\n",
       "      <th>0.25</th>\n",
       "      <th>0.50</th>\n",
       "      <th>1.00</th>\n",
       "      <th>1.50</th>\n",
       "      <th>2.00</th>\n",
       "    </tr>\n",
       "  </thead>\n",
       "  <tbody>\n",
       "    <tr>\n",
       "      <th>Call Price</th>\n",
       "      <td>7.944808</td>\n",
       "      <td>6.273332</td>\n",
       "      <td>7.119797</td>\n",
       "      <td>8.601731</td>\n",
       "      <td>10.0017</td>\n",
       "    </tr>\n",
       "  </tbody>\n",
       "</table>\n",
       "</div>"
      ],
      "text/plain": [
       "Time to Maturity      0.25      0.50      1.00      1.50     2.00\n",
       "Call Price        7.944808  6.273332  7.119797  8.601731  10.0017"
      ]
     },
     "execution_count": 82,
     "metadata": {},
     "output_type": "execute_result"
    }
   ],
   "source": [
    "print(\"Call Price for Float Strike - Geometric average - Continuous Sampling with varying Strike Price and Time to Maturity is -\")       \n",
    "\n",
    "# read it into a dataframe:\n",
    "df_call = pd.DataFrame(data_call_float, columns=['Time to Maturity','Call Price'])\n",
    "\n",
    "# create pivot table with x and rows, y and columns, z as values\n",
    "df_call.pivot_table(values='Call Price', columns='Time to Maturity') "
   ]
  },
  {
   "cell_type": "code",
   "execution_count": 83,
   "id": "2c135857",
   "metadata": {
    "scrolled": true
   },
   "outputs": [
    {
     "name": "stdout",
     "output_type": "stream",
     "text": [
      "Put Price for Float Strike - Geometric average - Continuous Sampling with varying Strike Price and Time to Maturity is -\n"
     ]
    },
    {
     "data": {
      "text/html": [
       "<div>\n",
       "<style scoped>\n",
       "    .dataframe tbody tr th:only-of-type {\n",
       "        vertical-align: middle;\n",
       "    }\n",
       "\n",
       "    .dataframe tbody tr th {\n",
       "        vertical-align: top;\n",
       "    }\n",
       "\n",
       "    .dataframe thead th {\n",
       "        text-align: right;\n",
       "    }\n",
       "</style>\n",
       "<table border=\"1\" class=\"dataframe\">\n",
       "  <thead>\n",
       "    <tr style=\"text-align: right;\">\n",
       "      <th>Time to Maturity</th>\n",
       "      <th>0.25</th>\n",
       "      <th>0.50</th>\n",
       "      <th>1.00</th>\n",
       "      <th>1.50</th>\n",
       "      <th>2.00</th>\n",
       "    </tr>\n",
       "  </thead>\n",
       "  <tbody>\n",
       "    <tr>\n",
       "      <th>Put Price</th>\n",
       "      <td>0.217139</td>\n",
       "      <td>1.298854</td>\n",
       "      <td>2.614095</td>\n",
       "      <td>3.229343</td>\n",
       "      <td>3.62651</td>\n",
       "    </tr>\n",
       "  </tbody>\n",
       "</table>\n",
       "</div>"
      ],
      "text/plain": [
       "Time to Maturity      0.25      0.50      1.00      1.50     2.00\n",
       "Put Price         0.217139  1.298854  2.614095  3.229343  3.62651"
      ]
     },
     "execution_count": 83,
     "metadata": {},
     "output_type": "execute_result"
    }
   ],
   "source": [
    "print(\"Put Price for Float Strike - Geometric average - Continuous Sampling with varying Strike Price and Time to Maturity is -\")       \n",
    "\n",
    "# read it into a dataframe:\n",
    "df_put = pd.DataFrame(data_put_float, columns=['Time to Maturity','Put Price'])\n",
    "\n",
    "# create pivot table with x and rows, y and columns, z as values\n",
    "df_put.pivot_table(values='Put Price', columns='Time to Maturity') "
   ]
  },
  {
   "cell_type": "code",
   "execution_count": null,
   "id": "135f3d96",
   "metadata": {},
   "outputs": [],
   "source": []
  },
  {
   "cell_type": "markdown",
   "id": "bf112eb3",
   "metadata": {},
   "source": [
    "<b>3) MILSTEIN SOLUTION </b>"
   ]
  },
  {
   "cell_type": "code",
   "execution_count": 84,
   "id": "1f536fca",
   "metadata": {},
   "outputs": [],
   "source": [
    "# define simulation function for exact solution\n",
    "def simulate_path_mi(s0, mu, sigma, horizon, timesteps, n_sims):\n",
    "\n",
    "    # set the random seed for reproducibility\n",
    "    random.seed(10000)\n",
    "\n",
    "    # read parameters\n",
    "    S0 = s0                 # initial spot price\n",
    "    r = mu                  # mu = rf in risk neutral framework\n",
    "    T = horizon             # time horizon\n",
    "    t = timesteps           # number of time steps\n",
    "    n = n_sims              # number of simulation\n",
    "\n",
    "    # define dt\n",
    "    dt = T/t                # length of time interval\n",
    "\n",
    "    # simulate 'n' asset price path with 't' timesteps\n",
    "    \n",
    "    S = zeros((t,n))\n",
    "    S[0] = S0\n",
    "\n",
    "    for i in range(0, t-1):\n",
    "        w = random.standard_normal(n)\n",
    "        S[i+1] = S[i] * (1 + r * dt + sigma * sqrt(dt) * w + 0.5 * sigma * sigma * (w * w - 1) * dt)\n",
    "\n",
    "    return S\n"
   ]
  },
  {
   "cell_type": "code",
   "execution_count": 85,
   "id": "0d91b89b",
   "metadata": {},
   "outputs": [
    {
     "name": "stdout",
     "output_type": "stream",
     "text": [
      "Simulated Stock Price -\n"
     ]
    },
    {
     "data": {
      "text/plain": [
       "array([[100.        , 100.        , 100.        , ..., 100.        ,\n",
       "        100.        , 100.        ],\n",
       "       [ 98.42330387, 100.23406284,  99.63940359, ..., 100.00948649,\n",
       "         99.53927566,  99.92088036],\n",
       "       [ 97.06649667,  99.70462871,  97.63119139, ...,  99.0655266 ,\n",
       "        101.47501776, 101.1610494 ],\n",
       "       ...,\n",
       "       [123.47779315,  75.68925564, 129.65472186, ..., 107.24487867,\n",
       "        117.02458949,  88.09548282],\n",
       "       [120.42275284,  74.54599692, 129.8544119 , ..., 105.37886111,\n",
       "        119.28035715,  90.1566545 ],\n",
       "       [121.03885343,  74.2795088 , 130.49097633, ..., 107.48225661,\n",
       "        119.38063017,  86.90088812]])"
      ]
     },
     "execution_count": 85,
     "metadata": {},
     "output_type": "execute_result"
    }
   ],
   "source": [
    "# Define parameters\n",
    "E=100; T=1; r=0.05\n",
    "\n",
    "# Call the simulation function - s0=100,  mu=rf=0.05(5%), sigma=vol=0.2(20%), horizon=T=T year, timesteps=252,\n",
    "# n_sims=number of simultaions=100000\n",
    "S = simulate_path_mi(100,0.05,0.2,T,252,100000)\n",
    "\n",
    "print(\"Simulated Stock Price -\")\n",
    "S"
   ]
  },
  {
   "cell_type": "code",
   "execution_count": 86,
   "id": "609fcdfd",
   "metadata": {},
   "outputs": [
    {
     "data": {
      "text/plain": [
       "array([121.03885343,  74.2795088 , 130.49097633, ..., 107.48225661,\n",
       "       119.38063017,  86.90088812])"
      ]
     },
     "execution_count": 86,
     "metadata": {},
     "output_type": "execute_result"
    }
   ],
   "source": [
    "S[251]"
   ]
  },
  {
   "cell_type": "markdown",
   "id": "453ccdc8",
   "metadata": {},
   "source": [
    "<b>i) Arithmetic average - Discrete Sampling</b>"
   ]
  },
  {
   "cell_type": "code",
   "execution_count": 87,
   "id": "d29f527f",
   "metadata": {},
   "outputs": [],
   "source": [
    "def asian_arth_dis(E,T):\n",
    "    \n",
    "    r = 0.05\n",
    "    timesteps = int (252 * T)\n",
    "    S = simulate_path_mi(100,0.05,0.2,T,timesteps,100000)\n",
    "    # Average price\n",
    "    A = S.mean(axis=0)\n",
    "    \n",
    "    C0 = exp(-r*T) * mean(maximum(0, A-E))\n",
    "    P0 = exp(-r*T) * mean(maximum(0, E-A))\n",
    "    \n",
    "    C1 = exp(-r*T) * mean(maximum(0, S[timesteps-1]-A))\n",
    "    P1 = exp(-r*T) * mean(maximum(0, A-S[timesteps-1]))\n",
    "\n",
    "    return C0, P0, C1, P1\n"
   ]
  },
  {
   "cell_type": "code",
   "execution_count": 88,
   "id": "0325a66c",
   "metadata": {},
   "outputs": [
    {
     "name": "stdout",
     "output_type": "stream",
     "text": [
      "Asian Call Option Value for Fixed Strike - Arithmetic average - Discrete Sampling is 5.7205\n",
      "Asian Put Option Value for Fixed Strike - Arithmetic average - Discrete Sampling is 3.3313\n",
      "Asian Call Option Value for Floating Strike - Arithmetic average - Discrete Sampling is 5.8117\n",
      "Asian Put Option Value for Floating Strike - Arithmetic average - Discrete Sampling is 3.4183\n"
     ]
    }
   ],
   "source": [
    " # Print the values\n",
    "C0, P0, C1, P1 = asian_arth_dis(100,1)\n",
    "print(f\"Asian Call Option Value for Fixed Strike - Arithmetic average - Discrete Sampling is {C0:0.4f}\")\n",
    "print(f\"Asian Put Option Value for Fixed Strike - Arithmetic average - Discrete Sampling is {P0:0.4f}\")\n",
    "print(f\"Asian Call Option Value for Floating Strike - Arithmetic average - Discrete Sampling is {C1:0.4f}\")\n",
    "print(f\"Asian Put Option Value for Floating Strike - Arithmetic average - Discrete Sampling is {P1:0.4f}\")"
   ]
  },
  {
   "cell_type": "code",
   "execution_count": 89,
   "id": "d1465a9a",
   "metadata": {},
   "outputs": [],
   "source": [
    "# Vary the value of E and T in the above Steps to see the effect\n",
    "\n",
    "E = [80,90,100,110,120]\n",
    "T = [0.25,0.5,1,1.5,2]"
   ]
  },
  {
   "cell_type": "code",
   "execution_count": 90,
   "id": "1437d615",
   "metadata": {},
   "outputs": [],
   "source": [
    "c0_arr=[]\n",
    "p0_arr=[]\n",
    "c1_arr=[]\n",
    "p1_arr=[]\n",
    "data_call_fixed=[]\n",
    "data_put_fixed=[]\n",
    "data_call_float=[]\n",
    "data_put_float=[]\n",
    "\n",
    "for j in range(0, 5):\n",
    "    for k in range(0, 5):\n",
    "        c0, p0, c1, p1 = asian_arth_dis(E[j],T[k])\n",
    "        c0_arr.append(c0)\n",
    "        p0_arr.append(p0)\n",
    "        c1_arr.append(c1)\n",
    "        p1_arr.append(p1)\n",
    "        x0=[E[j],T[k],c0]\n",
    "        y0=[E[j],T[k],p0]\n",
    "        x1=[T[k],c1]\n",
    "        y1=[T[k],p1]\n",
    "        data_call_fixed.append(x0)\n",
    "        data_put_fixed.append(y0)\n",
    "        data_call_float.append(x1)\n",
    "        data_put_float.append(y1)\n"
   ]
  },
  {
   "cell_type": "code",
   "execution_count": 91,
   "id": "ce807b23",
   "metadata": {},
   "outputs": [
    {
     "name": "stdout",
     "output_type": "stream",
     "text": [
      "Call Price for Fixed Strike - Arithmetic average - Discrete Sampling with varying Strike Price and Time to Maturity is -\n"
     ]
    },
    {
     "data": {
      "text/html": [
       "<div>\n",
       "<style scoped>\n",
       "    .dataframe tbody tr th:only-of-type {\n",
       "        vertical-align: middle;\n",
       "    }\n",
       "\n",
       "    .dataframe tbody tr th {\n",
       "        vertical-align: top;\n",
       "    }\n",
       "\n",
       "    .dataframe thead th {\n",
       "        text-align: right;\n",
       "    }\n",
       "</style>\n",
       "<table border=\"1\" class=\"dataframe\">\n",
       "  <thead>\n",
       "    <tr style=\"text-align: right;\">\n",
       "      <th>Time to Maturity</th>\n",
       "      <th>0.25</th>\n",
       "      <th>0.50</th>\n",
       "      <th>1.00</th>\n",
       "      <th>1.50</th>\n",
       "      <th>2.00</th>\n",
       "    </tr>\n",
       "    <tr>\n",
       "      <th>Strike Price</th>\n",
       "      <th></th>\n",
       "      <th></th>\n",
       "      <th></th>\n",
       "      <th></th>\n",
       "      <th></th>\n",
       "    </tr>\n",
       "  </thead>\n",
       "  <tbody>\n",
       "    <tr>\n",
       "      <th>80</th>\n",
       "      <td>20.350201</td>\n",
       "      <td>20.720581</td>\n",
       "      <td>21.460451</td>\n",
       "      <td>22.224086</td>\n",
       "      <td>22.987855</td>\n",
       "    </tr>\n",
       "    <tr>\n",
       "      <th>90</th>\n",
       "      <td>10.521952</td>\n",
       "      <td>11.197434</td>\n",
       "      <td>12.551277</td>\n",
       "      <td>13.816057</td>\n",
       "      <td>14.982476</td>\n",
       "    </tr>\n",
       "    <tr>\n",
       "      <th>100</th>\n",
       "      <td>2.565368</td>\n",
       "      <td>3.815961</td>\n",
       "      <td>5.720535</td>\n",
       "      <td>7.287419</td>\n",
       "      <td>8.676932</td>\n",
       "    </tr>\n",
       "    <tr>\n",
       "      <th>110</th>\n",
       "      <td>0.155496</td>\n",
       "      <td>0.688505</td>\n",
       "      <td>1.967645</td>\n",
       "      <td>3.247428</td>\n",
       "      <td>4.474806</td>\n",
       "    </tr>\n",
       "    <tr>\n",
       "      <th>120</th>\n",
       "      <td>0.001804</td>\n",
       "      <td>0.065374</td>\n",
       "      <td>0.520151</td>\n",
       "      <td>1.240976</td>\n",
       "      <td>2.080417</td>\n",
       "    </tr>\n",
       "  </tbody>\n",
       "</table>\n",
       "</div>"
      ],
      "text/plain": [
       "Time to Maturity       0.25       0.50       1.00       1.50       2.00\n",
       "Strike Price                                                           \n",
       "80                20.350201  20.720581  21.460451  22.224086  22.987855\n",
       "90                10.521952  11.197434  12.551277  13.816057  14.982476\n",
       "100                2.565368   3.815961   5.720535   7.287419   8.676932\n",
       "110                0.155496   0.688505   1.967645   3.247428   4.474806\n",
       "120                0.001804   0.065374   0.520151   1.240976   2.080417"
      ]
     },
     "execution_count": 91,
     "metadata": {},
     "output_type": "execute_result"
    }
   ],
   "source": [
    "print(\"Call Price for Fixed Strike - Arithmetic average - Discrete Sampling with varying Strike Price and Time to Maturity is -\")       \n",
    "\n",
    "# read it into a dataframe:\n",
    "df_call = pd.DataFrame(data_call_fixed, columns=['Strike Price','Time to Maturity','Call Price'])\n",
    "\n",
    "# create pivot table with x and rows, y and columns, z as values\n",
    "df_call.pivot_table(values='Call Price', index='Strike Price', columns='Time to Maturity') "
   ]
  },
  {
   "cell_type": "code",
   "execution_count": 92,
   "id": "1abb2930",
   "metadata": {},
   "outputs": [
    {
     "name": "stdout",
     "output_type": "stream",
     "text": [
      "Put Price for Fixed Strike - Arithmetic average - Discrete Sampling with varying Strike Price and Time to Maturity is -\n"
     ]
    },
    {
     "data": {
      "text/html": [
       "<div>\n",
       "<style scoped>\n",
       "    .dataframe tbody tr th:only-of-type {\n",
       "        vertical-align: middle;\n",
       "    }\n",
       "\n",
       "    .dataframe tbody tr th {\n",
       "        vertical-align: top;\n",
       "    }\n",
       "\n",
       "    .dataframe thead th {\n",
       "        text-align: right;\n",
       "    }\n",
       "</style>\n",
       "<table border=\"1\" class=\"dataframe\">\n",
       "  <thead>\n",
       "    <tr style=\"text-align: right;\">\n",
       "      <th>Time to Maturity</th>\n",
       "      <th>0.25</th>\n",
       "      <th>0.50</th>\n",
       "      <th>1.00</th>\n",
       "      <th>1.50</th>\n",
       "      <th>2.00</th>\n",
       "    </tr>\n",
       "    <tr>\n",
       "      <th>Strike Price</th>\n",
       "      <th></th>\n",
       "      <th></th>\n",
       "      <th></th>\n",
       "      <th></th>\n",
       "      <th></th>\n",
       "    </tr>\n",
       "  </thead>\n",
       "  <tbody>\n",
       "    <tr>\n",
       "      <th>80</th>\n",
       "      <td>0.000014</td>\n",
       "      <td>0.002988</td>\n",
       "      <td>0.046634</td>\n",
       "      <td>0.130938</td>\n",
       "      <td>0.234568</td>\n",
       "    </tr>\n",
       "    <tr>\n",
       "      <th>90</th>\n",
       "      <td>0.047543</td>\n",
       "      <td>0.232940</td>\n",
       "      <td>0.649753</td>\n",
       "      <td>1.000344</td>\n",
       "      <td>1.277563</td>\n",
       "    </tr>\n",
       "    <tr>\n",
       "      <th>100</th>\n",
       "      <td>1.966737</td>\n",
       "      <td>2.604567</td>\n",
       "      <td>3.331306</td>\n",
       "      <td>3.749141</td>\n",
       "      <td>4.020393</td>\n",
       "    </tr>\n",
       "    <tr>\n",
       "      <th>110</th>\n",
       "      <td>9.432644</td>\n",
       "      <td>9.230210</td>\n",
       "      <td>9.090711</td>\n",
       "      <td>8.986584</td>\n",
       "      <td>8.866641</td>\n",
       "    </tr>\n",
       "    <tr>\n",
       "      <th>120</th>\n",
       "      <td>19.154729</td>\n",
       "      <td>18.360177</td>\n",
       "      <td>17.155511</td>\n",
       "      <td>16.257567</td>\n",
       "      <td>15.520627</td>\n",
       "    </tr>\n",
       "  </tbody>\n",
       "</table>\n",
       "</div>"
      ],
      "text/plain": [
       "Time to Maturity       0.25       0.50       1.00       1.50       2.00\n",
       "Strike Price                                                           \n",
       "80                 0.000014   0.002988   0.046634   0.130938   0.234568\n",
       "90                 0.047543   0.232940   0.649753   1.000344   1.277563\n",
       "100                1.966737   2.604567   3.331306   3.749141   4.020393\n",
       "110                9.432644   9.230210   9.090711   8.986584   8.866641\n",
       "120               19.154729  18.360177  17.155511  16.257567  15.520627"
      ]
     },
     "execution_count": 92,
     "metadata": {},
     "output_type": "execute_result"
    }
   ],
   "source": [
    "print(\"Put Price for Fixed Strike - Arithmetic average - Discrete Sampling with varying Strike Price and Time to Maturity is -\")       \n",
    "\n",
    "# read it into a dataframe:\n",
    "df_put = pd.DataFrame(data_put_fixed, columns=['Strike Price','Time to Maturity','Put Price'])\n",
    "\n",
    "# create pivot table with x and rows, y and columns, z as values\n",
    "df_put.pivot_table(values='Put Price', index='Strike Price', columns='Time to Maturity') "
   ]
  },
  {
   "cell_type": "code",
   "execution_count": 93,
   "id": "986db3f2",
   "metadata": {},
   "outputs": [
    {
     "name": "stdout",
     "output_type": "stream",
     "text": [
      "Call Price for Float Strike - Arithmetic average - Discrete Sampling with varying Strike Price and Time to Maturity is -\n"
     ]
    },
    {
     "data": {
      "text/html": [
       "<div>\n",
       "<style scoped>\n",
       "    .dataframe tbody tr th:only-of-type {\n",
       "        vertical-align: middle;\n",
       "    }\n",
       "\n",
       "    .dataframe tbody tr th {\n",
       "        vertical-align: top;\n",
       "    }\n",
       "\n",
       "    .dataframe thead th {\n",
       "        text-align: right;\n",
       "    }\n",
       "</style>\n",
       "<table border=\"1\" class=\"dataframe\">\n",
       "  <thead>\n",
       "    <tr style=\"text-align: right;\">\n",
       "      <th>Time to Maturity</th>\n",
       "      <th>0.25</th>\n",
       "      <th>0.50</th>\n",
       "      <th>1.00</th>\n",
       "      <th>1.50</th>\n",
       "      <th>2.00</th>\n",
       "    </tr>\n",
       "  </thead>\n",
       "  <tbody>\n",
       "    <tr>\n",
       "      <th>Call Price</th>\n",
       "      <td>2.587463</td>\n",
       "      <td>3.869797</td>\n",
       "      <td>5.811719</td>\n",
       "      <td>7.535265</td>\n",
       "      <td>8.991894</td>\n",
       "    </tr>\n",
       "  </tbody>\n",
       "</table>\n",
       "</div>"
      ],
      "text/plain": [
       "Time to Maturity      0.25      0.50      1.00      1.50      2.00\n",
       "Call Price        2.587463  3.869797  5.811719  7.535265  8.991894"
      ]
     },
     "execution_count": 93,
     "metadata": {},
     "output_type": "execute_result"
    }
   ],
   "source": [
    "print(\"Call Price for Float Strike - Arithmetic average - Discrete Sampling with varying Strike Price and Time to Maturity is -\")       \n",
    "\n",
    "# read it into a dataframe:\n",
    "df_call = pd.DataFrame(data_call_float, columns=['Time to Maturity','Call Price'])\n",
    "\n",
    "# create pivot table with x and rows, y and columns, z as values\n",
    "df_call.pivot_table(values='Call Price', columns='Time to Maturity') "
   ]
  },
  {
   "cell_type": "code",
   "execution_count": 94,
   "id": "b349fd9e",
   "metadata": {},
   "outputs": [
    {
     "name": "stdout",
     "output_type": "stream",
     "text": [
      "Put Price for Float Strike - Arithmetic average - Discrete Sampling with varying Strike Price and Time to Maturity is -\n"
     ]
    },
    {
     "data": {
      "text/html": [
       "<div>\n",
       "<style scoped>\n",
       "    .dataframe tbody tr th:only-of-type {\n",
       "        vertical-align: middle;\n",
       "    }\n",
       "\n",
       "    .dataframe tbody tr th {\n",
       "        vertical-align: top;\n",
       "    }\n",
       "\n",
       "    .dataframe thead th {\n",
       "        text-align: right;\n",
       "    }\n",
       "</style>\n",
       "<table border=\"1\" class=\"dataframe\">\n",
       "  <thead>\n",
       "    <tr style=\"text-align: right;\">\n",
       "      <th>Time to Maturity</th>\n",
       "      <th>0.25</th>\n",
       "      <th>0.50</th>\n",
       "      <th>1.00</th>\n",
       "      <th>1.50</th>\n",
       "      <th>2.00</th>\n",
       "    </tr>\n",
       "  </thead>\n",
       "  <tbody>\n",
       "    <tr>\n",
       "      <th>Put Price</th>\n",
       "      <td>1.958599</td>\n",
       "      <td>2.618458</td>\n",
       "      <td>3.418348</td>\n",
       "      <td>3.845573</td>\n",
       "      <td>4.168002</td>\n",
       "    </tr>\n",
       "  </tbody>\n",
       "</table>\n",
       "</div>"
      ],
      "text/plain": [
       "Time to Maturity      0.25      0.50      1.00      1.50      2.00\n",
       "Put Price         1.958599  2.618458  3.418348  3.845573  4.168002"
      ]
     },
     "execution_count": 94,
     "metadata": {},
     "output_type": "execute_result"
    }
   ],
   "source": [
    "print(\"Put Price for Float Strike - Arithmetic average - Discrete Sampling with varying Strike Price and Time to Maturity is -\")       \n",
    "\n",
    "# read it into a dataframe:\n",
    "df_put = pd.DataFrame(data_put_float, columns=['Time to Maturity','Put Price'])\n",
    "\n",
    "# create pivot table with x and rows, y and columns, z as values\n",
    "df_put.pivot_table(values='Put Price', columns='Time to Maturity') "
   ]
  },
  {
   "cell_type": "markdown",
   "id": "eb798b2f",
   "metadata": {},
   "source": [
    "<b>ii) Arithmetic average - Continuous Sampling</b>"
   ]
  },
  {
   "cell_type": "code",
   "execution_count": 95,
   "id": "0849fcc9",
   "metadata": {},
   "outputs": [],
   "source": [
    "# define simulation function for exact solution and find Area A\n",
    "def simulate_path_mi_integral_arth_cont(s0, mu, sigma, horizon, timesteps, n_sims):\n",
    "\n",
    "    # set the random seed for reproducibility\n",
    "    random.seed(10000)\n",
    "\n",
    "    # read parameters\n",
    "    S0 = s0                 # initial spot price\n",
    "    r = mu                  # mu = rf in risk neutral framework\n",
    "    T = horizon             # time horizon\n",
    "    t = timesteps           # number of time steps\n",
    "    n = n_sims              # number of simulation\n",
    "\n",
    "    # define dt\n",
    "    dt = T/t                # length of time interval\n",
    "\n",
    "    # simulate 'n' asset price path with 't' timesteps\n",
    "    \n",
    "    S = zeros((t,n))\n",
    "    A = zeros((t,n))\n",
    "    S[0] = S0\n",
    "    A[0] = 0\n",
    "\n",
    "    for i in range(0, t-1):\n",
    "        w = random.standard_normal(n)\n",
    "        S[i+1] = S[i] * (1 + r * dt + sigma * sqrt(dt) * w + 0.5 * sigma * sigma * (w * w - 1) * dt)\n",
    "        A[i] = S[i] * dt\n",
    "\n",
    "    return S, A\n",
    "# using approx. vale of exp as (2.718281828459045 ^)"
   ]
  },
  {
   "cell_type": "code",
   "execution_count": 96,
   "id": "0ccb97e2",
   "metadata": {},
   "outputs": [
    {
     "data": {
      "text/plain": [
       "array([[0.3968254 , 0.3968254 , 0.3968254 , ..., 0.3968254 , 0.3968254 ,\n",
       "        0.3968254 ],\n",
       "       [0.39056867, 0.39775422, 0.39539446, ..., 0.39686304, 0.39499713,\n",
       "        0.39651143],\n",
       "       [0.38518451, 0.39565329, 0.38742536, ..., 0.39311717, 0.40267864,\n",
       "        0.40143274],\n",
       "       ...,\n",
       "       [0.48999124, 0.30035419, 0.51450286, ..., 0.42557492, 0.46438329,\n",
       "        0.34958525],\n",
       "       [0.47786807, 0.29581745, 0.51529529, ..., 0.41817008, 0.47333475,\n",
       "        0.3577645 ],\n",
       "       [0.        , 0.        , 0.        , ..., 0.        , 0.        ,\n",
       "        0.        ]])"
      ]
     },
     "execution_count": 96,
     "metadata": {},
     "output_type": "execute_result"
    }
   ],
   "source": [
    "# Define parameters\n",
    "E=100; T=1; r=0.05\n",
    "\n",
    "# Call the simulation function - s0=100,  mu=rf=0.05(5%), sigma=vol=0.2(20%), horizon=T=T year, timesteps=252,\n",
    "# n_sims=number of simultaions=100000\n",
    "S, S_area = simulate_path_mi_integral_arth_cont(100,0.05,0.2,T,252,100000)\n",
    "\n",
    "S_area"
   ]
  },
  {
   "cell_type": "code",
   "execution_count": 97,
   "id": "8bbdde28",
   "metadata": {},
   "outputs": [
    {
     "data": {
      "text/plain": [
       "array([[100.        , 100.        , 100.        , ..., 100.        ,\n",
       "        100.        , 100.        ],\n",
       "       [ 98.42330387, 100.23406284,  99.63940359, ..., 100.00948649,\n",
       "         99.53927566,  99.92088036],\n",
       "       [ 97.06649667,  99.70462871,  97.63119139, ...,  99.0655266 ,\n",
       "        101.47501776, 101.1610494 ],\n",
       "       ...,\n",
       "       [123.47779315,  75.68925564, 129.65472186, ..., 107.24487867,\n",
       "        117.02458949,  88.09548282],\n",
       "       [120.42275284,  74.54599692, 129.8544119 , ..., 105.37886111,\n",
       "        119.28035715,  90.1566545 ],\n",
       "       [121.03885343,  74.2795088 , 130.49097633, ..., 107.48225661,\n",
       "        119.38063017,  86.90088812]])"
      ]
     },
     "execution_count": 97,
     "metadata": {},
     "output_type": "execute_result"
    }
   ],
   "source": [
    "S"
   ]
  },
  {
   "cell_type": "code",
   "execution_count": 98,
   "id": "d0ca7f11",
   "metadata": {},
   "outputs": [],
   "source": [
    "def asian_arth_cont(E,T):\n",
    "    \n",
    "    r = 0.05\n",
    "    timesteps = int (252 * T)\n",
    "    S, S_area = simulate_path_mi_integral_arth_cont(100,0.05,0.2,T,timesteps,100000)\n",
    "    # Average price\n",
    "    A = (1/T)*S_area.sum(axis=0)\n",
    "    \n",
    "    C0 = exp(-r*T) * mean(maximum(0, A-E))\n",
    "    P0 = exp(-r*T) * mean(maximum(0, E-A))\n",
    "    \n",
    "    C1 = exp(-r*T) * mean(maximum(0, S[timesteps-1]-A))\n",
    "    P1 = exp(-r*T) * mean(maximum(0, A-S[timesteps-1]))\n",
    "\n",
    "    return C0, P0, C1, P1"
   ]
  },
  {
   "cell_type": "code",
   "execution_count": 99,
   "id": "f1bdf0e5",
   "metadata": {},
   "outputs": [
    {
     "name": "stdout",
     "output_type": "stream",
     "text": [
      "Asian Call Option Value for Fixed Strike - Arithmetic average - Continuous Sampling is 5.4759\n",
      "Asian Put Option Value for Fixed Strike - Arithmetic average - Continuous Sampling is 3.4831\n",
      "Asian Call Option Value for Float Strike - Arithmetic average - Continuous Sampling is 6.0565\n",
      "Asian Put Option Value for Float Strike - Arithmetic average - Continuous Sampling is 3.2667\n"
     ]
    }
   ],
   "source": [
    " # Print the values\n",
    "C0, P0, C1, P1 = asian_arth_cont(100,1)\n",
    "print(f\"Asian Call Option Value for Fixed Strike - Arithmetic average - Continuous Sampling is {C0:0.4f}\")\n",
    "print(f\"Asian Put Option Value for Fixed Strike - Arithmetic average - Continuous Sampling is {P0:0.4f}\")\n",
    "print(f\"Asian Call Option Value for Float Strike - Arithmetic average - Continuous Sampling is {C1:0.4f}\")\n",
    "print(f\"Asian Put Option Value for Float Strike - Arithmetic average - Continuous Sampling is {P1:0.4f}\")"
   ]
  },
  {
   "cell_type": "code",
   "execution_count": 100,
   "id": "836c5daf",
   "metadata": {},
   "outputs": [],
   "source": [
    "# Vary the value of E and T in the above Steps to see the effect\n",
    "\n",
    "E = [80,90,100,110,120]\n",
    "T = [0.25,0.5,1,1.5,2]"
   ]
  },
  {
   "cell_type": "code",
   "execution_count": 101,
   "id": "b150d044",
   "metadata": {},
   "outputs": [],
   "source": [
    "c0_arr=[]\n",
    "p0_arr=[]\n",
    "c1_arr=[]\n",
    "p1_arr=[]\n",
    "data_call_fixed=[]\n",
    "data_put_fixed=[]\n",
    "data_call_float=[]\n",
    "data_put_float=[]\n",
    "\n",
    "for j in range(0, 5):\n",
    "    for k in range(0, 5):\n",
    "        c0, p0, c1, p1 = asian_arth_cont(E[j],T[k])\n",
    "        c0_arr.append(c0)\n",
    "        p0_arr.append(p0)\n",
    "        c1_arr.append(c1)\n",
    "        p1_arr.append(p1)\n",
    "        x0=[E[j],T[k],c0]\n",
    "        y0=[E[j],T[k],p0]\n",
    "        x1=[T[k],c1]\n",
    "        y1=[T[k],p1]\n",
    "        data_call_fixed.append(x0)\n",
    "        data_put_fixed.append(y0)\n",
    "        data_call_float.append(x1)\n",
    "        data_put_float.append(y1)\n"
   ]
  },
  {
   "cell_type": "code",
   "execution_count": 102,
   "id": "dcfe723b",
   "metadata": {},
   "outputs": [
    {
     "name": "stdout",
     "output_type": "stream",
     "text": [
      "Call Price for Fixed Strike - Arithmetic average - Continuous Sampling with varying Strike Price and Time to Maturity is -\n"
     ]
    },
    {
     "data": {
      "text/html": [
       "<div>\n",
       "<style scoped>\n",
       "    .dataframe tbody tr th:only-of-type {\n",
       "        vertical-align: middle;\n",
       "    }\n",
       "\n",
       "    .dataframe tbody tr th {\n",
       "        vertical-align: top;\n",
       "    }\n",
       "\n",
       "    .dataframe thead th {\n",
       "        text-align: right;\n",
       "    }\n",
       "</style>\n",
       "<table border=\"1\" class=\"dataframe\">\n",
       "  <thead>\n",
       "    <tr style=\"text-align: right;\">\n",
       "      <th>Time to Maturity</th>\n",
       "      <th>0.25</th>\n",
       "      <th>0.50</th>\n",
       "      <th>1.00</th>\n",
       "      <th>1.50</th>\n",
       "      <th>2.00</th>\n",
       "    </tr>\n",
       "    <tr>\n",
       "      <th>Strike Price</th>\n",
       "      <th></th>\n",
       "      <th></th>\n",
       "      <th></th>\n",
       "      <th></th>\n",
       "      <th></th>\n",
       "    </tr>\n",
       "  </thead>\n",
       "  <tbody>\n",
       "    <tr>\n",
       "      <th>80</th>\n",
       "      <td>18.763169</td>\n",
       "      <td>19.928083</td>\n",
       "      <td>21.068192</td>\n",
       "      <td>21.965351</td>\n",
       "      <td>22.795822</td>\n",
       "    </tr>\n",
       "    <tr>\n",
       "      <th>90</th>\n",
       "      <td>8.981819</td>\n",
       "      <td>10.457989</td>\n",
       "      <td>12.198633</td>\n",
       "      <td>13.585429</td>\n",
       "      <td>14.811149</td>\n",
       "    </tr>\n",
       "    <tr>\n",
       "      <th>100</th>\n",
       "      <td>1.762476</td>\n",
       "      <td>3.364226</td>\n",
       "      <td>5.475862</td>\n",
       "      <td>7.116110</td>\n",
       "      <td>8.543683</td>\n",
       "    </tr>\n",
       "    <tr>\n",
       "      <th>110</th>\n",
       "      <td>0.074218</td>\n",
       "      <td>0.560661</td>\n",
       "      <td>1.848331</td>\n",
       "      <td>3.145158</td>\n",
       "      <td>4.386218</td>\n",
       "    </tr>\n",
       "    <tr>\n",
       "      <th>120</th>\n",
       "      <td>0.000623</td>\n",
       "      <td>0.048294</td>\n",
       "      <td>0.478369</td>\n",
       "      <td>1.191447</td>\n",
       "      <td>2.029490</td>\n",
       "    </tr>\n",
       "  </tbody>\n",
       "</table>\n",
       "</div>"
      ],
      "text/plain": [
       "Time to Maturity       0.25       0.50       1.00       1.50       2.00\n",
       "Strike Price                                                           \n",
       "80                18.763169  19.928083  21.068192  21.965351  22.795822\n",
       "90                 8.981819  10.457989  12.198633  13.585429  14.811149\n",
       "100                1.762476   3.364226   5.475862   7.116110   8.543683\n",
       "110                0.074218   0.560661   1.848331   3.145158   4.386218\n",
       "120                0.000623   0.048294   0.478369   1.191447   2.029490"
      ]
     },
     "execution_count": 102,
     "metadata": {},
     "output_type": "execute_result"
    }
   ],
   "source": [
    "print(\"Call Price for Fixed Strike - Arithmetic average - Continuous Sampling with varying Strike Price and Time to Maturity is -\")       \n",
    "\n",
    "# read it into a dataframe:\n",
    "df_call = pd.DataFrame(data_call_fixed, columns=['Strike Price','Time to Maturity','Call Price'])\n",
    "\n",
    "# create pivot table with x and rows, y and columns, z as values\n",
    "df_call.pivot_table(values='Call Price', index='Strike Price', columns='Time to Maturity') "
   ]
  },
  {
   "cell_type": "code",
   "execution_count": 103,
   "id": "ab405dc5",
   "metadata": {},
   "outputs": [
    {
     "name": "stdout",
     "output_type": "stream",
     "text": [
      "Put Price for Fixed Strike - Arithmetic average - Continuous Sampling with varying Strike Price and Time to Maturity is -\n"
     ]
    },
    {
     "data": {
      "text/html": [
       "<div>\n",
       "<style scoped>\n",
       "    .dataframe tbody tr th:only-of-type {\n",
       "        vertical-align: middle;\n",
       "    }\n",
       "\n",
       "    .dataframe tbody tr th {\n",
       "        vertical-align: top;\n",
       "    }\n",
       "\n",
       "    .dataframe thead th {\n",
       "        text-align: right;\n",
       "    }\n",
       "</style>\n",
       "<table border=\"1\" class=\"dataframe\">\n",
       "  <thead>\n",
       "    <tr style=\"text-align: right;\">\n",
       "      <th>Time to Maturity</th>\n",
       "      <th>0.25</th>\n",
       "      <th>0.50</th>\n",
       "      <th>1.00</th>\n",
       "      <th>1.50</th>\n",
       "      <th>2.00</th>\n",
       "    </tr>\n",
       "    <tr>\n",
       "      <th>Strike Price</th>\n",
       "      <th></th>\n",
       "      <th></th>\n",
       "      <th></th>\n",
       "      <th></th>\n",
       "      <th></th>\n",
       "    </tr>\n",
       "  </thead>\n",
       "  <tbody>\n",
       "    <tr>\n",
       "      <th>80</th>\n",
       "      <td>0.000050</td>\n",
       "      <td>0.004091</td>\n",
       "      <td>0.050825</td>\n",
       "      <td>0.136760</td>\n",
       "      <td>0.240877</td>\n",
       "    </tr>\n",
       "    <tr>\n",
       "      <th>90</th>\n",
       "      <td>0.094478</td>\n",
       "      <td>0.287096</td>\n",
       "      <td>0.693560</td>\n",
       "      <td>1.034272</td>\n",
       "      <td>1.304578</td>\n",
       "    </tr>\n",
       "    <tr>\n",
       "      <th>100</th>\n",
       "      <td>2.750913</td>\n",
       "      <td>2.946432</td>\n",
       "      <td>3.483083</td>\n",
       "      <td>3.842388</td>\n",
       "      <td>4.085486</td>\n",
       "    </tr>\n",
       "    <tr>\n",
       "      <th>110</th>\n",
       "      <td>10.938433</td>\n",
       "      <td>9.895966</td>\n",
       "      <td>9.367847</td>\n",
       "      <td>9.148871</td>\n",
       "      <td>8.976395</td>\n",
       "    </tr>\n",
       "    <tr>\n",
       "      <th>120</th>\n",
       "      <td>20.740616</td>\n",
       "      <td>19.136698</td>\n",
       "      <td>17.510179</td>\n",
       "      <td>16.472595</td>\n",
       "      <td>15.668041</td>\n",
       "    </tr>\n",
       "  </tbody>\n",
       "</table>\n",
       "</div>"
      ],
      "text/plain": [
       "Time to Maturity       0.25       0.50       1.00       1.50       2.00\n",
       "Strike Price                                                           \n",
       "80                 0.000050   0.004091   0.050825   0.136760   0.240877\n",
       "90                 0.094478   0.287096   0.693560   1.034272   1.304578\n",
       "100                2.750913   2.946432   3.483083   3.842388   4.085486\n",
       "110               10.938433   9.895966   9.367847   9.148871   8.976395\n",
       "120               20.740616  19.136698  17.510179  16.472595  15.668041"
      ]
     },
     "execution_count": 103,
     "metadata": {},
     "output_type": "execute_result"
    }
   ],
   "source": [
    "print(\"Put Price for Fixed Strike - Arithmetic average - Continuous Sampling with varying Strike Price and Time to Maturity is -\")       \n",
    "\n",
    "# read it into a dataframe:\n",
    "df_put = pd.DataFrame(data_put_fixed, columns=['Strike Price','Time to Maturity','Put Price'])\n",
    "\n",
    "# create pivot table with x and rows, y and columns, z as values\n",
    "df_put.pivot_table(values='Put Price', index='Strike Price', columns='Time to Maturity') "
   ]
  },
  {
   "cell_type": "code",
   "execution_count": 104,
   "id": "de56ec28",
   "metadata": {},
   "outputs": [
    {
     "name": "stdout",
     "output_type": "stream",
     "text": [
      "Call Price for Float Strike - Arithmetic average - Continuous Sampling with varying Strike Price and Time to Maturity is -\n"
     ]
    },
    {
     "data": {
      "text/html": [
       "<div>\n",
       "<style scoped>\n",
       "    .dataframe tbody tr th:only-of-type {\n",
       "        vertical-align: middle;\n",
       "    }\n",
       "\n",
       "    .dataframe tbody tr th {\n",
       "        vertical-align: top;\n",
       "    }\n",
       "\n",
       "    .dataframe thead th {\n",
       "        text-align: right;\n",
       "    }\n",
       "</style>\n",
       "<table border=\"1\" class=\"dataframe\">\n",
       "  <thead>\n",
       "    <tr style=\"text-align: right;\">\n",
       "      <th>Time to Maturity</th>\n",
       "      <th>0.25</th>\n",
       "      <th>0.50</th>\n",
       "      <th>1.00</th>\n",
       "      <th>1.50</th>\n",
       "      <th>2.00</th>\n",
       "    </tr>\n",
       "  </thead>\n",
       "  <tbody>\n",
       "    <tr>\n",
       "      <th>Call Price</th>\n",
       "      <td>3.558006</td>\n",
       "      <td>4.345587</td>\n",
       "      <td>6.056497</td>\n",
       "      <td>7.704897</td>\n",
       "      <td>9.122521</td>\n",
       "    </tr>\n",
       "  </tbody>\n",
       "</table>\n",
       "</div>"
      ],
      "text/plain": [
       "Time to Maturity      0.25      0.50      1.00      1.50      2.00\n",
       "Call Price        3.558006  4.345587  6.056497  7.704897  9.122521"
      ]
     },
     "execution_count": 104,
     "metadata": {},
     "output_type": "execute_result"
    }
   ],
   "source": [
    "print(\"Call Price for Float Strike - Arithmetic average - Continuous Sampling with varying Strike Price and Time to Maturity is -\")       \n",
    "\n",
    "# read it into a dataframe:\n",
    "df_call = pd.DataFrame(data_call_float, columns=['Time to Maturity','Call Price'])\n",
    "\n",
    "# create pivot table with x and rows, y and columns, z as values\n",
    "df_call.pivot_table(values='Call Price', columns='Time to Maturity') "
   ]
  },
  {
   "cell_type": "code",
   "execution_count": 105,
   "id": "ffa24bfa",
   "metadata": {},
   "outputs": [
    {
     "name": "stdout",
     "output_type": "stream",
     "text": [
      "Put Price for Float Strike - Arithmetic average - Continuous Sampling with varying Strike Price and Time to Maturity is -\n"
     ]
    },
    {
     "data": {
      "text/html": [
       "<div>\n",
       "<style scoped>\n",
       "    .dataframe tbody tr th:only-of-type {\n",
       "        vertical-align: middle;\n",
       "    }\n",
       "\n",
       "    .dataframe tbody tr th {\n",
       "        vertical-align: top;\n",
       "    }\n",
       "\n",
       "    .dataframe thead th {\n",
       "        text-align: right;\n",
       "    }\n",
       "</style>\n",
       "<table border=\"1\" class=\"dataframe\">\n",
       "  <thead>\n",
       "    <tr style=\"text-align: right;\">\n",
       "      <th>Time to Maturity</th>\n",
       "      <th>0.25</th>\n",
       "      <th>0.50</th>\n",
       "      <th>1.00</th>\n",
       "      <th>1.50</th>\n",
       "      <th>2.00</th>\n",
       "    </tr>\n",
       "  </thead>\n",
       "  <tbody>\n",
       "    <tr>\n",
       "      <th>Put Price</th>\n",
       "      <td>1.342074</td>\n",
       "      <td>2.300647</td>\n",
       "      <td>3.266674</td>\n",
       "      <td>3.750648</td>\n",
       "      <td>4.100288</td>\n",
       "    </tr>\n",
       "  </tbody>\n",
       "</table>\n",
       "</div>"
      ],
      "text/plain": [
       "Time to Maturity      0.25      0.50      1.00      1.50      2.00\n",
       "Put Price         1.342074  2.300647  3.266674  3.750648  4.100288"
      ]
     },
     "execution_count": 105,
     "metadata": {},
     "output_type": "execute_result"
    }
   ],
   "source": [
    "print(\"Put Price for Float Strike - Arithmetic average - Continuous Sampling with varying Strike Price and Time to Maturity is -\")       \n",
    "\n",
    "# read it into a dataframe:\n",
    "df_put = pd.DataFrame(data_put_float, columns=['Time to Maturity','Put Price'])\n",
    "\n",
    "# create pivot table with x and rows, y and columns, z as values\n",
    "df_put.pivot_table(values='Put Price', columns='Time to Maturity') "
   ]
  },
  {
   "cell_type": "markdown",
   "id": "41f16bbb",
   "metadata": {},
   "source": [
    "<b>iii) Geometric average - Discrete Sampling</b>"
   ]
  },
  {
   "cell_type": "code",
   "execution_count": 106,
   "id": "88233ecf",
   "metadata": {},
   "outputs": [],
   "source": [
    "def asian_geo_dis(E,T):\n",
    "    \n",
    "    r = 0.05\n",
    "    timesteps = int (252 * T)\n",
    "    S = simulate_path_mi(100,0.05,0.2,T,timesteps,100000)\n",
    "    # Geometric price\n",
    "    A = gmean(S,axis=0)\n",
    "    \n",
    "    C0 = exp(-r*T) * mean(maximum(0, A-E))\n",
    "    P0 = exp(-r*T) * mean(maximum(0, E-A))\n",
    "    \n",
    "    C1 = exp(-r*T) * mean(maximum(0, S[timesteps-1]-A))\n",
    "    P1 = exp(-r*T) * mean(maximum(0, A-S[timesteps-1]))\n",
    "\n",
    "    return C0, P0, C1, P1"
   ]
  },
  {
   "cell_type": "code",
   "execution_count": 107,
   "id": "4c02e18e",
   "metadata": {},
   "outputs": [
    {
     "name": "stdout",
     "output_type": "stream",
     "text": [
      "Asian Call Option Value for Fixed Strike - Arithmetic average - Discrete Sampling is 5.5051\n",
      "Asian Put Option Value for Fixed Strike - Arithmetic average - Discrete Sampling is 3.4498\n",
      "Asian Call Option Value for Float Strike - Arithmetic average - Discrete Sampling is 6.0194\n",
      "Asian Put Option Value for Float Strike - Arithmetic average - Discrete Sampling is 3.2922\n"
     ]
    }
   ],
   "source": [
    " # Print the values\n",
    "C0, P0, C1, P1 = asian_geo_dis(100,1)\n",
    "print(f\"Asian Call Option Value for Fixed Strike - Arithmetic average - Discrete Sampling is {C0:0.4f}\")\n",
    "print(f\"Asian Put Option Value for Fixed Strike - Arithmetic average - Discrete Sampling is {P0:0.4f}\")\n",
    "print(f\"Asian Call Option Value for Float Strike - Arithmetic average - Discrete Sampling is {C1:0.4f}\")\n",
    "print(f\"Asian Put Option Value for Float Strike - Arithmetic average - Discrete Sampling is {P1:0.4f}\")"
   ]
  },
  {
   "cell_type": "code",
   "execution_count": 108,
   "id": "5f1932b6",
   "metadata": {},
   "outputs": [],
   "source": [
    "# Vary the value of E and T in the above Steps to see the effect\n",
    "\n",
    "E = [80,90,100,110,120]\n",
    "T = [0.25,0.5,1,1.5,2]"
   ]
  },
  {
   "cell_type": "code",
   "execution_count": 109,
   "id": "a526c6f2",
   "metadata": {},
   "outputs": [],
   "source": [
    "c0_arr=[]\n",
    "p0_arr=[]\n",
    "c1_arr=[]\n",
    "p1_arr=[]\n",
    "data_call_fixed=[]\n",
    "data_put_fixed=[]\n",
    "data_call_float=[]\n",
    "data_put_float=[]\n",
    "\n",
    "for j in range(0, 5):\n",
    "    for k in range(0, 5):\n",
    "        c0, p0, c1, p1 = asian_geo_dis(E[j],T[k])\n",
    "        c0_arr.append(c0)\n",
    "        p0_arr.append(p0)\n",
    "        c1_arr.append(c1)\n",
    "        p1_arr.append(p1)\n",
    "        x0=[E[j],T[k],c0]\n",
    "        y0=[E[j],T[k],p0]\n",
    "        x1=[T[k],c1]\n",
    "        y1=[T[k],p1]\n",
    "        data_call_fixed.append(x0)\n",
    "        data_put_fixed.append(y0)\n",
    "        data_call_float.append(x1)\n",
    "        data_put_float.append(y1)"
   ]
  },
  {
   "cell_type": "code",
   "execution_count": 110,
   "id": "661030b0",
   "metadata": {},
   "outputs": [
    {
     "name": "stdout",
     "output_type": "stream",
     "text": [
      "Call Price for Fixed Strike - Geometric average - Discrete Sampling with varying Strike Price and Time to Maturity is -\n"
     ]
    },
    {
     "data": {
      "text/html": [
       "<div>\n",
       "<style scoped>\n",
       "    .dataframe tbody tr th:only-of-type {\n",
       "        vertical-align: middle;\n",
       "    }\n",
       "\n",
       "    .dataframe tbody tr th {\n",
       "        vertical-align: top;\n",
       "    }\n",
       "\n",
       "    .dataframe thead th {\n",
       "        text-align: right;\n",
       "    }\n",
       "</style>\n",
       "<table border=\"1\" class=\"dataframe\">\n",
       "  <thead>\n",
       "    <tr style=\"text-align: right;\">\n",
       "      <th>Time to Maturity</th>\n",
       "      <th>0.25</th>\n",
       "      <th>0.50</th>\n",
       "      <th>1.00</th>\n",
       "      <th>1.50</th>\n",
       "      <th>2.00</th>\n",
       "    </tr>\n",
       "    <tr>\n",
       "      <th>Strike Price</th>\n",
       "      <th></th>\n",
       "      <th></th>\n",
       "      <th></th>\n",
       "      <th></th>\n",
       "      <th></th>\n",
       "    </tr>\n",
       "  </thead>\n",
       "  <tbody>\n",
       "    <tr>\n",
       "      <th>80</th>\n",
       "      <td>20.266994</td>\n",
       "      <td>20.555118</td>\n",
       "      <td>21.137974</td>\n",
       "      <td>21.749257</td>\n",
       "      <td>22.362075</td>\n",
       "    </tr>\n",
       "    <tr>\n",
       "      <th>90</th>\n",
       "      <td>10.443893</td>\n",
       "      <td>11.051707</td>\n",
       "      <td>12.273634</td>\n",
       "      <td>13.401363</td>\n",
       "      <td>14.427455</td>\n",
       "    </tr>\n",
       "    <tr>\n",
       "      <th>100</th>\n",
       "      <td>2.517631</td>\n",
       "      <td>3.715098</td>\n",
       "      <td>5.505130</td>\n",
       "      <td>6.947059</td>\n",
       "      <td>8.204984</td>\n",
       "    </tr>\n",
       "    <tr>\n",
       "      <th>110</th>\n",
       "      <td>0.142656</td>\n",
       "      <td>0.639080</td>\n",
       "      <td>1.823006</td>\n",
       "      <td>2.991574</td>\n",
       "      <td>4.097116</td>\n",
       "    </tr>\n",
       "    <tr>\n",
       "      <th>120</th>\n",
       "      <td>0.001370</td>\n",
       "      <td>0.053784</td>\n",
       "      <td>0.447346</td>\n",
       "      <td>1.078182</td>\n",
       "      <td>1.810038</td>\n",
       "    </tr>\n",
       "  </tbody>\n",
       "</table>\n",
       "</div>"
      ],
      "text/plain": [
       "Time to Maturity       0.25       0.50       1.00       1.50       2.00\n",
       "Strike Price                                                           \n",
       "80                20.266994  20.555118  21.137974  21.749257  22.362075\n",
       "90                10.443893  11.051707  12.273634  13.401363  14.427455\n",
       "100                2.517631   3.715098   5.505130   6.947059   8.204984\n",
       "110                0.142656   0.639080   1.823006   2.991574   4.097116\n",
       "120                0.001370   0.053784   0.447346   1.078182   1.810038"
      ]
     },
     "execution_count": 110,
     "metadata": {},
     "output_type": "execute_result"
    }
   ],
   "source": [
    "print(\"Call Price for Fixed Strike - Geometric average - Discrete Sampling with varying Strike Price and Time to Maturity is -\")       \n",
    "\n",
    "# read it into a dataframe:\n",
    "df_call = pd.DataFrame(data_call_fixed, columns=['Strike Price','Time to Maturity','Call Price'])\n",
    "\n",
    "# create pivot table with x and rows, y and columns, z as values\n",
    "df_call.pivot_table(values='Call Price', index='Strike Price', columns='Time to Maturity') "
   ]
  },
  {
   "cell_type": "code",
   "execution_count": 111,
   "id": "1903a74a",
   "metadata": {},
   "outputs": [
    {
     "name": "stdout",
     "output_type": "stream",
     "text": [
      "Put Price for Fixed Strike - Geometric average - Discrete Sampling with varying Strike Price and Time to Maturity is -\n"
     ]
    },
    {
     "data": {
      "text/html": [
       "<div>\n",
       "<style scoped>\n",
       "    .dataframe tbody tr th:only-of-type {\n",
       "        vertical-align: middle;\n",
       "    }\n",
       "\n",
       "    .dataframe tbody tr th {\n",
       "        vertical-align: top;\n",
       "    }\n",
       "\n",
       "    .dataframe thead th {\n",
       "        text-align: right;\n",
       "    }\n",
       "</style>\n",
       "<table border=\"1\" class=\"dataframe\">\n",
       "  <thead>\n",
       "    <tr style=\"text-align: right;\">\n",
       "      <th>Time to Maturity</th>\n",
       "      <th>0.25</th>\n",
       "      <th>0.50</th>\n",
       "      <th>1.00</th>\n",
       "      <th>1.50</th>\n",
       "      <th>2.00</th>\n",
       "    </tr>\n",
       "    <tr>\n",
       "      <th>Strike Price</th>\n",
       "      <th></th>\n",
       "      <th></th>\n",
       "      <th></th>\n",
       "      <th></th>\n",
       "      <th></th>\n",
       "    </tr>\n",
       "  </thead>\n",
       "  <tbody>\n",
       "    <tr>\n",
       "      <th>80</th>\n",
       "      <td>0.000020</td>\n",
       "      <td>0.004115</td>\n",
       "      <td>0.058039</td>\n",
       "      <td>0.159797</td>\n",
       "      <td>0.282399</td>\n",
       "    </tr>\n",
       "    <tr>\n",
       "      <th>90</th>\n",
       "      <td>0.052696</td>\n",
       "      <td>0.253803</td>\n",
       "      <td>0.705993</td>\n",
       "      <td>1.089337</td>\n",
       "      <td>1.396152</td>\n",
       "    </tr>\n",
       "    <tr>\n",
       "      <th>100</th>\n",
       "      <td>2.002212</td>\n",
       "      <td>2.670293</td>\n",
       "      <td>3.449784</td>\n",
       "      <td>3.912469</td>\n",
       "      <td>4.222056</td>\n",
       "    </tr>\n",
       "    <tr>\n",
       "      <th>110</th>\n",
       "      <td>9.503015</td>\n",
       "      <td>9.347375</td>\n",
       "      <td>9.279953</td>\n",
       "      <td>9.234418</td>\n",
       "      <td>9.162562</td>\n",
       "    </tr>\n",
       "    <tr>\n",
       "      <th>120</th>\n",
       "      <td>19.237507</td>\n",
       "      <td>18.515177</td>\n",
       "      <td>17.416588</td>\n",
       "      <td>16.598461</td>\n",
       "      <td>15.923858</td>\n",
       "    </tr>\n",
       "  </tbody>\n",
       "</table>\n",
       "</div>"
      ],
      "text/plain": [
       "Time to Maturity       0.25       0.50       1.00       1.50       2.00\n",
       "Strike Price                                                           \n",
       "80                 0.000020   0.004115   0.058039   0.159797   0.282399\n",
       "90                 0.052696   0.253803   0.705993   1.089337   1.396152\n",
       "100                2.002212   2.670293   3.449784   3.912469   4.222056\n",
       "110                9.503015   9.347375   9.279953   9.234418   9.162562\n",
       "120               19.237507  18.515177  17.416588  16.598461  15.923858"
      ]
     },
     "execution_count": 111,
     "metadata": {},
     "output_type": "execute_result"
    }
   ],
   "source": [
    "print(\"Put Price for Fixed Strike - Geometric average - Discrete Sampling with varying Strike Price and Time to Maturity is -\")       \n",
    "\n",
    "# read it into a dataframe:\n",
    "df_put = pd.DataFrame(data_put_fixed, columns=['Strike Price','Time to Maturity','Put Price'])\n",
    "\n",
    "# create pivot table with x and rows, y and columns, z as values\n",
    "df_put.pivot_table(values='Put Price', index='Strike Price', columns='Time to Maturity') "
   ]
  },
  {
   "cell_type": "code",
   "execution_count": 112,
   "id": "32e6ecee",
   "metadata": {},
   "outputs": [
    {
     "name": "stdout",
     "output_type": "stream",
     "text": [
      "Call Price for Float Strike - Geometric average - Discrete Sampling with varying Strike Price and Time to Maturity is -\n"
     ]
    },
    {
     "data": {
      "text/html": [
       "<div>\n",
       "<style scoped>\n",
       "    .dataframe tbody tr th:only-of-type {\n",
       "        vertical-align: middle;\n",
       "    }\n",
       "\n",
       "    .dataframe tbody tr th {\n",
       "        vertical-align: top;\n",
       "    }\n",
       "\n",
       "    .dataframe thead th {\n",
       "        text-align: right;\n",
       "    }\n",
       "</style>\n",
       "<table border=\"1\" class=\"dataframe\">\n",
       "  <thead>\n",
       "    <tr style=\"text-align: right;\">\n",
       "      <th>Time to Maturity</th>\n",
       "      <th>0.25</th>\n",
       "      <th>0.50</th>\n",
       "      <th>1.00</th>\n",
       "      <th>1.50</th>\n",
       "      <th>2.00</th>\n",
       "    </tr>\n",
       "  </thead>\n",
       "  <tbody>\n",
       "    <tr>\n",
       "      <th>Call Price</th>\n",
       "      <td>2.634397</td>\n",
       "      <td>3.968182</td>\n",
       "      <td>6.019439</td>\n",
       "      <td>7.863214</td>\n",
       "      <td>9.44348</td>\n",
       "    </tr>\n",
       "  </tbody>\n",
       "</table>\n",
       "</div>"
      ],
      "text/plain": [
       "Time to Maturity      0.25      0.50      1.00      1.50     2.00\n",
       "Call Price        2.634397  3.968182  6.019439  7.863214  9.44348"
      ]
     },
     "execution_count": 112,
     "metadata": {},
     "output_type": "execute_result"
    }
   ],
   "source": [
    "print(\"Call Price for Float Strike - Geometric average - Discrete Sampling with varying Strike Price and Time to Maturity is -\")       \n",
    "\n",
    "# read it into a dataframe:\n",
    "df_call = pd.DataFrame(data_call_float, columns=['Time to Maturity','Call Price'])\n",
    "\n",
    "# create pivot table with x and rows, y and columns, z as values\n",
    "df_call.pivot_table(values='Call Price', columns='Time to Maturity') "
   ]
  },
  {
   "cell_type": "code",
   "execution_count": 113,
   "id": "90647720",
   "metadata": {},
   "outputs": [
    {
     "name": "stdout",
     "output_type": "stream",
     "text": [
      "Put Price for Float Strike - Geometric average - Discrete Sampling with varying Strike Price and Time to Maturity is -\n"
     ]
    },
    {
     "data": {
      "text/html": [
       "<div>\n",
       "<style scoped>\n",
       "    .dataframe tbody tr th:only-of-type {\n",
       "        vertical-align: middle;\n",
       "    }\n",
       "\n",
       "    .dataframe tbody tr th {\n",
       "        vertical-align: top;\n",
       "    }\n",
       "\n",
       "    .dataframe thead th {\n",
       "        text-align: right;\n",
       "    }\n",
       "</style>\n",
       "<table border=\"1\" class=\"dataframe\">\n",
       "  <thead>\n",
       "    <tr style=\"text-align: right;\">\n",
       "      <th>Time to Maturity</th>\n",
       "      <th>0.25</th>\n",
       "      <th>0.50</th>\n",
       "      <th>1.00</th>\n",
       "      <th>1.50</th>\n",
       "      <th>2.00</th>\n",
       "    </tr>\n",
       "  </thead>\n",
       "  <tbody>\n",
       "    <tr>\n",
       "      <th>Put Price</th>\n",
       "      <td>1.922321</td>\n",
       "      <td>2.550253</td>\n",
       "      <td>3.292185</td>\n",
       "      <td>3.669835</td>\n",
       "      <td>3.945978</td>\n",
       "    </tr>\n",
       "  </tbody>\n",
       "</table>\n",
       "</div>"
      ],
      "text/plain": [
       "Time to Maturity      0.25      0.50      1.00      1.50      2.00\n",
       "Put Price         1.922321  2.550253  3.292185  3.669835  3.945978"
      ]
     },
     "execution_count": 113,
     "metadata": {},
     "output_type": "execute_result"
    }
   ],
   "source": [
    "print(\"Put Price for Float Strike - Geometric average - Discrete Sampling with varying Strike Price and Time to Maturity is -\")       \n",
    "\n",
    "# read it into a dataframe:\n",
    "df_put = pd.DataFrame(data_put_float, columns=['Time to Maturity','Put Price'])\n",
    "\n",
    "# create pivot table with x and rows, y and columns, z as values\n",
    "df_put.pivot_table(values='Put Price', columns='Time to Maturity') "
   ]
  },
  {
   "cell_type": "markdown",
   "id": "52b641d2",
   "metadata": {},
   "source": [
    "<b>iv) Geometric average - Continuous Sampling</b>\n",
    "\n",
    "Using the previous Stochastic Integration method"
   ]
  },
  {
   "cell_type": "code",
   "execution_count": 114,
   "id": "bc9ed9de",
   "metadata": {},
   "outputs": [],
   "source": [
    "# define simulation function for exact solution and find Area A\n",
    "def simulate_path_mi_integral_geo_cont(s0, mu, sigma, horizon, timesteps, n_sims):\n",
    "\n",
    "    # set the random seed for reproducibility\n",
    "    random.seed(10000)\n",
    "\n",
    "    # read parameters\n",
    "    S0 = s0                 # initial spot price\n",
    "    r = mu                  # mu = rf in risk neutral framework\n",
    "    T = horizon             # time horizon\n",
    "    t = timesteps           # number of time steps\n",
    "    n = n_sims              # number of simulation\n",
    "\n",
    "    # define dt\n",
    "    dt = T/t                # length of time interval\n",
    "\n",
    "    # simulate 'n' asset price path with 't' timesteps\n",
    "    \n",
    "    S = zeros((t,n))\n",
    "    A = zeros((t,n))\n",
    "    S[0] = S0\n",
    "    A[0] = 0\n",
    "\n",
    "    for i in range(0, t-1):\n",
    "        w = random.standard_normal(n)\n",
    "        S[i+1] = S[i] * (1 + r * dt + sigma * sqrt(dt) * w)\n",
    "        A[i+1] = log(S[i]) * dt\n",
    "\n",
    "    return S, A\n",
    "# using approx. vale of exp as (2.718281828459045 ^)"
   ]
  },
  {
   "cell_type": "code",
   "execution_count": 115,
   "id": "f9c412e5",
   "metadata": {},
   "outputs": [
    {
     "data": {
      "text/plain": [
       "array([[0.        , 0.        , 0.        , ..., 0.        , 0.        ,\n",
       "        0.        ],\n",
       "       [0.01827448, 0.01827448, 0.01827448, ..., 0.01827448, 0.01827448,\n",
       "        0.01827448],\n",
       "       [0.01821122, 0.01828407, 0.01826044, ..., 0.01827518, 0.01825643,\n",
       "        0.01827166],\n",
       "       ...,\n",
       "       [0.0190807 , 0.0170659 , 0.01932457, ..., 0.0185361 , 0.01887989,\n",
       "        0.0177678 ],\n",
       "       [0.01910471, 0.01716886, 0.01930522, ..., 0.01856673, 0.01890143,\n",
       "        0.01776992],\n",
       "       [0.01900432, 0.01710831, 0.01931164, ..., 0.01849677, 0.0189768 ,\n",
       "        0.01786098]])"
      ]
     },
     "execution_count": 115,
     "metadata": {},
     "output_type": "execute_result"
    }
   ],
   "source": [
    "# Define parameters\n",
    "E=100; T=1; r=0.05\n",
    "\n",
    "# Call the simulation function - s0=100,  mu=rf=0.05(5%), sigma=vol=0.2(20%), horizon=T=T year, timesteps=252,\n",
    "# n_sims=number of simultaions=100000\n",
    "S, S_area = simulate_path_mi_integral_geo_cont(100,0.05,0.2,T,252,100000)\n",
    "\n",
    "S_area"
   ]
  },
  {
   "cell_type": "code",
   "execution_count": 116,
   "id": "eb988a7a",
   "metadata": {},
   "outputs": [
    {
     "data": {
      "text/plain": [
       "array([4.74360612, 4.50520847, 4.83410562, ..., 4.62684645, 4.80215777,\n",
       "       4.50535924])"
      ]
     },
     "execution_count": 116,
     "metadata": {},
     "output_type": "execute_result"
    }
   ],
   "source": [
    "S_area.sum(axis=0)"
   ]
  },
  {
   "cell_type": "code",
   "execution_count": 117,
   "id": "a2699134",
   "metadata": {},
   "outputs": [],
   "source": [
    "def asian_geo_cont(E,T):\n",
    "    \n",
    "    r = 0.05\n",
    "    timesteps = int (252 * T)\n",
    "    S, S_area = simulate_path_mi_integral_geo_cont(100,0.05,0.2,T,timesteps,100000)\n",
    "    # Average price\n",
    "    A1 = (1/T)*S_area.sum(axis=0)\n",
    "    \n",
    "    A = power (2.718281828459045, A1)\n",
    "    \n",
    "    C0 = exp(-r*T) * mean(maximum(0, A-E))\n",
    "    P0 = exp(-r*T) * mean(maximum(0, E-A))\n",
    "    \n",
    "    C1 = exp(-r*T) * mean(maximum(0, S[timesteps-1]-A))\n",
    "    P1 = exp(-r*T) * mean(maximum(0, A-S[timesteps-1]))\n",
    "\n",
    "\n",
    "    return C0, P0, C1, P1"
   ]
  },
  {
   "cell_type": "code",
   "execution_count": 118,
   "id": "2f5a850c",
   "metadata": {},
   "outputs": [
    {
     "name": "stdout",
     "output_type": "stream",
     "text": [
      "Asian Call Option Value for Fixed Strike - Geometric average - Continuous Sampling is 4.4765\n",
      "Asian Put Option Value for Fixed Strike - Geometric average - Continuous Sampling is 4.1996\n",
      "Asian Call Option Value for Float Strike - Geometric average - Continuous Sampling is 7.1198\n",
      "Asian Put Option Value for Float Strike - Geometric average - Continuous Sampling is 2.6141\n"
     ]
    }
   ],
   "source": [
    " # Print the values\n",
    "C0, P0, C1, P1 = asian_geo_cont(100,1)\n",
    "print(f\"Asian Call Option Value for Fixed Strike - Geometric average - Continuous Sampling is {C0:0.4f}\")\n",
    "print(f\"Asian Put Option Value for Fixed Strike - Geometric average - Continuous Sampling is {P0:0.4f}\")\n",
    "print(f\"Asian Call Option Value for Float Strike - Geometric average - Continuous Sampling is {C1:0.4f}\")\n",
    "print(f\"Asian Put Option Value for Float Strike - Geometric average - Continuous Sampling is {P1:0.4f}\")"
   ]
  },
  {
   "cell_type": "code",
   "execution_count": 119,
   "id": "809699c0",
   "metadata": {},
   "outputs": [],
   "source": [
    "# Vary the value of E and T in the above Steps to see the effect\n",
    "\n",
    "E = [80,90,100,110,120]\n",
    "T = [0.25,0.5,1,1.5,2]"
   ]
  },
  {
   "cell_type": "code",
   "execution_count": 120,
   "id": "a88ad1ab",
   "metadata": {},
   "outputs": [],
   "source": [
    "c0_arr=[]\n",
    "p0_arr=[]\n",
    "c1_arr=[]\n",
    "p1_arr=[]\n",
    "data_call_fixed=[]\n",
    "data_put_fixed=[]\n",
    "data_call_float=[]\n",
    "data_put_float=[]\n",
    "\n",
    "for j in range(0, 5):\n",
    "    for k in range(0, 5):\n",
    "        c0, p0, c1, p1 = asian_geo_cont(E[j],T[k])\n",
    "        c0_arr.append(c0)\n",
    "        p0_arr.append(p0)\n",
    "        c1_arr.append(c1)\n",
    "        p1_arr.append(p1)\n",
    "        x0=[E[j],T[k],c0]\n",
    "        y0=[E[j],T[k],p0]\n",
    "        x1=[T[k],c1]\n",
    "        y1=[T[k],p1]\n",
    "        data_call_fixed.append(x0)\n",
    "        data_put_fixed.append(y0)\n",
    "        data_call_float.append(x1)\n",
    "        data_put_float.append(y1)"
   ]
  },
  {
   "cell_type": "code",
   "execution_count": 121,
   "id": "c2743812",
   "metadata": {},
   "outputs": [
    {
     "name": "stdout",
     "output_type": "stream",
     "text": [
      "Call Price for Fixed Strike - Geometric average - Continuous Sampling with varying Strike Price and Time to Maturity is -\n"
     ]
    },
    {
     "data": {
      "text/html": [
       "<div>\n",
       "<style scoped>\n",
       "    .dataframe tbody tr th:only-of-type {\n",
       "        vertical-align: middle;\n",
       "    }\n",
       "\n",
       "    .dataframe tbody tr th {\n",
       "        vertical-align: top;\n",
       "    }\n",
       "\n",
       "    .dataframe thead th {\n",
       "        text-align: right;\n",
       "    }\n",
       "</style>\n",
       "<table border=\"1\" class=\"dataframe\">\n",
       "  <thead>\n",
       "    <tr style=\"text-align: right;\">\n",
       "      <th>Time to Maturity</th>\n",
       "      <th>0.25</th>\n",
       "      <th>0.50</th>\n",
       "      <th>1.00</th>\n",
       "      <th>1.50</th>\n",
       "      <th>2.00</th>\n",
       "    </tr>\n",
       "    <tr>\n",
       "      <th>Strike Price</th>\n",
       "      <th></th>\n",
       "      <th></th>\n",
       "      <th></th>\n",
       "      <th></th>\n",
       "      <th></th>\n",
       "    </tr>\n",
       "  </thead>\n",
       "  <tbody>\n",
       "    <tr>\n",
       "      <th>80</th>\n",
       "      <td>13.255075</td>\n",
       "      <td>17.009997</td>\n",
       "      <td>19.387004</td>\n",
       "      <td>20.604876</td>\n",
       "      <td>21.520053</td>\n",
       "    </tr>\n",
       "    <tr>\n",
       "      <th>90</th>\n",
       "      <td>4.131111</td>\n",
       "      <td>7.859406</td>\n",
       "      <td>10.730701</td>\n",
       "      <td>12.397632</td>\n",
       "      <td>13.687443</td>\n",
       "    </tr>\n",
       "    <tr>\n",
       "      <th>100</th>\n",
       "      <td>0.282962</td>\n",
       "      <td>1.979162</td>\n",
       "      <td>4.476537</td>\n",
       "      <td>6.221361</td>\n",
       "      <td>7.641600</td>\n",
       "    </tr>\n",
       "    <tr>\n",
       "      <th>110</th>\n",
       "      <td>0.002156</td>\n",
       "      <td>0.228904</td>\n",
       "      <td>1.353477</td>\n",
       "      <td>2.575286</td>\n",
       "      <td>3.733429</td>\n",
       "    </tr>\n",
       "    <tr>\n",
       "      <th>120</th>\n",
       "      <td>0.000000</td>\n",
       "      <td>0.010928</td>\n",
       "      <td>0.298273</td>\n",
       "      <td>0.888865</td>\n",
       "      <td>1.611415</td>\n",
       "    </tr>\n",
       "  </tbody>\n",
       "</table>\n",
       "</div>"
      ],
      "text/plain": [
       "Time to Maturity       0.25       0.50       1.00       1.50       2.00\n",
       "Strike Price                                                           \n",
       "80                13.255075  17.009997  19.387004  20.604876  21.520053\n",
       "90                 4.131111   7.859406  10.730701  12.397632  13.687443\n",
       "100                0.282962   1.979162   4.476537   6.221361   7.641600\n",
       "110                0.002156   0.228904   1.353477   2.575286   3.733429\n",
       "120                0.000000   0.010928   0.298273   0.888865   1.611415"
      ]
     },
     "execution_count": 121,
     "metadata": {},
     "output_type": "execute_result"
    }
   ],
   "source": [
    "print(\"Call Price for Fixed Strike - Geometric average - Continuous Sampling with varying Strike Price and Time to Maturity is -\")       \n",
    "\n",
    "# read it into a dataframe:\n",
    "df_call = pd.DataFrame(data_call_fixed, columns=['Strike Price','Time to Maturity','Call Price'])\n",
    "\n",
    "# create pivot table with x and rows, y and columns, z as values\n",
    "df_call.pivot_table(values='Call Price', index='Strike Price', columns='Time to Maturity') "
   ]
  },
  {
   "cell_type": "code",
   "execution_count": 122,
   "id": "d8c89380",
   "metadata": {},
   "outputs": [
    {
     "name": "stdout",
     "output_type": "stream",
     "text": [
      "Put Price for Fixed Strike - Geometric average - Continuous Sampling with varying Strike Price and Time to Maturity is -\n"
     ]
    },
    {
     "data": {
      "text/html": [
       "<div>\n",
       "<style scoped>\n",
       "    .dataframe tbody tr th:only-of-type {\n",
       "        vertical-align: middle;\n",
       "    }\n",
       "\n",
       "    .dataframe tbody tr th {\n",
       "        vertical-align: top;\n",
       "    }\n",
       "\n",
       "    .dataframe thead th {\n",
       "        text-align: right;\n",
       "    }\n",
       "</style>\n",
       "<table border=\"1\" class=\"dataframe\">\n",
       "  <thead>\n",
       "    <tr style=\"text-align: right;\">\n",
       "      <th>Time to Maturity</th>\n",
       "      <th>0.25</th>\n",
       "      <th>0.50</th>\n",
       "      <th>1.00</th>\n",
       "      <th>1.50</th>\n",
       "      <th>2.00</th>\n",
       "    </tr>\n",
       "    <tr>\n",
       "      <th>Strike Price</th>\n",
       "      <th></th>\n",
       "      <th></th>\n",
       "      <th></th>\n",
       "      <th></th>\n",
       "      <th></th>\n",
       "    </tr>\n",
       "  </thead>\n",
       "  <tbody>\n",
       "    <tr>\n",
       "      <th>80</th>\n",
       "      <td>0.003946</td>\n",
       "      <td>0.015716</td>\n",
       "      <td>0.085513</td>\n",
       "      <td>0.194477</td>\n",
       "      <td>0.318261</td>\n",
       "    </tr>\n",
       "    <tr>\n",
       "      <th>90</th>\n",
       "      <td>0.755760</td>\n",
       "      <td>0.618224</td>\n",
       "      <td>0.941503</td>\n",
       "      <td>1.264668</td>\n",
       "      <td>1.534026</td>\n",
       "    </tr>\n",
       "    <tr>\n",
       "      <th>100</th>\n",
       "      <td>6.783389</td>\n",
       "      <td>4.491079</td>\n",
       "      <td>4.199634</td>\n",
       "      <td>4.365833</td>\n",
       "      <td>4.536557</td>\n",
       "    </tr>\n",
       "    <tr>\n",
       "      <th>110</th>\n",
       "      <td>16.378360</td>\n",
       "      <td>12.493921</td>\n",
       "      <td>10.588868</td>\n",
       "      <td>9.997192</td>\n",
       "      <td>9.676759</td>\n",
       "    </tr>\n",
       "    <tr>\n",
       "      <th>120</th>\n",
       "      <td>26.251983</td>\n",
       "      <td>22.029043</td>\n",
       "      <td>19.045958</td>\n",
       "      <td>17.588206</td>\n",
       "      <td>16.603120</td>\n",
       "    </tr>\n",
       "  </tbody>\n",
       "</table>\n",
       "</div>"
      ],
      "text/plain": [
       "Time to Maturity       0.25       0.50       1.00       1.50       2.00\n",
       "Strike Price                                                           \n",
       "80                 0.003946   0.015716   0.085513   0.194477   0.318261\n",
       "90                 0.755760   0.618224   0.941503   1.264668   1.534026\n",
       "100                6.783389   4.491079   4.199634   4.365833   4.536557\n",
       "110               16.378360  12.493921  10.588868   9.997192   9.676759\n",
       "120               26.251983  22.029043  19.045958  17.588206  16.603120"
      ]
     },
     "execution_count": 122,
     "metadata": {},
     "output_type": "execute_result"
    }
   ],
   "source": [
    "print(\"Put Price for Fixed Strike - Geometric average - Continuous Sampling with varying Strike Price and Time to Maturity is -\")       \n",
    "\n",
    "# read it into a dataframe:\n",
    "df_put = pd.DataFrame(data_put_fixed, columns=['Strike Price','Time to Maturity','Put Price'])\n",
    "\n",
    "# create pivot table with x and rows, y and columns, z as values\n",
    "df_put.pivot_table(values='Put Price', index='Strike Price', columns='Time to Maturity') "
   ]
  },
  {
   "cell_type": "code",
   "execution_count": 123,
   "id": "e71dd62e",
   "metadata": {},
   "outputs": [
    {
     "name": "stdout",
     "output_type": "stream",
     "text": [
      "Call Price for Float Strike - Geometric average - Continuous Sampling with varying Strike Price and Time to Maturity is -\n"
     ]
    },
    {
     "data": {
      "text/html": [
       "<div>\n",
       "<style scoped>\n",
       "    .dataframe tbody tr th:only-of-type {\n",
       "        vertical-align: middle;\n",
       "    }\n",
       "\n",
       "    .dataframe tbody tr th {\n",
       "        vertical-align: top;\n",
       "    }\n",
       "\n",
       "    .dataframe thead th {\n",
       "        text-align: right;\n",
       "    }\n",
       "</style>\n",
       "<table border=\"1\" class=\"dataframe\">\n",
       "  <thead>\n",
       "    <tr style=\"text-align: right;\">\n",
       "      <th>Time to Maturity</th>\n",
       "      <th>0.25</th>\n",
       "      <th>0.50</th>\n",
       "      <th>1.00</th>\n",
       "      <th>1.50</th>\n",
       "      <th>2.00</th>\n",
       "    </tr>\n",
       "  </thead>\n",
       "  <tbody>\n",
       "    <tr>\n",
       "      <th>Call Price</th>\n",
       "      <td>7.944808</td>\n",
       "      <td>6.273332</td>\n",
       "      <td>7.119797</td>\n",
       "      <td>8.601731</td>\n",
       "      <td>10.0017</td>\n",
       "    </tr>\n",
       "  </tbody>\n",
       "</table>\n",
       "</div>"
      ],
      "text/plain": [
       "Time to Maturity      0.25      0.50      1.00      1.50     2.00\n",
       "Call Price        7.944808  6.273332  7.119797  8.601731  10.0017"
      ]
     },
     "execution_count": 123,
     "metadata": {},
     "output_type": "execute_result"
    }
   ],
   "source": [
    "print(\"Call Price for Float Strike - Geometric average - Continuous Sampling with varying Strike Price and Time to Maturity is -\")       \n",
    "\n",
    "# read it into a dataframe:\n",
    "df_call = pd.DataFrame(data_call_float, columns=['Time to Maturity','Call Price'])\n",
    "\n",
    "# create pivot table with x and rows, y and columns, z as values\n",
    "df_call.pivot_table(values='Call Price', columns='Time to Maturity') "
   ]
  },
  {
   "cell_type": "code",
   "execution_count": 124,
   "id": "81e1fa13",
   "metadata": {
    "scrolled": true
   },
   "outputs": [
    {
     "name": "stdout",
     "output_type": "stream",
     "text": [
      "Put Price for Float Strike - Geometric average - Continuous Sampling with varying Strike Price and Time to Maturity is -\n"
     ]
    },
    {
     "data": {
      "text/html": [
       "<div>\n",
       "<style scoped>\n",
       "    .dataframe tbody tr th:only-of-type {\n",
       "        vertical-align: middle;\n",
       "    }\n",
       "\n",
       "    .dataframe tbody tr th {\n",
       "        vertical-align: top;\n",
       "    }\n",
       "\n",
       "    .dataframe thead th {\n",
       "        text-align: right;\n",
       "    }\n",
       "</style>\n",
       "<table border=\"1\" class=\"dataframe\">\n",
       "  <thead>\n",
       "    <tr style=\"text-align: right;\">\n",
       "      <th>Time to Maturity</th>\n",
       "      <th>0.25</th>\n",
       "      <th>0.50</th>\n",
       "      <th>1.00</th>\n",
       "      <th>1.50</th>\n",
       "      <th>2.00</th>\n",
       "    </tr>\n",
       "  </thead>\n",
       "  <tbody>\n",
       "    <tr>\n",
       "      <th>Put Price</th>\n",
       "      <td>0.217139</td>\n",
       "      <td>1.298854</td>\n",
       "      <td>2.614095</td>\n",
       "      <td>3.229343</td>\n",
       "      <td>3.62651</td>\n",
       "    </tr>\n",
       "  </tbody>\n",
       "</table>\n",
       "</div>"
      ],
      "text/plain": [
       "Time to Maturity      0.25      0.50      1.00      1.50     2.00\n",
       "Put Price         0.217139  1.298854  2.614095  3.229343  3.62651"
      ]
     },
     "execution_count": 124,
     "metadata": {},
     "output_type": "execute_result"
    }
   ],
   "source": [
    "print(\"Put Price for Float Strike - Geometric average - Continuous Sampling with varying Strike Price and Time to Maturity is -\")       \n",
    "\n",
    "# read it into a dataframe:\n",
    "df_put = pd.DataFrame(data_put_float, columns=['Time to Maturity','Put Price'])\n",
    "\n",
    "# create pivot table with x and rows, y and columns, z as values\n",
    "df_put.pivot_table(values='Put Price', columns='Time to Maturity') "
   ]
  },
  {
   "cell_type": "markdown",
   "id": "430ec9d1",
   "metadata": {},
   "source": [
    "Observation and Inference -\n",
    "1. Call Option - Call Price decreases as Strike Price Increases. As time to maturity increases the Call price increases.\n",
    "2. Put Option - Put Price increases as Strike Price Increases. As time to maturity increases the Put price decreases for Strike greater than 100 (S0-Initial Stock Price) and increases for Strike Price less than equal to S0.\n",
    "\n",
    "As time increases the probability of Stock price to go above the current Price increases as the drift term is mainly positive."
   ]
  },
  {
   "cell_type": "markdown",
   "id": "209244fe",
   "metadata": {},
   "source": [
    "<u><b>REFERENCES FOR ANSWERS</b></u>\n",
    "\n",
    "For answering the questions following materials were referred -\n",
    "\n",
    "1. CQF tutorials and workings shared by the CQF Instructors.\n",
    "2. CQF books provided.\n",
    "3. ChatGPT\n",
    "4. Gemini (previously Bard)"
   ]
  }
 ],
 "metadata": {
  "kernelspec": {
   "display_name": "Python 3 (ipykernel)",
   "language": "python",
   "name": "python3"
  },
  "language_info": {
   "codemirror_mode": {
    "name": "ipython",
    "version": 3
   },
   "file_extension": ".py",
   "mimetype": "text/x-python",
   "name": "python",
   "nbconvert_exporter": "python",
   "pygments_lexer": "ipython3",
   "version": "3.9.16"
  },
  "latex_envs": {
   "LaTeX_envs_menu_present": true,
   "autoclose": false,
   "autocomplete": true,
   "bibliofile": "biblio.bib",
   "cite_by": "apalike",
   "current_citInitial": 1,
   "eqLabelWithNumbers": true,
   "eqNumInitial": 1,
   "hotkeys": {
    "equation": "Ctrl-E",
    "itemize": "Ctrl-I"
   },
   "labels_anchors": false,
   "latex_user_defs": false,
   "report_style_numbering": false,
   "user_envs_cfg": false
  },
  "varInspector": {
   "cols": {
    "lenName": 16,
    "lenType": 16,
    "lenVar": 40
   },
   "kernels_config": {
    "python": {
     "delete_cmd_postfix": "",
     "delete_cmd_prefix": "del ",
     "library": "var_list.py",
     "varRefreshCmd": "print(var_dic_list())"
    },
    "r": {
     "delete_cmd_postfix": ") ",
     "delete_cmd_prefix": "rm(",
     "library": "var_list.r",
     "varRefreshCmd": "cat(var_dic_list()) "
    }
   },
   "types_to_exclude": [
    "module",
    "function",
    "builtin_function_or_method",
    "instance",
    "_Feature"
   ],
   "window_display": false
  }
 },
 "nbformat": 4,
 "nbformat_minor": 5
}
